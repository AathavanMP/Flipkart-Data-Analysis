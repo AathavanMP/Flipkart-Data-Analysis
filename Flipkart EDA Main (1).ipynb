{
 "cells": [
  {
   "cell_type": "markdown",
   "id": "057068e4",
   "metadata": {},
   "source": [
    "# Importing Libraries"
   ]
  },
  {
   "cell_type": "code",
   "execution_count": 541,
   "id": "4466b9c8",
   "metadata": {},
   "outputs": [],
   "source": [
    "import pandas as pd\n",
    "import numpy as np\n",
    "import matplotlib as mat\n",
    "import matplotlib.pyplot as plt\n",
    "import seaborn as sns\n",
    "%matplotlib inline\n",
    "\n",
    "pd.pandas.set_option('display.max_columns',None)\n",
    "\n",
    "                     \n",
    "import warnings as ws\n",
    "ws.simplefilter(action = 'ignore', category = FutureWarning)\n",
    "\n",
    "mat.rcParams['figure.figsize'] = (12,6)"
   ]
  },
  {
   "cell_type": "markdown",
   "id": "e87fdaf5",
   "metadata": {},
   "source": [
    "# Importing Dataset:"
   ]
  },
  {
   "cell_type": "code",
   "execution_count": 448,
   "id": "fe2321cb",
   "metadata": {},
   "outputs": [],
   "source": [
    "df = pd.read_csv(r'C:\\Users\\Admin\\Downloads\\Products1.csv')"
   ]
  },
  {
   "cell_type": "code",
   "execution_count": 449,
   "id": "1be8f5f8",
   "metadata": {},
   "outputs": [
    {
     "data": {
      "text/html": [
       "<div>\n",
       "<style scoped>\n",
       "    .dataframe tbody tr th:only-of-type {\n",
       "        vertical-align: middle;\n",
       "    }\n",
       "\n",
       "    .dataframe tbody tr th {\n",
       "        vertical-align: top;\n",
       "    }\n",
       "\n",
       "    .dataframe thead th {\n",
       "        text-align: right;\n",
       "    }\n",
       "</style>\n",
       "<table border=\"1\" class=\"dataframe\">\n",
       "  <thead>\n",
       "    <tr style=\"text-align: right;\">\n",
       "      <th></th>\n",
       "      <th>Name</th>\n",
       "      <th>Sale_Price</th>\n",
       "      <th>Actual_price</th>\n",
       "      <th>Actual_Price1</th>\n",
       "      <th>Discount_Price</th>\n",
       "      <th>Discount(%)</th>\n",
       "      <th>Ratings</th>\n",
       "      <th>Rating_Counts</th>\n",
       "      <th>Review_Counts</th>\n",
       "      <th>Product_Details</th>\n",
       "    </tr>\n",
       "  </thead>\n",
       "  <tbody>\n",
       "    <tr>\n",
       "      <th>0</th>\n",
       "      <td>IAIR D23</td>\n",
       "      <td>1097</td>\n",
       "      <td>1099</td>\n",
       "      <td>1099</td>\n",
       "      <td>2</td>\n",
       "      <td>0.18</td>\n",
       "      <td>4.3</td>\n",
       "      <td>42</td>\n",
       "      <td>12</td>\n",
       "      <td>32 MB RAM | 32 MB ROM4.5 cm (1.77 inch) NA Dis...</td>\n",
       "    </tr>\n",
       "    <tr>\n",
       "      <th>1</th>\n",
       "      <td>IAIR D10</td>\n",
       "      <td>1161</td>\n",
       "      <td>1199</td>\n",
       "      <td>1199</td>\n",
       "      <td>38</td>\n",
       "      <td>3.17</td>\n",
       "      <td>4.0</td>\n",
       "      <td>37</td>\n",
       "      <td>19</td>\n",
       "      <td>32 MB RAM | 32 MB ROM4.5 cm (1.77 inch) Displa...</td>\n",
       "    </tr>\n",
       "    <tr>\n",
       "      <th>2</th>\n",
       "      <td>realme 9i (Prism Black, 128 GB)</td>\n",
       "      <td>11099</td>\n",
       "      <td>16999</td>\n",
       "      <td>16999</td>\n",
       "      <td>5900</td>\n",
       "      <td>34.71</td>\n",
       "      <td>4.5</td>\n",
       "      <td>88001</td>\n",
       "      <td>4862</td>\n",
       "      <td>4 GB RAM | 128 GB ROM | Expandable Upto 1 TB16...</td>\n",
       "    </tr>\n",
       "    <tr>\n",
       "      <th>3</th>\n",
       "      <td>realme 9i (Prism Blue, 128 GB)</td>\n",
       "      <td>11099</td>\n",
       "      <td>16999</td>\n",
       "      <td>16999</td>\n",
       "      <td>5900</td>\n",
       "      <td>34.71</td>\n",
       "      <td>4.5</td>\n",
       "      <td>88001</td>\n",
       "      <td>4862</td>\n",
       "      <td>4 GB RAM | 128 GB ROM | Expandable Upto 1 TB16...</td>\n",
       "    </tr>\n",
       "    <tr>\n",
       "      <th>4</th>\n",
       "      <td>realme C31 (Dark Green, 64 GB)</td>\n",
       "      <td>9999</td>\n",
       "      <td>11999</td>\n",
       "      <td>11999</td>\n",
       "      <td>2000</td>\n",
       "      <td>16.67</td>\n",
       "      <td>4.4</td>\n",
       "      <td>35514</td>\n",
       "      <td>1799</td>\n",
       "      <td>4 GB RAM | 64 GB ROM | Expandable Upto 1 TB16....</td>\n",
       "    </tr>\n",
       "  </tbody>\n",
       "</table>\n",
       "</div>"
      ],
      "text/plain": [
       "                              Name  Sale_Price  Actual_price  Actual_Price1  \\\n",
       "0                         IAIR D23        1097          1099           1099   \n",
       "1                         IAIR D10        1161          1199           1199   \n",
       "2  realme 9i (Prism Black, 128 GB)       11099         16999          16999   \n",
       "3   realme 9i (Prism Blue, 128 GB)       11099         16999          16999   \n",
       "4   realme C31 (Dark Green, 64 GB)        9999         11999          11999   \n",
       "\n",
       "   Discount_Price  Discount(%)  Ratings  Rating_Counts  Review_Counts  \\\n",
       "0               2         0.18      4.3             42             12   \n",
       "1              38         3.17      4.0             37             19   \n",
       "2            5900        34.71      4.5          88001           4862   \n",
       "3            5900        34.71      4.5          88001           4862   \n",
       "4            2000        16.67      4.4          35514           1799   \n",
       "\n",
       "                                     Product_Details  \n",
       "0  32 MB RAM | 32 MB ROM4.5 cm (1.77 inch) NA Dis...  \n",
       "1  32 MB RAM | 32 MB ROM4.5 cm (1.77 inch) Displa...  \n",
       "2  4 GB RAM | 128 GB ROM | Expandable Upto 1 TB16...  \n",
       "3  4 GB RAM | 128 GB ROM | Expandable Upto 1 TB16...  \n",
       "4  4 GB RAM | 64 GB ROM | Expandable Upto 1 TB16....  "
      ]
     },
     "execution_count": 449,
     "metadata": {},
     "output_type": "execute_result"
    }
   ],
   "source": [
    "df.head()"
   ]
  },
  {
   "cell_type": "code",
   "execution_count": 450,
   "id": "ea073a1d",
   "metadata": {},
   "outputs": [],
   "source": [
    "df.drop(['Actual_Price1'], axis = 1, inplace = True)"
   ]
  },
  {
   "cell_type": "raw",
   "id": "370b944e",
   "metadata": {},
   "source": [
    "Removed the column \"Actual_Price1\"."
   ]
  },
  {
   "cell_type": "markdown",
   "id": "581c5d37",
   "metadata": {},
   "source": [
    "# Exploring The Dataset:"
   ]
  },
  {
   "cell_type": "code",
   "execution_count": 451,
   "id": "f7aab04e",
   "metadata": {},
   "outputs": [
    {
     "name": "stdout",
     "output_type": "stream",
     "text": [
      "<class 'pandas.core.frame.DataFrame'>\n",
      "RangeIndex: 984 entries, 0 to 983\n",
      "Data columns (total 9 columns):\n",
      " #   Column           Non-Null Count  Dtype  \n",
      "---  ------           --------------  -----  \n",
      " 0   Name             984 non-null    object \n",
      " 1   Sale_Price       984 non-null    int64  \n",
      " 2   Actual_price     984 non-null    int64  \n",
      " 3   Discount_Price   984 non-null    int64  \n",
      " 4   Discount(%)      984 non-null    float64\n",
      " 5   Ratings          984 non-null    float64\n",
      " 6   Rating_Counts    984 non-null    int64  \n",
      " 7   Review_Counts    984 non-null    int64  \n",
      " 8   Product_Details  984 non-null    object \n",
      "dtypes: float64(2), int64(5), object(2)\n",
      "memory usage: 69.3+ KB\n"
     ]
    }
   ],
   "source": [
    "df.info()"
   ]
  },
  {
   "cell_type": "code",
   "execution_count": 452,
   "id": "7162721d",
   "metadata": {},
   "outputs": [
    {
     "data": {
      "text/html": [
       "<div>\n",
       "<style scoped>\n",
       "    .dataframe tbody tr th:only-of-type {\n",
       "        vertical-align: middle;\n",
       "    }\n",
       "\n",
       "    .dataframe tbody tr th {\n",
       "        vertical-align: top;\n",
       "    }\n",
       "\n",
       "    .dataframe thead th {\n",
       "        text-align: right;\n",
       "    }\n",
       "</style>\n",
       "<table border=\"1\" class=\"dataframe\">\n",
       "  <thead>\n",
       "    <tr style=\"text-align: right;\">\n",
       "      <th></th>\n",
       "      <th>Sale_Price</th>\n",
       "      <th>Actual_price</th>\n",
       "      <th>Discount_Price</th>\n",
       "      <th>Discount(%)</th>\n",
       "      <th>Ratings</th>\n",
       "      <th>Rating_Counts</th>\n",
       "      <th>Review_Counts</th>\n",
       "    </tr>\n",
       "  </thead>\n",
       "  <tbody>\n",
       "    <tr>\n",
       "      <th>count</th>\n",
       "      <td>984.000000</td>\n",
       "      <td>984.000000</td>\n",
       "      <td>984.000000</td>\n",
       "      <td>984.000000</td>\n",
       "      <td>984.000000</td>\n",
       "      <td>984.000000</td>\n",
       "      <td>984.000000</td>\n",
       "    </tr>\n",
       "    <tr>\n",
       "      <th>mean</th>\n",
       "      <td>13022.112805</td>\n",
       "      <td>15602.795732</td>\n",
       "      <td>2580.682927</td>\n",
       "      <td>11.798801</td>\n",
       "      <td>4.105488</td>\n",
       "      <td>24793.230691</td>\n",
       "      <td>1826.095528</td>\n",
       "    </tr>\n",
       "    <tr>\n",
       "      <th>std</th>\n",
       "      <td>15050.019752</td>\n",
       "      <td>17409.896230</td>\n",
       "      <td>4173.360612</td>\n",
       "      <td>12.856425</td>\n",
       "      <td>0.642406</td>\n",
       "      <td>55171.062052</td>\n",
       "      <td>3909.213997</td>\n",
       "    </tr>\n",
       "    <tr>\n",
       "      <th>min</th>\n",
       "      <td>719.000000</td>\n",
       "      <td>749.000000</td>\n",
       "      <td>0.000000</td>\n",
       "      <td>0.000000</td>\n",
       "      <td>0.000000</td>\n",
       "      <td>0.000000</td>\n",
       "      <td>0.000000</td>\n",
       "    </tr>\n",
       "    <tr>\n",
       "      <th>25%</th>\n",
       "      <td>1387.500000</td>\n",
       "      <td>1460.500000</td>\n",
       "      <td>0.000000</td>\n",
       "      <td>0.000000</td>\n",
       "      <td>4.100000</td>\n",
       "      <td>268.250000</td>\n",
       "      <td>26.000000</td>\n",
       "    </tr>\n",
       "    <tr>\n",
       "      <th>50%</th>\n",
       "      <td>10999.000000</td>\n",
       "      <td>13484.500000</td>\n",
       "      <td>320.500000</td>\n",
       "      <td>7.870000</td>\n",
       "      <td>4.200000</td>\n",
       "      <td>3519.000000</td>\n",
       "      <td>304.000000</td>\n",
       "    </tr>\n",
       "    <tr>\n",
       "      <th>75%</th>\n",
       "      <td>16492.250000</td>\n",
       "      <td>19999.000000</td>\n",
       "      <td>4500.000000</td>\n",
       "      <td>22.500000</td>\n",
       "      <td>4.300000</td>\n",
       "      <td>20151.000000</td>\n",
       "      <td>1823.500000</td>\n",
       "    </tr>\n",
       "    <tr>\n",
       "      <th>max</th>\n",
       "      <td>139900.000000</td>\n",
       "      <td>139900.000000</td>\n",
       "      <td>40000.000000</td>\n",
       "      <td>60.020000</td>\n",
       "      <td>5.000000</td>\n",
       "      <td>571532.000000</td>\n",
       "      <td>34624.000000</td>\n",
       "    </tr>\n",
       "  </tbody>\n",
       "</table>\n",
       "</div>"
      ],
      "text/plain": [
       "          Sale_Price   Actual_price  Discount_Price  Discount(%)     Ratings  \\\n",
       "count     984.000000     984.000000      984.000000   984.000000  984.000000   \n",
       "mean    13022.112805   15602.795732     2580.682927    11.798801    4.105488   \n",
       "std     15050.019752   17409.896230     4173.360612    12.856425    0.642406   \n",
       "min       719.000000     749.000000        0.000000     0.000000    0.000000   \n",
       "25%      1387.500000    1460.500000        0.000000     0.000000    4.100000   \n",
       "50%     10999.000000   13484.500000      320.500000     7.870000    4.200000   \n",
       "75%     16492.250000   19999.000000     4500.000000    22.500000    4.300000   \n",
       "max    139900.000000  139900.000000    40000.000000    60.020000    5.000000   \n",
       "\n",
       "       Rating_Counts  Review_Counts  \n",
       "count     984.000000     984.000000  \n",
       "mean    24793.230691    1826.095528  \n",
       "std     55171.062052    3909.213997  \n",
       "min         0.000000       0.000000  \n",
       "25%       268.250000      26.000000  \n",
       "50%      3519.000000     304.000000  \n",
       "75%     20151.000000    1823.500000  \n",
       "max    571532.000000   34624.000000  "
      ]
     },
     "execution_count": 452,
     "metadata": {},
     "output_type": "execute_result"
    }
   ],
   "source": [
    "df.describe()"
   ]
  },
  {
   "cell_type": "code",
   "execution_count": 453,
   "id": "7e2a4298",
   "metadata": {},
   "outputs": [
    {
     "data": {
      "text/plain": [
       "(984, 9)"
      ]
     },
     "execution_count": 453,
     "metadata": {},
     "output_type": "execute_result"
    }
   ],
   "source": [
    "df.shape"
   ]
  },
  {
   "cell_type": "code",
   "execution_count": 454,
   "id": "7d810837",
   "metadata": {},
   "outputs": [
    {
     "data": {
      "text/plain": [
       "8856"
      ]
     },
     "execution_count": 454,
     "metadata": {},
     "output_type": "execute_result"
    }
   ],
   "source": [
    "df.size"
   ]
  },
  {
   "cell_type": "code",
   "execution_count": 455,
   "id": "48f05528",
   "metadata": {},
   "outputs": [
    {
     "data": {
      "text/plain": [
       "984"
      ]
     },
     "execution_count": 455,
     "metadata": {},
     "output_type": "execute_result"
    }
   ],
   "source": [
    "len(df)"
   ]
  },
  {
   "cell_type": "markdown",
   "id": "ef1b9b15",
   "metadata": {},
   "source": [
    "# Cleaning the Dataset:"
   ]
  },
  {
   "cell_type": "code",
   "execution_count": 456,
   "id": "e06a1cf2",
   "metadata": {},
   "outputs": [],
   "source": [
    "df['Color'] = df['Name'].str.split('(').str[1]\n",
    "df.Name = df['Name'].str.split('(').str[0]"
   ]
  },
  {
   "cell_type": "code",
   "execution_count": 457,
   "id": "6c1ef3fe",
   "metadata": {},
   "outputs": [
    {
     "data": {
      "text/html": [
       "<div>\n",
       "<style scoped>\n",
       "    .dataframe tbody tr th:only-of-type {\n",
       "        vertical-align: middle;\n",
       "    }\n",
       "\n",
       "    .dataframe tbody tr th {\n",
       "        vertical-align: top;\n",
       "    }\n",
       "\n",
       "    .dataframe thead th {\n",
       "        text-align: right;\n",
       "    }\n",
       "</style>\n",
       "<table border=\"1\" class=\"dataframe\">\n",
       "  <thead>\n",
       "    <tr style=\"text-align: right;\">\n",
       "      <th></th>\n",
       "      <th>Name</th>\n",
       "      <th>Sale_Price</th>\n",
       "      <th>Actual_price</th>\n",
       "      <th>Discount_Price</th>\n",
       "      <th>Discount(%)</th>\n",
       "      <th>Ratings</th>\n",
       "      <th>Rating_Counts</th>\n",
       "      <th>Review_Counts</th>\n",
       "      <th>Product_Details</th>\n",
       "      <th>Color</th>\n",
       "    </tr>\n",
       "  </thead>\n",
       "  <tbody>\n",
       "    <tr>\n",
       "      <th>0</th>\n",
       "      <td>IAIR D23</td>\n",
       "      <td>1097</td>\n",
       "      <td>1099</td>\n",
       "      <td>2</td>\n",
       "      <td>0.18</td>\n",
       "      <td>4.3</td>\n",
       "      <td>42</td>\n",
       "      <td>12</td>\n",
       "      <td>32 MB RAM | 32 MB ROM4.5 cm (1.77 inch) NA Dis...</td>\n",
       "      <td>NaN</td>\n",
       "    </tr>\n",
       "    <tr>\n",
       "      <th>1</th>\n",
       "      <td>IAIR D10</td>\n",
       "      <td>1161</td>\n",
       "      <td>1199</td>\n",
       "      <td>38</td>\n",
       "      <td>3.17</td>\n",
       "      <td>4.0</td>\n",
       "      <td>37</td>\n",
       "      <td>19</td>\n",
       "      <td>32 MB RAM | 32 MB ROM4.5 cm (1.77 inch) Displa...</td>\n",
       "      <td>NaN</td>\n",
       "    </tr>\n",
       "    <tr>\n",
       "      <th>2</th>\n",
       "      <td>realme 9i</td>\n",
       "      <td>11099</td>\n",
       "      <td>16999</td>\n",
       "      <td>5900</td>\n",
       "      <td>34.71</td>\n",
       "      <td>4.5</td>\n",
       "      <td>88001</td>\n",
       "      <td>4862</td>\n",
       "      <td>4 GB RAM | 128 GB ROM | Expandable Upto 1 TB16...</td>\n",
       "      <td>Prism Black, 128 GB)</td>\n",
       "    </tr>\n",
       "    <tr>\n",
       "      <th>3</th>\n",
       "      <td>realme 9i</td>\n",
       "      <td>11099</td>\n",
       "      <td>16999</td>\n",
       "      <td>5900</td>\n",
       "      <td>34.71</td>\n",
       "      <td>4.5</td>\n",
       "      <td>88001</td>\n",
       "      <td>4862</td>\n",
       "      <td>4 GB RAM | 128 GB ROM | Expandable Upto 1 TB16...</td>\n",
       "      <td>Prism Blue, 128 GB)</td>\n",
       "    </tr>\n",
       "    <tr>\n",
       "      <th>4</th>\n",
       "      <td>realme C31</td>\n",
       "      <td>9999</td>\n",
       "      <td>11999</td>\n",
       "      <td>2000</td>\n",
       "      <td>16.67</td>\n",
       "      <td>4.4</td>\n",
       "      <td>35514</td>\n",
       "      <td>1799</td>\n",
       "      <td>4 GB RAM | 64 GB ROM | Expandable Upto 1 TB16....</td>\n",
       "      <td>Dark Green, 64 GB)</td>\n",
       "    </tr>\n",
       "  </tbody>\n",
       "</table>\n",
       "</div>"
      ],
      "text/plain": [
       "          Name  Sale_Price  Actual_price  Discount_Price  Discount(%)  \\\n",
       "0     IAIR D23        1097          1099               2         0.18   \n",
       "1     IAIR D10        1161          1199              38         3.17   \n",
       "2   realme 9i        11099         16999            5900        34.71   \n",
       "3   realme 9i        11099         16999            5900        34.71   \n",
       "4  realme C31         9999         11999            2000        16.67   \n",
       "\n",
       "   Ratings  Rating_Counts  Review_Counts  \\\n",
       "0      4.3             42             12   \n",
       "1      4.0             37             19   \n",
       "2      4.5          88001           4862   \n",
       "3      4.5          88001           4862   \n",
       "4      4.4          35514           1799   \n",
       "\n",
       "                                     Product_Details                 Color  \n",
       "0  32 MB RAM | 32 MB ROM4.5 cm (1.77 inch) NA Dis...                   NaN  \n",
       "1  32 MB RAM | 32 MB ROM4.5 cm (1.77 inch) Displa...                   NaN  \n",
       "2  4 GB RAM | 128 GB ROM | Expandable Upto 1 TB16...  Prism Black, 128 GB)  \n",
       "3  4 GB RAM | 128 GB ROM | Expandable Upto 1 TB16...   Prism Blue, 128 GB)  \n",
       "4  4 GB RAM | 64 GB ROM | Expandable Upto 1 TB16....    Dark Green, 64 GB)  "
      ]
     },
     "execution_count": 457,
     "metadata": {},
     "output_type": "execute_result"
    }
   ],
   "source": [
    "df.head()"
   ]
  },
  {
   "cell_type": "code",
   "execution_count": 458,
   "id": "91004e8a",
   "metadata": {},
   "outputs": [],
   "source": [
    "df['Internal_storage'] = df['Color'].str.split(',').str[1].str.replace(')','')\n",
    "df.Color = df['Color'].str.split(',').str[0]"
   ]
  },
  {
   "cell_type": "code",
   "execution_count": 459,
   "id": "a616c74c",
   "metadata": {},
   "outputs": [
    {
     "data": {
      "text/html": [
       "<div>\n",
       "<style scoped>\n",
       "    .dataframe tbody tr th:only-of-type {\n",
       "        vertical-align: middle;\n",
       "    }\n",
       "\n",
       "    .dataframe tbody tr th {\n",
       "        vertical-align: top;\n",
       "    }\n",
       "\n",
       "    .dataframe thead th {\n",
       "        text-align: right;\n",
       "    }\n",
       "</style>\n",
       "<table border=\"1\" class=\"dataframe\">\n",
       "  <thead>\n",
       "    <tr style=\"text-align: right;\">\n",
       "      <th></th>\n",
       "      <th>Name</th>\n",
       "      <th>Sale_Price</th>\n",
       "      <th>Actual_price</th>\n",
       "      <th>Discount_Price</th>\n",
       "      <th>Discount(%)</th>\n",
       "      <th>Ratings</th>\n",
       "      <th>Rating_Counts</th>\n",
       "      <th>Review_Counts</th>\n",
       "      <th>Product_Details</th>\n",
       "      <th>Color</th>\n",
       "      <th>Internal_storage</th>\n",
       "    </tr>\n",
       "  </thead>\n",
       "  <tbody>\n",
       "    <tr>\n",
       "      <th>0</th>\n",
       "      <td>IAIR D23</td>\n",
       "      <td>1097</td>\n",
       "      <td>1099</td>\n",
       "      <td>2</td>\n",
       "      <td>0.18</td>\n",
       "      <td>4.3</td>\n",
       "      <td>42</td>\n",
       "      <td>12</td>\n",
       "      <td>32 MB RAM | 32 MB ROM4.5 cm (1.77 inch) NA Dis...</td>\n",
       "      <td>NaN</td>\n",
       "      <td>NaN</td>\n",
       "    </tr>\n",
       "    <tr>\n",
       "      <th>1</th>\n",
       "      <td>IAIR D10</td>\n",
       "      <td>1161</td>\n",
       "      <td>1199</td>\n",
       "      <td>38</td>\n",
       "      <td>3.17</td>\n",
       "      <td>4.0</td>\n",
       "      <td>37</td>\n",
       "      <td>19</td>\n",
       "      <td>32 MB RAM | 32 MB ROM4.5 cm (1.77 inch) Displa...</td>\n",
       "      <td>NaN</td>\n",
       "      <td>NaN</td>\n",
       "    </tr>\n",
       "    <tr>\n",
       "      <th>2</th>\n",
       "      <td>realme 9i</td>\n",
       "      <td>11099</td>\n",
       "      <td>16999</td>\n",
       "      <td>5900</td>\n",
       "      <td>34.71</td>\n",
       "      <td>4.5</td>\n",
       "      <td>88001</td>\n",
       "      <td>4862</td>\n",
       "      <td>4 GB RAM | 128 GB ROM | Expandable Upto 1 TB16...</td>\n",
       "      <td>Prism Black</td>\n",
       "      <td>128 GB</td>\n",
       "    </tr>\n",
       "    <tr>\n",
       "      <th>3</th>\n",
       "      <td>realme 9i</td>\n",
       "      <td>11099</td>\n",
       "      <td>16999</td>\n",
       "      <td>5900</td>\n",
       "      <td>34.71</td>\n",
       "      <td>4.5</td>\n",
       "      <td>88001</td>\n",
       "      <td>4862</td>\n",
       "      <td>4 GB RAM | 128 GB ROM | Expandable Upto 1 TB16...</td>\n",
       "      <td>Prism Blue</td>\n",
       "      <td>128 GB</td>\n",
       "    </tr>\n",
       "    <tr>\n",
       "      <th>4</th>\n",
       "      <td>realme C31</td>\n",
       "      <td>9999</td>\n",
       "      <td>11999</td>\n",
       "      <td>2000</td>\n",
       "      <td>16.67</td>\n",
       "      <td>4.4</td>\n",
       "      <td>35514</td>\n",
       "      <td>1799</td>\n",
       "      <td>4 GB RAM | 64 GB ROM | Expandable Upto 1 TB16....</td>\n",
       "      <td>Dark Green</td>\n",
       "      <td>64 GB</td>\n",
       "    </tr>\n",
       "  </tbody>\n",
       "</table>\n",
       "</div>"
      ],
      "text/plain": [
       "          Name  Sale_Price  Actual_price  Discount_Price  Discount(%)  \\\n",
       "0     IAIR D23        1097          1099               2         0.18   \n",
       "1     IAIR D10        1161          1199              38         3.17   \n",
       "2   realme 9i        11099         16999            5900        34.71   \n",
       "3   realme 9i        11099         16999            5900        34.71   \n",
       "4  realme C31         9999         11999            2000        16.67   \n",
       "\n",
       "   Ratings  Rating_Counts  Review_Counts  \\\n",
       "0      4.3             42             12   \n",
       "1      4.0             37             19   \n",
       "2      4.5          88001           4862   \n",
       "3      4.5          88001           4862   \n",
       "4      4.4          35514           1799   \n",
       "\n",
       "                                     Product_Details        Color  \\\n",
       "0  32 MB RAM | 32 MB ROM4.5 cm (1.77 inch) NA Dis...          NaN   \n",
       "1  32 MB RAM | 32 MB ROM4.5 cm (1.77 inch) Displa...          NaN   \n",
       "2  4 GB RAM | 128 GB ROM | Expandable Upto 1 TB16...  Prism Black   \n",
       "3  4 GB RAM | 128 GB ROM | Expandable Upto 1 TB16...   Prism Blue   \n",
       "4  4 GB RAM | 64 GB ROM | Expandable Upto 1 TB16....   Dark Green   \n",
       "\n",
       "  Internal_storage  \n",
       "0              NaN  \n",
       "1              NaN  \n",
       "2           128 GB  \n",
       "3           128 GB  \n",
       "4            64 GB  "
      ]
     },
     "execution_count": 459,
     "metadata": {},
     "output_type": "execute_result"
    }
   ],
   "source": [
    "df.head()"
   ]
  },
  {
   "cell_type": "markdown",
   "id": "f8bda184",
   "metadata": {},
   "source": [
    "### Finding the duplicate rows:"
   ]
  },
  {
   "cell_type": "code",
   "execution_count": 460,
   "id": "e70e3b2d",
   "metadata": {},
   "outputs": [],
   "source": [
    "dup = df[df.duplicated()]"
   ]
  },
  {
   "cell_type": "code",
   "execution_count": 461,
   "id": "041fe8ed",
   "metadata": {},
   "outputs": [
    {
     "data": {
      "text/html": [
       "<div>\n",
       "<style scoped>\n",
       "    .dataframe tbody tr th:only-of-type {\n",
       "        vertical-align: middle;\n",
       "    }\n",
       "\n",
       "    .dataframe tbody tr th {\n",
       "        vertical-align: top;\n",
       "    }\n",
       "\n",
       "    .dataframe thead th {\n",
       "        text-align: right;\n",
       "    }\n",
       "</style>\n",
       "<table border=\"1\" class=\"dataframe\">\n",
       "  <thead>\n",
       "    <tr style=\"text-align: right;\">\n",
       "      <th></th>\n",
       "      <th>Name</th>\n",
       "      <th>Sale_Price</th>\n",
       "      <th>Actual_price</th>\n",
       "      <th>Discount_Price</th>\n",
       "      <th>Discount(%)</th>\n",
       "      <th>Ratings</th>\n",
       "      <th>Rating_Counts</th>\n",
       "      <th>Review_Counts</th>\n",
       "      <th>Product_Details</th>\n",
       "      <th>Color</th>\n",
       "      <th>Internal_storage</th>\n",
       "    </tr>\n",
       "  </thead>\n",
       "  <tbody>\n",
       "    <tr>\n",
       "      <th>76</th>\n",
       "      <td>IAIR D23</td>\n",
       "      <td>1097</td>\n",
       "      <td>1099</td>\n",
       "      <td>2</td>\n",
       "      <td>0.18</td>\n",
       "      <td>4.3</td>\n",
       "      <td>42</td>\n",
       "      <td>12</td>\n",
       "      <td>32 MB RAM | 32 MB ROM4.5 cm (1.77 inch) NA Dis...</td>\n",
       "      <td>NaN</td>\n",
       "      <td>NaN</td>\n",
       "    </tr>\n",
       "    <tr>\n",
       "      <th>77</th>\n",
       "      <td>IAIR D10</td>\n",
       "      <td>1161</td>\n",
       "      <td>1199</td>\n",
       "      <td>38</td>\n",
       "      <td>3.17</td>\n",
       "      <td>4.0</td>\n",
       "      <td>37</td>\n",
       "      <td>19</td>\n",
       "      <td>32 MB RAM | 32 MB ROM4.5 cm (1.77 inch) Displa...</td>\n",
       "      <td>NaN</td>\n",
       "      <td>NaN</td>\n",
       "    </tr>\n",
       "    <tr>\n",
       "      <th>80</th>\n",
       "      <td>IAIR D40</td>\n",
       "      <td>1319</td>\n",
       "      <td>1319</td>\n",
       "      <td>0</td>\n",
       "      <td>0.00</td>\n",
       "      <td>3.9</td>\n",
       "      <td>22</td>\n",
       "      <td>13</td>\n",
       "      <td>32 MB RAM | 32 MB ROM5.08 cm (2 inch) NA Displ...</td>\n",
       "      <td>NaN</td>\n",
       "      <td>NaN</td>\n",
       "    </tr>\n",
       "    <tr>\n",
       "      <th>86</th>\n",
       "      <td>IAIR D24</td>\n",
       "      <td>1128</td>\n",
       "      <td>1128</td>\n",
       "      <td>0</td>\n",
       "      <td>0.00</td>\n",
       "      <td>3.8</td>\n",
       "      <td>77</td>\n",
       "      <td>26</td>\n",
       "      <td>32 MB RAM | 32 MB ROM4.5 cm (1.77 inch) NA Dis...</td>\n",
       "      <td>NaN</td>\n",
       "      <td>NaN</td>\n",
       "    </tr>\n",
       "    <tr>\n",
       "      <th>87</th>\n",
       "      <td>IAIR D41</td>\n",
       "      <td>1319</td>\n",
       "      <td>1319</td>\n",
       "      <td>0</td>\n",
       "      <td>0.00</td>\n",
       "      <td>3.4</td>\n",
       "      <td>24</td>\n",
       "      <td>7</td>\n",
       "      <td>32 MB RAM | 32 MB ROM5.08 cm (2 inch) NA Displ...</td>\n",
       "      <td>NaN</td>\n",
       "      <td>NaN</td>\n",
       "    </tr>\n",
       "    <tr>\n",
       "      <th>...</th>\n",
       "      <td>...</td>\n",
       "      <td>...</td>\n",
       "      <td>...</td>\n",
       "      <td>...</td>\n",
       "      <td>...</td>\n",
       "      <td>...</td>\n",
       "      <td>...</td>\n",
       "      <td>...</td>\n",
       "      <td>...</td>\n",
       "      <td>...</td>\n",
       "      <td>...</td>\n",
       "    </tr>\n",
       "    <tr>\n",
       "      <th>967</th>\n",
       "      <td>Kechaoda K33</td>\n",
       "      <td>1139</td>\n",
       "      <td>1139</td>\n",
       "      <td>0</td>\n",
       "      <td>0.00</td>\n",
       "      <td>4.0</td>\n",
       "      <td>7835</td>\n",
       "      <td>528</td>\n",
       "      <td>32 MB RAM | 32 MB ROM3.56 cm (1.4 inch) Displa...</td>\n",
       "      <td>NaN</td>\n",
       "      <td>NaN</td>\n",
       "    </tr>\n",
       "    <tr>\n",
       "      <th>968</th>\n",
       "      <td>Kechaoda K33</td>\n",
       "      <td>1145</td>\n",
       "      <td>1199</td>\n",
       "      <td>54</td>\n",
       "      <td>4.50</td>\n",
       "      <td>4.0</td>\n",
       "      <td>7835</td>\n",
       "      <td>528</td>\n",
       "      <td>32 MB RAM | 32 MB ROM3.56 cm (1.4 inch) Displa...</td>\n",
       "      <td>NaN</td>\n",
       "      <td>NaN</td>\n",
       "    </tr>\n",
       "    <tr>\n",
       "      <th>969</th>\n",
       "      <td>Kechaoda K33</td>\n",
       "      <td>1139</td>\n",
       "      <td>1139</td>\n",
       "      <td>0</td>\n",
       "      <td>0.00</td>\n",
       "      <td>4.0</td>\n",
       "      <td>7835</td>\n",
       "      <td>528</td>\n",
       "      <td>32 MB RAM | 32 MB ROM3.56 cm (1.4 inch) Displa...</td>\n",
       "      <td>NaN</td>\n",
       "      <td>NaN</td>\n",
       "    </tr>\n",
       "    <tr>\n",
       "      <th>978</th>\n",
       "      <td>Itel IT2163</td>\n",
       "      <td>1095</td>\n",
       "      <td>1095</td>\n",
       "      <td>0</td>\n",
       "      <td>0.00</td>\n",
       "      <td>4.1</td>\n",
       "      <td>12054</td>\n",
       "      <td>1016</td>\n",
       "      <td>4 MB RAM | 4 MB ROM | Expandable Upto 32 GB4.5...</td>\n",
       "      <td>NaN</td>\n",
       "      <td>NaN</td>\n",
       "    </tr>\n",
       "    <tr>\n",
       "      <th>979</th>\n",
       "      <td>Nuvo FLASH</td>\n",
       "      <td>899</td>\n",
       "      <td>899</td>\n",
       "      <td>0</td>\n",
       "      <td>0.00</td>\n",
       "      <td>3.7</td>\n",
       "      <td>801</td>\n",
       "      <td>82</td>\n",
       "      <td>32 MB RAM | 32 MB ROM | Expandable Upto 16 GB6...</td>\n",
       "      <td>NaN</td>\n",
       "      <td>NaN</td>\n",
       "    </tr>\n",
       "  </tbody>\n",
       "</table>\n",
       "<p>153 rows × 11 columns</p>\n",
       "</div>"
      ],
      "text/plain": [
       "             Name  Sale_Price  Actual_price  Discount_Price  Discount(%)  \\\n",
       "76       IAIR D23        1097          1099               2         0.18   \n",
       "77       IAIR D10        1161          1199              38         3.17   \n",
       "80       IAIR D40        1319          1319               0         0.00   \n",
       "86       IAIR D24        1128          1128               0         0.00   \n",
       "87       IAIR D41        1319          1319               0         0.00   \n",
       "..            ...         ...           ...             ...          ...   \n",
       "967  Kechaoda K33        1139          1139               0         0.00   \n",
       "968  Kechaoda K33        1145          1199              54         4.50   \n",
       "969  Kechaoda K33        1139          1139               0         0.00   \n",
       "978   Itel IT2163        1095          1095               0         0.00   \n",
       "979    Nuvo FLASH         899           899               0         0.00   \n",
       "\n",
       "     Ratings  Rating_Counts  Review_Counts  \\\n",
       "76       4.3             42             12   \n",
       "77       4.0             37             19   \n",
       "80       3.9             22             13   \n",
       "86       3.8             77             26   \n",
       "87       3.4             24              7   \n",
       "..       ...            ...            ...   \n",
       "967      4.0           7835            528   \n",
       "968      4.0           7835            528   \n",
       "969      4.0           7835            528   \n",
       "978      4.1          12054           1016   \n",
       "979      3.7            801             82   \n",
       "\n",
       "                                       Product_Details Color Internal_storage  \n",
       "76   32 MB RAM | 32 MB ROM4.5 cm (1.77 inch) NA Dis...   NaN              NaN  \n",
       "77   32 MB RAM | 32 MB ROM4.5 cm (1.77 inch) Displa...   NaN              NaN  \n",
       "80   32 MB RAM | 32 MB ROM5.08 cm (2 inch) NA Displ...   NaN              NaN  \n",
       "86   32 MB RAM | 32 MB ROM4.5 cm (1.77 inch) NA Dis...   NaN              NaN  \n",
       "87   32 MB RAM | 32 MB ROM5.08 cm (2 inch) NA Displ...   NaN              NaN  \n",
       "..                                                 ...   ...              ...  \n",
       "967  32 MB RAM | 32 MB ROM3.56 cm (1.4 inch) Displa...   NaN              NaN  \n",
       "968  32 MB RAM | 32 MB ROM3.56 cm (1.4 inch) Displa...   NaN              NaN  \n",
       "969  32 MB RAM | 32 MB ROM3.56 cm (1.4 inch) Displa...   NaN              NaN  \n",
       "978  4 MB RAM | 4 MB ROM | Expandable Upto 32 GB4.5...   NaN              NaN  \n",
       "979  32 MB RAM | 32 MB ROM | Expandable Upto 16 GB6...   NaN              NaN  \n",
       "\n",
       "[153 rows x 11 columns]"
      ]
     },
     "execution_count": 461,
     "metadata": {},
     "output_type": "execute_result"
    }
   ],
   "source": [
    "dup"
   ]
  },
  {
   "cell_type": "code",
   "execution_count": 462,
   "id": "e9ea59d2",
   "metadata": {},
   "outputs": [
    {
     "data": {
      "text/plain": [
       "153"
      ]
     },
     "execution_count": 462,
     "metadata": {},
     "output_type": "execute_result"
    }
   ],
   "source": [
    "len(dup)"
   ]
  },
  {
   "cell_type": "raw",
   "id": "1121df51",
   "metadata": {},
   "source": [
    "There are 153 duplicated columns present in this dataset. Let's drop the duplicated rows."
   ]
  },
  {
   "cell_type": "markdown",
   "id": "0f805c28",
   "metadata": {},
   "source": [
    "##### Drop the duplicates:"
   ]
  },
  {
   "cell_type": "code",
   "execution_count": 463,
   "id": "a04f435f",
   "metadata": {},
   "outputs": [],
   "source": [
    "df_new = df.drop_duplicates()\n",
    "df_new = df_new.reset_index(drop = True)              # In here, it will drop the old index."
   ]
  },
  {
   "cell_type": "code",
   "execution_count": 464,
   "id": "b42a0180",
   "metadata": {},
   "outputs": [
    {
     "data": {
      "text/html": [
       "<div>\n",
       "<style scoped>\n",
       "    .dataframe tbody tr th:only-of-type {\n",
       "        vertical-align: middle;\n",
       "    }\n",
       "\n",
       "    .dataframe tbody tr th {\n",
       "        vertical-align: top;\n",
       "    }\n",
       "\n",
       "    .dataframe thead th {\n",
       "        text-align: right;\n",
       "    }\n",
       "</style>\n",
       "<table border=\"1\" class=\"dataframe\">\n",
       "  <thead>\n",
       "    <tr style=\"text-align: right;\">\n",
       "      <th></th>\n",
       "      <th>Name</th>\n",
       "      <th>Sale_Price</th>\n",
       "      <th>Actual_price</th>\n",
       "      <th>Discount_Price</th>\n",
       "      <th>Discount(%)</th>\n",
       "      <th>Ratings</th>\n",
       "      <th>Rating_Counts</th>\n",
       "      <th>Review_Counts</th>\n",
       "      <th>Product_Details</th>\n",
       "      <th>Color</th>\n",
       "      <th>Internal_storage</th>\n",
       "    </tr>\n",
       "  </thead>\n",
       "  <tbody>\n",
       "    <tr>\n",
       "      <th>0</th>\n",
       "      <td>IAIR D23</td>\n",
       "      <td>1097</td>\n",
       "      <td>1099</td>\n",
       "      <td>2</td>\n",
       "      <td>0.18</td>\n",
       "      <td>4.3</td>\n",
       "      <td>42</td>\n",
       "      <td>12</td>\n",
       "      <td>32 MB RAM | 32 MB ROM4.5 cm (1.77 inch) NA Dis...</td>\n",
       "      <td>NaN</td>\n",
       "      <td>NaN</td>\n",
       "    </tr>\n",
       "    <tr>\n",
       "      <th>1</th>\n",
       "      <td>IAIR D10</td>\n",
       "      <td>1161</td>\n",
       "      <td>1199</td>\n",
       "      <td>38</td>\n",
       "      <td>3.17</td>\n",
       "      <td>4.0</td>\n",
       "      <td>37</td>\n",
       "      <td>19</td>\n",
       "      <td>32 MB RAM | 32 MB ROM4.5 cm (1.77 inch) Displa...</td>\n",
       "      <td>NaN</td>\n",
       "      <td>NaN</td>\n",
       "    </tr>\n",
       "    <tr>\n",
       "      <th>2</th>\n",
       "      <td>realme 9i</td>\n",
       "      <td>11099</td>\n",
       "      <td>16999</td>\n",
       "      <td>5900</td>\n",
       "      <td>34.71</td>\n",
       "      <td>4.5</td>\n",
       "      <td>88001</td>\n",
       "      <td>4862</td>\n",
       "      <td>4 GB RAM | 128 GB ROM | Expandable Upto 1 TB16...</td>\n",
       "      <td>Prism Black</td>\n",
       "      <td>128 GB</td>\n",
       "    </tr>\n",
       "    <tr>\n",
       "      <th>3</th>\n",
       "      <td>realme 9i</td>\n",
       "      <td>11099</td>\n",
       "      <td>16999</td>\n",
       "      <td>5900</td>\n",
       "      <td>34.71</td>\n",
       "      <td>4.5</td>\n",
       "      <td>88001</td>\n",
       "      <td>4862</td>\n",
       "      <td>4 GB RAM | 128 GB ROM | Expandable Upto 1 TB16...</td>\n",
       "      <td>Prism Blue</td>\n",
       "      <td>128 GB</td>\n",
       "    </tr>\n",
       "    <tr>\n",
       "      <th>4</th>\n",
       "      <td>realme C31</td>\n",
       "      <td>9999</td>\n",
       "      <td>11999</td>\n",
       "      <td>2000</td>\n",
       "      <td>16.67</td>\n",
       "      <td>4.4</td>\n",
       "      <td>35514</td>\n",
       "      <td>1799</td>\n",
       "      <td>4 GB RAM | 64 GB ROM | Expandable Upto 1 TB16....</td>\n",
       "      <td>Dark Green</td>\n",
       "      <td>64 GB</td>\n",
       "    </tr>\n",
       "  </tbody>\n",
       "</table>\n",
       "</div>"
      ],
      "text/plain": [
       "          Name  Sale_Price  Actual_price  Discount_Price  Discount(%)  \\\n",
       "0     IAIR D23        1097          1099               2         0.18   \n",
       "1     IAIR D10        1161          1199              38         3.17   \n",
       "2   realme 9i        11099         16999            5900        34.71   \n",
       "3   realme 9i        11099         16999            5900        34.71   \n",
       "4  realme C31         9999         11999            2000        16.67   \n",
       "\n",
       "   Ratings  Rating_Counts  Review_Counts  \\\n",
       "0      4.3             42             12   \n",
       "1      4.0             37             19   \n",
       "2      4.5          88001           4862   \n",
       "3      4.5          88001           4862   \n",
       "4      4.4          35514           1799   \n",
       "\n",
       "                                     Product_Details        Color  \\\n",
       "0  32 MB RAM | 32 MB ROM4.5 cm (1.77 inch) NA Dis...          NaN   \n",
       "1  32 MB RAM | 32 MB ROM4.5 cm (1.77 inch) Displa...          NaN   \n",
       "2  4 GB RAM | 128 GB ROM | Expandable Upto 1 TB16...  Prism Black   \n",
       "3  4 GB RAM | 128 GB ROM | Expandable Upto 1 TB16...   Prism Blue   \n",
       "4  4 GB RAM | 64 GB ROM | Expandable Upto 1 TB16....   Dark Green   \n",
       "\n",
       "  Internal_storage  \n",
       "0              NaN  \n",
       "1              NaN  \n",
       "2           128 GB  \n",
       "3           128 GB  \n",
       "4            64 GB  "
      ]
     },
     "execution_count": 464,
     "metadata": {},
     "output_type": "execute_result"
    }
   ],
   "source": [
    "df_new.head()"
   ]
  },
  {
   "cell_type": "code",
   "execution_count": 465,
   "id": "a3f60735",
   "metadata": {},
   "outputs": [
    {
     "data": {
      "text/plain": [
       "831"
      ]
     },
     "execution_count": 465,
     "metadata": {},
     "output_type": "execute_result"
    }
   ],
   "source": [
    "984-153    # all the duplicated values were removed."
   ]
  },
  {
   "cell_type": "code",
   "execution_count": 466,
   "id": "4a2ac5cb",
   "metadata": {},
   "outputs": [
    {
     "data": {
      "text/html": [
       "<div>\n",
       "<style scoped>\n",
       "    .dataframe tbody tr th:only-of-type {\n",
       "        vertical-align: middle;\n",
       "    }\n",
       "\n",
       "    .dataframe tbody tr th {\n",
       "        vertical-align: top;\n",
       "    }\n",
       "\n",
       "    .dataframe thead th {\n",
       "        text-align: right;\n",
       "    }\n",
       "</style>\n",
       "<table border=\"1\" class=\"dataframe\">\n",
       "  <thead>\n",
       "    <tr style=\"text-align: right;\">\n",
       "      <th></th>\n",
       "      <th>Name</th>\n",
       "      <th>Sale_Price</th>\n",
       "      <th>Actual_price</th>\n",
       "      <th>Discount_Price</th>\n",
       "      <th>Discount(%)</th>\n",
       "      <th>Ratings</th>\n",
       "      <th>Rating_Counts</th>\n",
       "      <th>Review_Counts</th>\n",
       "      <th>Product_Details</th>\n",
       "      <th>Color</th>\n",
       "      <th>Internal_storage</th>\n",
       "    </tr>\n",
       "  </thead>\n",
       "  <tbody>\n",
       "    <tr>\n",
       "      <th>0</th>\n",
       "      <td>IAIR D23</td>\n",
       "      <td>1097</td>\n",
       "      <td>1099</td>\n",
       "      <td>2</td>\n",
       "      <td>0.18</td>\n",
       "      <td>4.3</td>\n",
       "      <td>42</td>\n",
       "      <td>12</td>\n",
       "      <td>32 MB RAM | 32 MB ROM4.5 cm (1.77 inch) NA Dis...</td>\n",
       "      <td>NaN</td>\n",
       "      <td>NaN</td>\n",
       "    </tr>\n",
       "    <tr>\n",
       "      <th>1</th>\n",
       "      <td>IAIR D10</td>\n",
       "      <td>1161</td>\n",
       "      <td>1199</td>\n",
       "      <td>38</td>\n",
       "      <td>3.17</td>\n",
       "      <td>4.0</td>\n",
       "      <td>37</td>\n",
       "      <td>19</td>\n",
       "      <td>32 MB RAM | 32 MB ROM4.5 cm (1.77 inch) Displa...</td>\n",
       "      <td>NaN</td>\n",
       "      <td>NaN</td>\n",
       "    </tr>\n",
       "    <tr>\n",
       "      <th>2</th>\n",
       "      <td>realme 9i</td>\n",
       "      <td>11099</td>\n",
       "      <td>16999</td>\n",
       "      <td>5900</td>\n",
       "      <td>34.71</td>\n",
       "      <td>4.5</td>\n",
       "      <td>88001</td>\n",
       "      <td>4862</td>\n",
       "      <td>4 GB RAM | 128 GB ROM | Expandable Upto 1 TB16...</td>\n",
       "      <td>Prism Black</td>\n",
       "      <td>128 GB</td>\n",
       "    </tr>\n",
       "    <tr>\n",
       "      <th>3</th>\n",
       "      <td>realme 9i</td>\n",
       "      <td>11099</td>\n",
       "      <td>16999</td>\n",
       "      <td>5900</td>\n",
       "      <td>34.71</td>\n",
       "      <td>4.5</td>\n",
       "      <td>88001</td>\n",
       "      <td>4862</td>\n",
       "      <td>4 GB RAM | 128 GB ROM | Expandable Upto 1 TB16...</td>\n",
       "      <td>Prism Blue</td>\n",
       "      <td>128 GB</td>\n",
       "    </tr>\n",
       "    <tr>\n",
       "      <th>4</th>\n",
       "      <td>realme C31</td>\n",
       "      <td>9999</td>\n",
       "      <td>11999</td>\n",
       "      <td>2000</td>\n",
       "      <td>16.67</td>\n",
       "      <td>4.4</td>\n",
       "      <td>35514</td>\n",
       "      <td>1799</td>\n",
       "      <td>4 GB RAM | 64 GB ROM | Expandable Upto 1 TB16....</td>\n",
       "      <td>Dark Green</td>\n",
       "      <td>64 GB</td>\n",
       "    </tr>\n",
       "  </tbody>\n",
       "</table>\n",
       "</div>"
      ],
      "text/plain": [
       "          Name  Sale_Price  Actual_price  Discount_Price  Discount(%)  \\\n",
       "0     IAIR D23        1097          1099               2         0.18   \n",
       "1     IAIR D10        1161          1199              38         3.17   \n",
       "2   realme 9i        11099         16999            5900        34.71   \n",
       "3   realme 9i        11099         16999            5900        34.71   \n",
       "4  realme C31         9999         11999            2000        16.67   \n",
       "\n",
       "   Ratings  Rating_Counts  Review_Counts  \\\n",
       "0      4.3             42             12   \n",
       "1      4.0             37             19   \n",
       "2      4.5          88001           4862   \n",
       "3      4.5          88001           4862   \n",
       "4      4.4          35514           1799   \n",
       "\n",
       "                                     Product_Details        Color  \\\n",
       "0  32 MB RAM | 32 MB ROM4.5 cm (1.77 inch) NA Dis...          NaN   \n",
       "1  32 MB RAM | 32 MB ROM4.5 cm (1.77 inch) Displa...          NaN   \n",
       "2  4 GB RAM | 128 GB ROM | Expandable Upto 1 TB16...  Prism Black   \n",
       "3  4 GB RAM | 128 GB ROM | Expandable Upto 1 TB16...   Prism Blue   \n",
       "4  4 GB RAM | 64 GB ROM | Expandable Upto 1 TB16....   Dark Green   \n",
       "\n",
       "  Internal_storage  \n",
       "0              NaN  \n",
       "1              NaN  \n",
       "2           128 GB  \n",
       "3           128 GB  \n",
       "4            64 GB  "
      ]
     },
     "execution_count": 466,
     "metadata": {},
     "output_type": "execute_result"
    }
   ],
   "source": [
    "df.head()"
   ]
  },
  {
   "cell_type": "markdown",
   "id": "80070c16",
   "metadata": {},
   "source": [
    "## Segregating the Product Details into Each columns:"
   ]
  },
  {
   "cell_type": "markdown",
   "id": "639a359d",
   "metadata": {},
   "source": [
    "#### Brand_name:"
   ]
  },
  {
   "cell_type": "code",
   "execution_count": 467,
   "id": "e5acde60",
   "metadata": {},
   "outputs": [],
   "source": [
    "df_new['Brand_name'] = df_new['Name'].str.split(' ').str[0]"
   ]
  },
  {
   "cell_type": "code",
   "execution_count": 468,
   "id": "6ffb4129",
   "metadata": {},
   "outputs": [
    {
     "data": {
      "text/html": [
       "<div>\n",
       "<style scoped>\n",
       "    .dataframe tbody tr th:only-of-type {\n",
       "        vertical-align: middle;\n",
       "    }\n",
       "\n",
       "    .dataframe tbody tr th {\n",
       "        vertical-align: top;\n",
       "    }\n",
       "\n",
       "    .dataframe thead th {\n",
       "        text-align: right;\n",
       "    }\n",
       "</style>\n",
       "<table border=\"1\" class=\"dataframe\">\n",
       "  <thead>\n",
       "    <tr style=\"text-align: right;\">\n",
       "      <th></th>\n",
       "      <th>Name</th>\n",
       "      <th>Sale_Price</th>\n",
       "      <th>Actual_price</th>\n",
       "      <th>Discount_Price</th>\n",
       "      <th>Discount(%)</th>\n",
       "      <th>Ratings</th>\n",
       "      <th>Rating_Counts</th>\n",
       "      <th>Review_Counts</th>\n",
       "      <th>Product_Details</th>\n",
       "      <th>Color</th>\n",
       "      <th>Internal_storage</th>\n",
       "      <th>Brand_name</th>\n",
       "    </tr>\n",
       "  </thead>\n",
       "  <tbody>\n",
       "    <tr>\n",
       "      <th>0</th>\n",
       "      <td>IAIR D23</td>\n",
       "      <td>1097</td>\n",
       "      <td>1099</td>\n",
       "      <td>2</td>\n",
       "      <td>0.18</td>\n",
       "      <td>4.3</td>\n",
       "      <td>42</td>\n",
       "      <td>12</td>\n",
       "      <td>32 MB RAM | 32 MB ROM4.5 cm (1.77 inch) NA Dis...</td>\n",
       "      <td>NaN</td>\n",
       "      <td>NaN</td>\n",
       "      <td>IAIR</td>\n",
       "    </tr>\n",
       "    <tr>\n",
       "      <th>1</th>\n",
       "      <td>IAIR D10</td>\n",
       "      <td>1161</td>\n",
       "      <td>1199</td>\n",
       "      <td>38</td>\n",
       "      <td>3.17</td>\n",
       "      <td>4.0</td>\n",
       "      <td>37</td>\n",
       "      <td>19</td>\n",
       "      <td>32 MB RAM | 32 MB ROM4.5 cm (1.77 inch) Displa...</td>\n",
       "      <td>NaN</td>\n",
       "      <td>NaN</td>\n",
       "      <td>IAIR</td>\n",
       "    </tr>\n",
       "    <tr>\n",
       "      <th>2</th>\n",
       "      <td>realme 9i</td>\n",
       "      <td>11099</td>\n",
       "      <td>16999</td>\n",
       "      <td>5900</td>\n",
       "      <td>34.71</td>\n",
       "      <td>4.5</td>\n",
       "      <td>88001</td>\n",
       "      <td>4862</td>\n",
       "      <td>4 GB RAM | 128 GB ROM | Expandable Upto 1 TB16...</td>\n",
       "      <td>Prism Black</td>\n",
       "      <td>128 GB</td>\n",
       "      <td>realme</td>\n",
       "    </tr>\n",
       "    <tr>\n",
       "      <th>3</th>\n",
       "      <td>realme 9i</td>\n",
       "      <td>11099</td>\n",
       "      <td>16999</td>\n",
       "      <td>5900</td>\n",
       "      <td>34.71</td>\n",
       "      <td>4.5</td>\n",
       "      <td>88001</td>\n",
       "      <td>4862</td>\n",
       "      <td>4 GB RAM | 128 GB ROM | Expandable Upto 1 TB16...</td>\n",
       "      <td>Prism Blue</td>\n",
       "      <td>128 GB</td>\n",
       "      <td>realme</td>\n",
       "    </tr>\n",
       "    <tr>\n",
       "      <th>4</th>\n",
       "      <td>realme C31</td>\n",
       "      <td>9999</td>\n",
       "      <td>11999</td>\n",
       "      <td>2000</td>\n",
       "      <td>16.67</td>\n",
       "      <td>4.4</td>\n",
       "      <td>35514</td>\n",
       "      <td>1799</td>\n",
       "      <td>4 GB RAM | 64 GB ROM | Expandable Upto 1 TB16....</td>\n",
       "      <td>Dark Green</td>\n",
       "      <td>64 GB</td>\n",
       "      <td>realme</td>\n",
       "    </tr>\n",
       "  </tbody>\n",
       "</table>\n",
       "</div>"
      ],
      "text/plain": [
       "          Name  Sale_Price  Actual_price  Discount_Price  Discount(%)  \\\n",
       "0     IAIR D23        1097          1099               2         0.18   \n",
       "1     IAIR D10        1161          1199              38         3.17   \n",
       "2   realme 9i        11099         16999            5900        34.71   \n",
       "3   realme 9i        11099         16999            5900        34.71   \n",
       "4  realme C31         9999         11999            2000        16.67   \n",
       "\n",
       "   Ratings  Rating_Counts  Review_Counts  \\\n",
       "0      4.3             42             12   \n",
       "1      4.0             37             19   \n",
       "2      4.5          88001           4862   \n",
       "3      4.5          88001           4862   \n",
       "4      4.4          35514           1799   \n",
       "\n",
       "                                     Product_Details        Color  \\\n",
       "0  32 MB RAM | 32 MB ROM4.5 cm (1.77 inch) NA Dis...          NaN   \n",
       "1  32 MB RAM | 32 MB ROM4.5 cm (1.77 inch) Displa...          NaN   \n",
       "2  4 GB RAM | 128 GB ROM | Expandable Upto 1 TB16...  Prism Black   \n",
       "3  4 GB RAM | 128 GB ROM | Expandable Upto 1 TB16...   Prism Blue   \n",
       "4  4 GB RAM | 64 GB ROM | Expandable Upto 1 TB16....   Dark Green   \n",
       "\n",
       "  Internal_storage Brand_name  \n",
       "0              NaN       IAIR  \n",
       "1              NaN       IAIR  \n",
       "2           128 GB     realme  \n",
       "3           128 GB     realme  \n",
       "4            64 GB     realme  "
      ]
     },
     "execution_count": 468,
     "metadata": {},
     "output_type": "execute_result"
    }
   ],
   "source": [
    "df_new.head()"
   ]
  },
  {
   "cell_type": "code",
   "execution_count": 469,
   "id": "7a186fe3",
   "metadata": {},
   "outputs": [],
   "source": [
    "df_new.drop(['Product_Details'], axis = 1, inplace = True)"
   ]
  },
  {
   "cell_type": "code",
   "execution_count": 470,
   "id": "2a8490eb",
   "metadata": {},
   "outputs": [
    {
     "data": {
      "text/plain": [
       " 128 GB               330\n",
       " 64 GB                199\n",
       " 32 GB                 64\n",
       " 256 GB                37\n",
       " Hotspot Tethering      1\n",
       "Hotspot Tethering       1\n",
       " 16 GB                  1\n",
       "Name: Internal_storage, dtype: int64"
      ]
     },
     "execution_count": 470,
     "metadata": {},
     "output_type": "execute_result"
    }
   ],
   "source": [
    "df_new['Internal_storage'].value_counts()"
   ]
  },
  {
   "cell_type": "code",
   "execution_count": 471,
   "id": "0447d5a9",
   "metadata": {},
   "outputs": [],
   "source": [
    "df_new['Internal_storage'] = df_new['Internal_storage'].str.replace('Hotspot Tethering', '128 GB')"
   ]
  },
  {
   "cell_type": "code",
   "execution_count": 472,
   "id": "210d35ce",
   "metadata": {},
   "outputs": [],
   "source": [
    "df_new['Internal_storage'] = df_new['Internal_storage'].str.strip()"
   ]
  },
  {
   "cell_type": "code",
   "execution_count": 473,
   "id": "3990ebbc",
   "metadata": {},
   "outputs": [
    {
     "data": {
      "text/plain": [
       "128 GB    332\n",
       "64 GB     199\n",
       "32 GB      64\n",
       "256 GB     37\n",
       "16 GB       1\n",
       "Name: Internal_storage, dtype: int64"
      ]
     },
     "execution_count": 473,
     "metadata": {},
     "output_type": "execute_result"
    }
   ],
   "source": [
    "df_new['Internal_storage'].value_counts()"
   ]
  },
  {
   "cell_type": "markdown",
   "id": "5e6062e6",
   "metadata": {},
   "source": [
    "# Finding the missing values:"
   ]
  },
  {
   "cell_type": "code",
   "execution_count": 474,
   "id": "00c550b3",
   "metadata": {},
   "outputs": [],
   "source": [
    "count_of_MV = df_new.isnull().sum()\n",
    "percent_of_MV = df_new.isnull().mean()"
   ]
  },
  {
   "cell_type": "code",
   "execution_count": 475,
   "id": "65cb56c5",
   "metadata": {},
   "outputs": [
    {
     "data": {
      "text/plain": [
       "Name                  0\n",
       "Sale_Price            0\n",
       "Actual_price          0\n",
       "Discount_Price        0\n",
       "Discount(%)           0\n",
       "Ratings               0\n",
       "Rating_Counts         0\n",
       "Review_Counts         0\n",
       "Color               193\n",
       "Internal_storage    198\n",
       "Brand_name            0\n",
       "dtype: int64"
      ]
     },
     "execution_count": 475,
     "metadata": {},
     "output_type": "execute_result"
    }
   ],
   "source": [
    "count_of_MV"
   ]
  },
  {
   "cell_type": "code",
   "execution_count": 476,
   "id": "fb5fdbe1",
   "metadata": {},
   "outputs": [
    {
     "data": {
      "text/plain": [
       "Name                0.000000\n",
       "Sale_Price          0.000000\n",
       "Actual_price        0.000000\n",
       "Discount_Price      0.000000\n",
       "Discount(%)         0.000000\n",
       "Ratings             0.000000\n",
       "Rating_Counts       0.000000\n",
       "Review_Counts       0.000000\n",
       "Color               0.232250\n",
       "Internal_storage    0.238267\n",
       "Brand_name          0.000000\n",
       "dtype: float64"
      ]
     },
     "execution_count": 476,
     "metadata": {},
     "output_type": "execute_result"
    }
   ],
   "source": [
    "percent_of_MV"
   ]
  },
  {
   "cell_type": "code",
   "execution_count": 477,
   "id": "c5469abc",
   "metadata": {},
   "outputs": [
    {
     "data": {
      "image/png": "[encoded data removed]",
      "text/plain": [
       "<Figure size 864x432 with 1 Axes>"
      ]
     },
     "metadata": {
      "needs_background": "light"
     },
     "output_type": "display_data"
    }
   ],
   "source": [
    "mat.rcParams['figure.figsize'] = (12,6)\n",
    "sns.heatmap(df_new.isnull(),yticklabels = False,cbar = False, cmap = 'Greens')\n",
    "plt.show()"
   ]
  },
  {
   "cell_type": "raw",
   "id": "ad60afea",
   "metadata": {},
   "source": [
    "As per the plot Colors and Internal storage column has the more no. of missing values and the percentage of their missing values is 23% and 24% respectively. "
   ]
  },
  {
   "cell_type": "markdown",
   "id": "d2a6a77f",
   "metadata": {},
   "source": [
    "###### Replacing the Missing values:"
   ]
  },
  {
   "cell_type": "code",
   "execution_count": 478,
   "id": "c23f338f",
   "metadata": {},
   "outputs": [],
   "source": [
    "mv_colms = ['Color', 'Internal_storage']\n",
    "for i in mv_colms:\n",
    "    df_new[i] = df_new[i].fillna(df_new[i].mode()[0])\n",
    "# final_df = df_new.fillna('Not Mentioned')"
   ]
  },
  {
   "cell_type": "code",
   "execution_count": 479,
   "id": "d6858901",
   "metadata": {},
   "outputs": [
    {
     "data": {
      "text/html": [
       "<div>\n",
       "<style scoped>\n",
       "    .dataframe tbody tr th:only-of-type {\n",
       "        vertical-align: middle;\n",
       "    }\n",
       "\n",
       "    .dataframe tbody tr th {\n",
       "        vertical-align: top;\n",
       "    }\n",
       "\n",
       "    .dataframe thead th {\n",
       "        text-align: right;\n",
       "    }\n",
       "</style>\n",
       "<table border=\"1\" class=\"dataframe\">\n",
       "  <thead>\n",
       "    <tr style=\"text-align: right;\">\n",
       "      <th></th>\n",
       "      <th>Name</th>\n",
       "      <th>Sale_Price</th>\n",
       "      <th>Actual_price</th>\n",
       "      <th>Discount_Price</th>\n",
       "      <th>Discount(%)</th>\n",
       "      <th>Ratings</th>\n",
       "      <th>Rating_Counts</th>\n",
       "      <th>Review_Counts</th>\n",
       "      <th>Color</th>\n",
       "      <th>Internal_storage</th>\n",
       "      <th>Brand_name</th>\n",
       "    </tr>\n",
       "  </thead>\n",
       "  <tbody>\n",
       "    <tr>\n",
       "      <th>0</th>\n",
       "      <td>IAIR D23</td>\n",
       "      <td>1097</td>\n",
       "      <td>1099</td>\n",
       "      <td>2</td>\n",
       "      <td>0.18</td>\n",
       "      <td>4.3</td>\n",
       "      <td>42</td>\n",
       "      <td>12</td>\n",
       "      <td>Black</td>\n",
       "      <td>128 GB</td>\n",
       "      <td>IAIR</td>\n",
       "    </tr>\n",
       "    <tr>\n",
       "      <th>1</th>\n",
       "      <td>IAIR D10</td>\n",
       "      <td>1161</td>\n",
       "      <td>1199</td>\n",
       "      <td>38</td>\n",
       "      <td>3.17</td>\n",
       "      <td>4.0</td>\n",
       "      <td>37</td>\n",
       "      <td>19</td>\n",
       "      <td>Black</td>\n",
       "      <td>128 GB</td>\n",
       "      <td>IAIR</td>\n",
       "    </tr>\n",
       "    <tr>\n",
       "      <th>2</th>\n",
       "      <td>realme 9i</td>\n",
       "      <td>11099</td>\n",
       "      <td>16999</td>\n",
       "      <td>5900</td>\n",
       "      <td>34.71</td>\n",
       "      <td>4.5</td>\n",
       "      <td>88001</td>\n",
       "      <td>4862</td>\n",
       "      <td>Prism Black</td>\n",
       "      <td>128 GB</td>\n",
       "      <td>realme</td>\n",
       "    </tr>\n",
       "    <tr>\n",
       "      <th>3</th>\n",
       "      <td>realme 9i</td>\n",
       "      <td>11099</td>\n",
       "      <td>16999</td>\n",
       "      <td>5900</td>\n",
       "      <td>34.71</td>\n",
       "      <td>4.5</td>\n",
       "      <td>88001</td>\n",
       "      <td>4862</td>\n",
       "      <td>Prism Blue</td>\n",
       "      <td>128 GB</td>\n",
       "      <td>realme</td>\n",
       "    </tr>\n",
       "    <tr>\n",
       "      <th>4</th>\n",
       "      <td>realme C31</td>\n",
       "      <td>9999</td>\n",
       "      <td>11999</td>\n",
       "      <td>2000</td>\n",
       "      <td>16.67</td>\n",
       "      <td>4.4</td>\n",
       "      <td>35514</td>\n",
       "      <td>1799</td>\n",
       "      <td>Dark Green</td>\n",
       "      <td>64 GB</td>\n",
       "      <td>realme</td>\n",
       "    </tr>\n",
       "    <tr>\n",
       "      <th>...</th>\n",
       "      <td>...</td>\n",
       "      <td>...</td>\n",
       "      <td>...</td>\n",
       "      <td>...</td>\n",
       "      <td>...</td>\n",
       "      <td>...</td>\n",
       "      <td>...</td>\n",
       "      <td>...</td>\n",
       "      <td>...</td>\n",
       "      <td>...</td>\n",
       "      <td>...</td>\n",
       "    </tr>\n",
       "    <tr>\n",
       "      <th>826</th>\n",
       "      <td>Itel IT2163</td>\n",
       "      <td>1095</td>\n",
       "      <td>1095</td>\n",
       "      <td>0</td>\n",
       "      <td>0.00</td>\n",
       "      <td>4.1</td>\n",
       "      <td>12054</td>\n",
       "      <td>1016</td>\n",
       "      <td>Black</td>\n",
       "      <td>128 GB</td>\n",
       "      <td>Itel</td>\n",
       "    </tr>\n",
       "    <tr>\n",
       "      <th>827</th>\n",
       "      <td>IAIR Basic Feature Dual Sim Mobile Phone with ...</td>\n",
       "      <td>1275</td>\n",
       "      <td>1275</td>\n",
       "      <td>0</td>\n",
       "      <td>0.00</td>\n",
       "      <td>3.6</td>\n",
       "      <td>77</td>\n",
       "      <td>23</td>\n",
       "      <td>Black</td>\n",
       "      <td>128 GB</td>\n",
       "      <td>IAIR</td>\n",
       "    </tr>\n",
       "    <tr>\n",
       "      <th>828</th>\n",
       "      <td>vivo Y75 5G</td>\n",
       "      <td>21990</td>\n",
       "      <td>25990</td>\n",
       "      <td>4000</td>\n",
       "      <td>15.39</td>\n",
       "      <td>4.3</td>\n",
       "      <td>942</td>\n",
       "      <td>79</td>\n",
       "      <td>Glowing Galaxy</td>\n",
       "      <td>128 GB</td>\n",
       "      <td>vivo</td>\n",
       "    </tr>\n",
       "    <tr>\n",
       "      <th>829</th>\n",
       "      <td>vivo Y75 5G</td>\n",
       "      <td>21990</td>\n",
       "      <td>25990</td>\n",
       "      <td>4000</td>\n",
       "      <td>15.39</td>\n",
       "      <td>4.3</td>\n",
       "      <td>942</td>\n",
       "      <td>79</td>\n",
       "      <td>Starlight Black</td>\n",
       "      <td>128 GB</td>\n",
       "      <td>vivo</td>\n",
       "    </tr>\n",
       "    <tr>\n",
       "      <th>830</th>\n",
       "      <td>Cellecor E8</td>\n",
       "      <td>1459</td>\n",
       "      <td>1459</td>\n",
       "      <td>0</td>\n",
       "      <td>0.00</td>\n",
       "      <td>3.8</td>\n",
       "      <td>5</td>\n",
       "      <td>0</td>\n",
       "      <td>Black</td>\n",
       "      <td>128 GB</td>\n",
       "      <td>Cellecor</td>\n",
       "    </tr>\n",
       "  </tbody>\n",
       "</table>\n",
       "<p>831 rows × 11 columns</p>\n",
       "</div>"
      ],
      "text/plain": [
       "                                                  Name  Sale_Price  \\\n",
       "0                                             IAIR D23        1097   \n",
       "1                                             IAIR D10        1161   \n",
       "2                                           realme 9i        11099   \n",
       "3                                           realme 9i        11099   \n",
       "4                                          realme C31         9999   \n",
       "..                                                 ...         ...   \n",
       "826                                        Itel IT2163        1095   \n",
       "827  IAIR Basic Feature Dual Sim Mobile Phone with ...        1275   \n",
       "828                                       vivo Y75 5G        21990   \n",
       "829                                       vivo Y75 5G        21990   \n",
       "830                                        Cellecor E8        1459   \n",
       "\n",
       "     Actual_price  Discount_Price  Discount(%)  Ratings  Rating_Counts  \\\n",
       "0            1099               2         0.18      4.3             42   \n",
       "1            1199              38         3.17      4.0             37   \n",
       "2           16999            5900        34.71      4.5          88001   \n",
       "3           16999            5900        34.71      4.5          88001   \n",
       "4           11999            2000        16.67      4.4          35514   \n",
       "..            ...             ...          ...      ...            ...   \n",
       "826          1095               0         0.00      4.1          12054   \n",
       "827          1275               0         0.00      3.6             77   \n",
       "828         25990            4000        15.39      4.3            942   \n",
       "829         25990            4000        15.39      4.3            942   \n",
       "830          1459               0         0.00      3.8              5   \n",
       "\n",
       "     Review_Counts            Color Internal_storage Brand_name  \n",
       "0               12            Black           128 GB       IAIR  \n",
       "1               19            Black           128 GB       IAIR  \n",
       "2             4862      Prism Black           128 GB     realme  \n",
       "3             4862       Prism Blue           128 GB     realme  \n",
       "4             1799       Dark Green            64 GB     realme  \n",
       "..             ...              ...              ...        ...  \n",
       "826           1016            Black           128 GB       Itel  \n",
       "827             23            Black           128 GB       IAIR  \n",
       "828             79   Glowing Galaxy           128 GB       vivo  \n",
       "829             79  Starlight Black           128 GB       vivo  \n",
       "830              0            Black           128 GB   Cellecor  \n",
       "\n",
       "[831 rows x 11 columns]"
      ]
     },
     "execution_count": 479,
     "metadata": {},
     "output_type": "execute_result"
    }
   ],
   "source": [
    "df_new"
   ]
  },
  {
   "cell_type": "code",
   "execution_count": 480,
   "id": "85f15778",
   "metadata": {},
   "outputs": [
    {
     "data": {
      "text/plain": [
       "Name                0\n",
       "Sale_Price          0\n",
       "Actual_price        0\n",
       "Discount_Price      0\n",
       "Discount(%)         0\n",
       "Ratings             0\n",
       "Rating_Counts       0\n",
       "Review_Counts       0\n",
       "Color               0\n",
       "Internal_storage    0\n",
       "Brand_name          0\n",
       "dtype: int64"
      ]
     },
     "execution_count": 480,
     "metadata": {},
     "output_type": "execute_result"
    }
   ],
   "source": [
    "df_new.isnull().sum()"
   ]
  },
  {
   "cell_type": "code",
   "execution_count": 481,
   "id": "88708eb0",
   "metadata": {},
   "outputs": [
    {
     "data": {
      "text/html": [
       "<div>\n",
       "<style scoped>\n",
       "    .dataframe tbody tr th:only-of-type {\n",
       "        vertical-align: middle;\n",
       "    }\n",
       "\n",
       "    .dataframe tbody tr th {\n",
       "        vertical-align: top;\n",
       "    }\n",
       "\n",
       "    .dataframe thead th {\n",
       "        text-align: right;\n",
       "    }\n",
       "</style>\n",
       "<table border=\"1\" class=\"dataframe\">\n",
       "  <thead>\n",
       "    <tr style=\"text-align: right;\">\n",
       "      <th></th>\n",
       "      <th>Name</th>\n",
       "      <th>Sale_Price</th>\n",
       "      <th>Actual_price</th>\n",
       "      <th>Discount_Price</th>\n",
       "      <th>Discount(%)</th>\n",
       "      <th>Ratings</th>\n",
       "      <th>Rating_Counts</th>\n",
       "      <th>Review_Counts</th>\n",
       "      <th>Color</th>\n",
       "      <th>Internal_storage</th>\n",
       "      <th>Brand_name</th>\n",
       "    </tr>\n",
       "  </thead>\n",
       "  <tbody>\n",
       "    <tr>\n",
       "      <th>0</th>\n",
       "      <td>IAIR D23</td>\n",
       "      <td>1097</td>\n",
       "      <td>1099</td>\n",
       "      <td>2</td>\n",
       "      <td>0.18</td>\n",
       "      <td>4.3</td>\n",
       "      <td>42</td>\n",
       "      <td>12</td>\n",
       "      <td>Black</td>\n",
       "      <td>128 GB</td>\n",
       "      <td>IAIR</td>\n",
       "    </tr>\n",
       "    <tr>\n",
       "      <th>1</th>\n",
       "      <td>IAIR D10</td>\n",
       "      <td>1161</td>\n",
       "      <td>1199</td>\n",
       "      <td>38</td>\n",
       "      <td>3.17</td>\n",
       "      <td>4.0</td>\n",
       "      <td>37</td>\n",
       "      <td>19</td>\n",
       "      <td>Black</td>\n",
       "      <td>128 GB</td>\n",
       "      <td>IAIR</td>\n",
       "    </tr>\n",
       "    <tr>\n",
       "      <th>2</th>\n",
       "      <td>realme 9i</td>\n",
       "      <td>11099</td>\n",
       "      <td>16999</td>\n",
       "      <td>5900</td>\n",
       "      <td>34.71</td>\n",
       "      <td>4.5</td>\n",
       "      <td>88001</td>\n",
       "      <td>4862</td>\n",
       "      <td>Prism Black</td>\n",
       "      <td>128 GB</td>\n",
       "      <td>realme</td>\n",
       "    </tr>\n",
       "    <tr>\n",
       "      <th>3</th>\n",
       "      <td>realme 9i</td>\n",
       "      <td>11099</td>\n",
       "      <td>16999</td>\n",
       "      <td>5900</td>\n",
       "      <td>34.71</td>\n",
       "      <td>4.5</td>\n",
       "      <td>88001</td>\n",
       "      <td>4862</td>\n",
       "      <td>Prism Blue</td>\n",
       "      <td>128 GB</td>\n",
       "      <td>realme</td>\n",
       "    </tr>\n",
       "    <tr>\n",
       "      <th>4</th>\n",
       "      <td>realme C31</td>\n",
       "      <td>9999</td>\n",
       "      <td>11999</td>\n",
       "      <td>2000</td>\n",
       "      <td>16.67</td>\n",
       "      <td>4.4</td>\n",
       "      <td>35514</td>\n",
       "      <td>1799</td>\n",
       "      <td>Dark Green</td>\n",
       "      <td>64 GB</td>\n",
       "      <td>realme</td>\n",
       "    </tr>\n",
       "  </tbody>\n",
       "</table>\n",
       "</div>"
      ],
      "text/plain": [
       "          Name  Sale_Price  Actual_price  Discount_Price  Discount(%)  \\\n",
       "0     IAIR D23        1097          1099               2         0.18   \n",
       "1     IAIR D10        1161          1199              38         3.17   \n",
       "2   realme 9i        11099         16999            5900        34.71   \n",
       "3   realme 9i        11099         16999            5900        34.71   \n",
       "4  realme C31         9999         11999            2000        16.67   \n",
       "\n",
       "   Ratings  Rating_Counts  Review_Counts        Color Internal_storage  \\\n",
       "0      4.3             42             12        Black           128 GB   \n",
       "1      4.0             37             19        Black           128 GB   \n",
       "2      4.5          88001           4862  Prism Black           128 GB   \n",
       "3      4.5          88001           4862   Prism Blue           128 GB   \n",
       "4      4.4          35514           1799   Dark Green            64 GB   \n",
       "\n",
       "  Brand_name  \n",
       "0       IAIR  \n",
       "1       IAIR  \n",
       "2     realme  \n",
       "3     realme  \n",
       "4     realme  "
      ]
     },
     "execution_count": 481,
     "metadata": {},
     "output_type": "execute_result"
    }
   ],
   "source": [
    "final_df = df_new\n",
    "final_df.head()"
   ]
  },
  {
   "cell_type": "code",
   "execution_count": 482,
   "id": "20a8574a",
   "metadata": {},
   "outputs": [],
   "source": [
    "# final_df['Warranty'] = final_df['Warranty'].str.replace('Not Mentioned', 'No Warrenty Provided')"
   ]
  },
  {
   "cell_type": "code",
   "execution_count": 483,
   "id": "6bb1a959",
   "metadata": {},
   "outputs": [],
   "source": [
    "final_df['Brand_name'] = final_df['Brand_name'].str.upper()"
   ]
  },
  {
   "cell_type": "code",
   "execution_count": 484,
   "id": "a6e8e8ef",
   "metadata": {},
   "outputs": [
    {
     "data": {
      "text/html": [
       "<div>\n",
       "<style scoped>\n",
       "    .dataframe tbody tr th:only-of-type {\n",
       "        vertical-align: middle;\n",
       "    }\n",
       "\n",
       "    .dataframe tbody tr th {\n",
       "        vertical-align: top;\n",
       "    }\n",
       "\n",
       "    .dataframe thead th {\n",
       "        text-align: right;\n",
       "    }\n",
       "</style>\n",
       "<table border=\"1\" class=\"dataframe\">\n",
       "  <thead>\n",
       "    <tr style=\"text-align: right;\">\n",
       "      <th></th>\n",
       "      <th>Name</th>\n",
       "      <th>Sale_Price</th>\n",
       "      <th>Actual_price</th>\n",
       "      <th>Discount_Price</th>\n",
       "      <th>Discount(%)</th>\n",
       "      <th>Ratings</th>\n",
       "      <th>Rating_Counts</th>\n",
       "      <th>Review_Counts</th>\n",
       "      <th>Color</th>\n",
       "      <th>Internal_storage</th>\n",
       "      <th>Brand_name</th>\n",
       "    </tr>\n",
       "  </thead>\n",
       "  <tbody>\n",
       "    <tr>\n",
       "      <th>0</th>\n",
       "      <td>IAIR D23</td>\n",
       "      <td>1097</td>\n",
       "      <td>1099</td>\n",
       "      <td>2</td>\n",
       "      <td>0.18</td>\n",
       "      <td>4.3</td>\n",
       "      <td>42</td>\n",
       "      <td>12</td>\n",
       "      <td>Black</td>\n",
       "      <td>128 GB</td>\n",
       "      <td>IAIR</td>\n",
       "    </tr>\n",
       "    <tr>\n",
       "      <th>1</th>\n",
       "      <td>IAIR D10</td>\n",
       "      <td>1161</td>\n",
       "      <td>1199</td>\n",
       "      <td>38</td>\n",
       "      <td>3.17</td>\n",
       "      <td>4.0</td>\n",
       "      <td>37</td>\n",
       "      <td>19</td>\n",
       "      <td>Black</td>\n",
       "      <td>128 GB</td>\n",
       "      <td>IAIR</td>\n",
       "    </tr>\n",
       "    <tr>\n",
       "      <th>2</th>\n",
       "      <td>realme 9i</td>\n",
       "      <td>11099</td>\n",
       "      <td>16999</td>\n",
       "      <td>5900</td>\n",
       "      <td>34.71</td>\n",
       "      <td>4.5</td>\n",
       "      <td>88001</td>\n",
       "      <td>4862</td>\n",
       "      <td>Prism Black</td>\n",
       "      <td>128 GB</td>\n",
       "      <td>REALME</td>\n",
       "    </tr>\n",
       "    <tr>\n",
       "      <th>3</th>\n",
       "      <td>realme 9i</td>\n",
       "      <td>11099</td>\n",
       "      <td>16999</td>\n",
       "      <td>5900</td>\n",
       "      <td>34.71</td>\n",
       "      <td>4.5</td>\n",
       "      <td>88001</td>\n",
       "      <td>4862</td>\n",
       "      <td>Prism Blue</td>\n",
       "      <td>128 GB</td>\n",
       "      <td>REALME</td>\n",
       "    </tr>\n",
       "    <tr>\n",
       "      <th>4</th>\n",
       "      <td>realme C31</td>\n",
       "      <td>9999</td>\n",
       "      <td>11999</td>\n",
       "      <td>2000</td>\n",
       "      <td>16.67</td>\n",
       "      <td>4.4</td>\n",
       "      <td>35514</td>\n",
       "      <td>1799</td>\n",
       "      <td>Dark Green</td>\n",
       "      <td>64 GB</td>\n",
       "      <td>REALME</td>\n",
       "    </tr>\n",
       "  </tbody>\n",
       "</table>\n",
       "</div>"
      ],
      "text/plain": [
       "          Name  Sale_Price  Actual_price  Discount_Price  Discount(%)  \\\n",
       "0     IAIR D23        1097          1099               2         0.18   \n",
       "1     IAIR D10        1161          1199              38         3.17   \n",
       "2   realme 9i        11099         16999            5900        34.71   \n",
       "3   realme 9i        11099         16999            5900        34.71   \n",
       "4  realme C31         9999         11999            2000        16.67   \n",
       "\n",
       "   Ratings  Rating_Counts  Review_Counts        Color Internal_storage  \\\n",
       "0      4.3             42             12        Black           128 GB   \n",
       "1      4.0             37             19        Black           128 GB   \n",
       "2      4.5          88001           4862  Prism Black           128 GB   \n",
       "3      4.5          88001           4862   Prism Blue           128 GB   \n",
       "4      4.4          35514           1799   Dark Green            64 GB   \n",
       "\n",
       "  Brand_name  \n",
       "0       IAIR  \n",
       "1       IAIR  \n",
       "2     REALME  \n",
       "3     REALME  \n",
       "4     REALME  "
      ]
     },
     "execution_count": 484,
     "metadata": {},
     "output_type": "execute_result"
    }
   ],
   "source": [
    "final_df.head()"
   ]
  },
  {
   "cell_type": "code",
   "execution_count": 485,
   "id": "69eefcda",
   "metadata": {},
   "outputs": [],
   "source": [
    "final_df.to_csv('Product_Final.csv')\n",
    "# This is the dataset, which is cleaned 95%.\n",
    "# This is for visualization in POWER BI."
   ]
  },
  {
   "cell_type": "markdown",
   "id": "81364f33",
   "metadata": {},
   "source": [
    "# Analysis Part:"
   ]
  },
  {
   "cell_type": "code",
   "execution_count": 486,
   "id": "ce00d323",
   "metadata": {},
   "outputs": [],
   "source": [
    "Rating_values = final_df['Ratings'].value_counts().values\n",
    "Rating_index = final_df['Ratings'].value_counts().index"
   ]
  },
  {
   "cell_type": "code",
   "execution_count": 487,
   "id": "61ea4a9e",
   "metadata": {},
   "outputs": [
    {
     "data": {
      "text/plain": [
       "<AxesSubplot:>"
      ]
     },
     "execution_count": 487,
     "metadata": {},
     "output_type": "execute_result"
    },
    {
     "data": {
      "image/png": "[encoded data removed]",
      "text/plain": [
       "<Figure size 864x432 with 1 Axes>"
      ]
     },
     "metadata": {
      "needs_background": "light"
     },
     "output_type": "display_data"
    }
   ],
   "source": [
    "sns.barplot(data = final_df, x = Rating_index, y = Rating_values )"
   ]
  },
  {
   "cell_type": "raw",
   "id": "1d4f774f",
   "metadata": {},
   "source": [
    " Most of the Product got the rating of 4.2, 4.3 & 4.4 for the products.\n",
    " Let,\n",
    " a = 4.2, \n",
    " b = 4.3 & \n",
    " c = 4.4"
   ]
  },
  {
   "cell_type": "code",
   "execution_count": 488,
   "id": "640dc9b2",
   "metadata": {},
   "outputs": [],
   "source": [
    "Rating_a = final_df[final_df['Ratings'] == 4.2]\n",
    "Rating_b = final_df[final_df['Ratings'] == 4.3]\n",
    "Rating_c = final_df[final_df['Ratings'] == 4.4]"
   ]
  },
  {
   "cell_type": "code",
   "execution_count": 489,
   "id": "e5333cdd",
   "metadata": {},
   "outputs": [
    {
     "data": {
      "text/plain": [
       "182"
      ]
     },
     "execution_count": 489,
     "metadata": {},
     "output_type": "execute_result"
    }
   ],
   "source": [
    "len(Rating_a)"
   ]
  },
  {
   "cell_type": "code",
   "execution_count": 490,
   "id": "767f4315",
   "metadata": {},
   "outputs": [
    {
     "data": {
      "text/plain": [
       "166"
      ]
     },
     "execution_count": 490,
     "metadata": {},
     "output_type": "execute_result"
    }
   ],
   "source": [
    "len(Rating_b)"
   ]
  },
  {
   "cell_type": "code",
   "execution_count": 491,
   "id": "16feecf4",
   "metadata": {},
   "outputs": [
    {
     "data": {
      "text/plain": [
       "132"
      ]
     },
     "execution_count": 491,
     "metadata": {},
     "output_type": "execute_result"
    }
   ],
   "source": [
    "len(Rating_c)"
   ]
  },
  {
   "cell_type": "raw",
   "id": "75ea9efa",
   "metadata": {},
   "source": [
    "* The No. of Products got the rating '4.2' is 182.\n",
    "* The No. of Products got the rating '4.3' is 166.\n",
    "* The No. of Products got the rating '4.4' is 132."
   ]
  },
  {
   "cell_type": "code",
   "execution_count": 492,
   "id": "714e9eba",
   "metadata": {},
   "outputs": [],
   "source": [
    "max_discount_price = final_df['Discount_Price'].max()\n",
    "max_Sale_price = final_df['Sale_Price'].max()\n",
    "max_Actual_price = final_df['Actual_price'].max()"
   ]
  },
  {
   "cell_type": "code",
   "execution_count": 493,
   "id": "72f0bea1",
   "metadata": {},
   "outputs": [
    {
     "data": {
      "text/plain": [
       "139900"
      ]
     },
     "execution_count": 493,
     "metadata": {},
     "output_type": "execute_result"
    }
   ],
   "source": [
    "max_Sale_price"
   ]
  },
  {
   "cell_type": "code",
   "execution_count": 494,
   "id": "b9949875",
   "metadata": {},
   "outputs": [
    {
     "data": {
      "text/plain": [
       "139900"
      ]
     },
     "execution_count": 494,
     "metadata": {},
     "output_type": "execute_result"
    }
   ],
   "source": [
    "max_Actual_price"
   ]
  },
  {
   "cell_type": "code",
   "execution_count": 535,
   "id": "06f29bce",
   "metadata": {},
   "outputs": [
    {
     "data": {
      "text/html": [
       "<div>\n",
       "<style scoped>\n",
       "    .dataframe tbody tr th:only-of-type {\n",
       "        vertical-align: middle;\n",
       "    }\n",
       "\n",
       "    .dataframe tbody tr th {\n",
       "        vertical-align: top;\n",
       "    }\n",
       "\n",
       "    .dataframe thead th {\n",
       "        text-align: right;\n",
       "    }\n",
       "</style>\n",
       "<table border=\"1\" class=\"dataframe\">\n",
       "  <thead>\n",
       "    <tr style=\"text-align: right;\">\n",
       "      <th></th>\n",
       "      <th>Name</th>\n",
       "      <th>Sale_Price</th>\n",
       "      <th>Actual_price</th>\n",
       "      <th>Discount_Price</th>\n",
       "      <th>Discount(%)</th>\n",
       "      <th>Ratings</th>\n",
       "      <th>Rating_Counts</th>\n",
       "      <th>Review_Counts</th>\n",
       "      <th>Color</th>\n",
       "      <th>Internal_storage</th>\n",
       "      <th>Brand_name</th>\n",
       "    </tr>\n",
       "  </thead>\n",
       "  <tbody>\n",
       "    <tr>\n",
       "      <th>770</th>\n",
       "      <td>APPLE iPhone 13 Pro Max</td>\n",
       "      <td>139900</td>\n",
       "      <td>139900</td>\n",
       "      <td>0</td>\n",
       "      <td>0.0</td>\n",
       "      <td>4.6</td>\n",
       "      <td>1482</td>\n",
       "      <td>152</td>\n",
       "      <td>Alpine Green</td>\n",
       "      <td>256 GB</td>\n",
       "      <td>APPLE</td>\n",
       "    </tr>\n",
       "  </tbody>\n",
       "</table>\n",
       "</div>"
      ],
      "text/plain": [
       "                         Name  Sale_Price  Actual_price  Discount_Price  \\\n",
       "770  APPLE iPhone 13 Pro Max       139900        139900               0   \n",
       "\n",
       "     Discount(%)  Ratings  Rating_Counts  Review_Counts         Color  \\\n",
       "770          0.0      4.6           1482            152  Alpine Green   \n",
       "\n",
       "    Internal_storage Brand_name  \n",
       "770           256 GB      APPLE  "
      ]
     },
     "execution_count": 535,
     "metadata": {},
     "output_type": "execute_result"
    }
   ],
   "source": [
    "final_df[final_df['Sale_Price'] == 139900]"
   ]
  },
  {
   "cell_type": "code",
   "execution_count": 495,
   "id": "3455fc0f",
   "metadata": {},
   "outputs": [
    {
     "data": {
      "text/plain": [
       "40000"
      ]
     },
     "execution_count": 495,
     "metadata": {},
     "output_type": "execute_result"
    }
   ],
   "source": [
    "max_discount_price"
   ]
  },
  {
   "cell_type": "code",
   "execution_count": 537,
   "id": "18d97b1b",
   "metadata": {},
   "outputs": [
    {
     "data": {
      "text/html": [
       "<div>\n",
       "<style scoped>\n",
       "    .dataframe tbody tr th:only-of-type {\n",
       "        vertical-align: middle;\n",
       "    }\n",
       "\n",
       "    .dataframe tbody tr th {\n",
       "        vertical-align: top;\n",
       "    }\n",
       "\n",
       "    .dataframe thead th {\n",
       "        text-align: right;\n",
       "    }\n",
       "</style>\n",
       "<table border=\"1\" class=\"dataframe\">\n",
       "  <thead>\n",
       "    <tr style=\"text-align: right;\">\n",
       "      <th></th>\n",
       "      <th>Name</th>\n",
       "      <th>Sale_Price</th>\n",
       "      <th>Actual_price</th>\n",
       "      <th>Discount_Price</th>\n",
       "      <th>Discount(%)</th>\n",
       "      <th>Ratings</th>\n",
       "      <th>Rating_Counts</th>\n",
       "      <th>Review_Counts</th>\n",
       "      <th>Color</th>\n",
       "      <th>Internal_storage</th>\n",
       "      <th>Brand_name</th>\n",
       "    </tr>\n",
       "  </thead>\n",
       "  <tbody>\n",
       "    <tr>\n",
       "      <th>20</th>\n",
       "      <td>SAMSUNG Galaxy S21 FE 5G</td>\n",
       "      <td>34999</td>\n",
       "      <td>74999</td>\n",
       "      <td>40000</td>\n",
       "      <td>53.33</td>\n",
       "      <td>4.4</td>\n",
       "      <td>10331</td>\n",
       "      <td>959</td>\n",
       "      <td>Olive</td>\n",
       "      <td>128 GB</td>\n",
       "      <td>SAMSUNG</td>\n",
       "    </tr>\n",
       "    <tr>\n",
       "      <th>130</th>\n",
       "      <td>SAMSUNG Galaxy S21 FE 5G</td>\n",
       "      <td>34999</td>\n",
       "      <td>74999</td>\n",
       "      <td>40000</td>\n",
       "      <td>53.33</td>\n",
       "      <td>4.4</td>\n",
       "      <td>10434</td>\n",
       "      <td>961</td>\n",
       "      <td>Graphite</td>\n",
       "      <td>128 GB</td>\n",
       "      <td>SAMSUNG</td>\n",
       "    </tr>\n",
       "  </tbody>\n",
       "</table>\n",
       "</div>"
      ],
      "text/plain": [
       "                          Name  Sale_Price  Actual_price  Discount_Price  \\\n",
       "20   SAMSUNG Galaxy S21 FE 5G        34999         74999           40000   \n",
       "130  SAMSUNG Galaxy S21 FE 5G        34999         74999           40000   \n",
       "\n",
       "     Discount(%)  Ratings  Rating_Counts  Review_Counts     Color  \\\n",
       "20         53.33      4.4          10331            959     Olive   \n",
       "130        53.33      4.4          10434            961  Graphite   \n",
       "\n",
       "    Internal_storage Brand_name  \n",
       "20            128 GB    SAMSUNG  \n",
       "130           128 GB    SAMSUNG  "
      ]
     },
     "execution_count": 537,
     "metadata": {},
     "output_type": "execute_result"
    }
   ],
   "source": [
    "final_df[final_df['Discount_Price'] ==  max_discount_price]"
   ]
  },
  {
   "cell_type": "code",
   "execution_count": 542,
   "id": "7316cc2b",
   "metadata": {},
   "outputs": [
    {
     "data": {
      "image/png": "[encoded data removed]",
      "text/plain": [
       "<Figure size 864x432 with 1 Axes>"
      ]
     },
     "metadata": {
      "needs_background": "light"
     },
     "output_type": "display_data"
    }
   ],
   "source": [
    "top_10_SP = final_df.groupby('Name').sum().sort_values('Sale_Price', ascending = False)\n",
    "top_10_SP.head(10).plot(kind = 'bar');"
   ]
  },
  {
   "cell_type": "raw",
   "id": "ef1c87fe",
   "metadata": {},
   "source": [
    "1. Here Apple iPhone 13 have highest Sale Price & Actual Price \n",
    "2. Apple 12 mini and 11 got the most no. of ratings."
   ]
  },
  {
   "cell_type": "code",
   "execution_count": 497,
   "id": "e53551cf",
   "metadata": {},
   "outputs": [],
   "source": [
    "Top_10_Brands = final_df['Brand_name'].value_counts(ascending = False)[:10]\n",
    "tv = final_df['Brand_name'].value_counts()[:10].values\n",
    "ti = final_df['Brand_name'].value_counts()[:10].index\n",
    "\n",
    "label = []\n",
    "for i in ti:\n",
    "    label.append(i)"
   ]
  },
  {
   "cell_type": "code",
   "execution_count": 498,
   "id": "f7e5314b",
   "metadata": {},
   "outputs": [
    {
     "data": {
      "text/plain": [
       "['REALME',\n",
       " 'REDMI',\n",
       " 'SAMSUNG',\n",
       " 'VIVO',\n",
       " 'INFINIX',\n",
       " 'POCO',\n",
       " 'OPPO',\n",
       " 'KECHAODA',\n",
       " 'MOTOROLA',\n",
       " 'ITEL']"
      ]
     },
     "execution_count": 498,
     "metadata": {},
     "output_type": "execute_result"
    }
   ],
   "source": [
    "label"
   ]
  },
  {
   "cell_type": "code",
   "execution_count": 543,
   "id": "d545aac2",
   "metadata": {},
   "outputs": [
    {
     "data": {
      "image/png": "[encoded data removed]",
      "text/plain": [
       "<Figure size 864x432 with 1 Axes>"
      ]
     },
     "metadata": {},
     "output_type": "display_data"
    }
   ],
   "source": [
    "plt.pie((final_df['Brand_name'].value_counts()[:10]), labels = label, autopct = '%.0f%%', shadow = True, )\n",
    "plt.show()"
   ]
  },
  {
   "cell_type": "raw",
   "id": "e90d494f",
   "metadata": {},
   "source": [
    "Most saled Brand is REALME."
   ]
  },
  {
   "cell_type": "code",
   "execution_count": 500,
   "id": "f431fbfc",
   "metadata": {},
   "outputs": [],
   "source": []
  },
  {
   "cell_type": "code",
   "execution_count": 501,
   "id": "bec28f01",
   "metadata": {},
   "outputs": [
    {
     "data": {
      "image/png": "[encoded data removed]",
      "text/plain": [
       "<Figure size 864x432 with 1 Axes>"
      ]
     },
     "metadata": {
      "needs_background": "light"
     },
     "output_type": "display_data"
    }
   ],
   "source": [
    "a = final_df['Sale_Price']\n",
    "b = final_df['Actual_price']\n",
    "a1 = sns.distplot(a, hist = False)\n",
    "b1 = sns.distplot(b, hist = False)\n",
    "a1.legend('AS')\n",
    "plt.show()"
   ]
  },
  {
   "cell_type": "raw",
   "id": "0a3ff17e",
   "metadata": {},
   "source": [
    "As per the Distplot most of the mobiles are in the range of 10,000 to 25,000."
   ]
  },
  {
   "cell_type": "code",
   "execution_count": 544,
   "id": "0e9379ae",
   "metadata": {},
   "outputs": [
    {
     "data": {
      "image/png": "[encoded data removed]",
      "text/plain": [
       "<Figure size 864x432 with 1 Axes>"
      ]
     },
     "metadata": {
      "needs_background": "light"
     },
     "output_type": "display_data"
    }
   ],
   "source": [
    "# Color Category:\n",
    "final_df['Color'].value_counts().head(5).plot(kind = 'barh')\n",
    "plt.show()"
   ]
  },
  {
   "cell_type": "markdown",
   "id": "fa99132c",
   "metadata": {},
   "source": [
    "#### All mobiles under price category:"
   ]
  },
  {
   "cell_type": "code",
   "execution_count": 503,
   "id": "b641f205",
   "metadata": {},
   "outputs": [
    {
     "data": {
      "image/png": "[encoded data removed]",
      "text/plain": [
       "<Figure size 864x432 with 1 Axes>"
      ]
     },
     "metadata": {
      "needs_background": "light"
     },
     "output_type": "display_data"
    }
   ],
   "source": [
    "low = final_df[final_df['Sale_Price'] <= 10000]\n",
    "medium = final_df[(final_df['Sale_Price'] > 10000) & (final_df['Sale_Price'] <= 20000)]\n",
    "above_medium = final_df[(final_df['Sale_Price'] > 20000) & (final_df['Sale_Price'] <= 30000)]\n",
    "high = final_df[(final_df['Sale_Price'] > 30000) & (final_df['Sale_Price'] <= 50000)]\n",
    "costly = final_df[final_df['Sale_Price'] > 50000]\n",
    "\n",
    "L = len(low)\n",
    "M = len(medium)\n",
    "AM = len(above_medium)\n",
    "H = len(high)\n",
    "C = len(costly)\n",
    "\n",
    "# Creating a Dict:\n",
    "Price = {\"Type\" : [\"Low (below (10K))\", \"Medium (10K to 20K)\", \"Above_Med (2oK to 30K)\", \"High (30K to 50K)\", \"Costly (above 50K)\"],\n",
    "        \"Value\" : [L,M,AM,H,C]}\n",
    "\n",
    "# Converting in to a Dataframe:\n",
    "Price_df = pd.DataFrame(Price)\n",
    "\n",
    "# Visualizing:\n",
    "x = Price_df['Type']\n",
    "y = Price_df['Value']\n",
    "ax = sns.barplot(x,y)\n",
    "ax.bar_label(ax.containers[0])\n",
    "plt.show()"
   ]
  },
  {
   "cell_type": "markdown",
   "id": "3b6b7062",
   "metadata": {},
   "source": [
    "#### List of Brands under Price category :"
   ]
  },
  {
   "cell_type": "code",
   "execution_count": 504,
   "id": "a2e465da",
   "metadata": {},
   "outputs": [
    {
     "name": "stdout",
     "output_type": "stream",
     "text": [
      "\n",
      "The list of Brands that have Low Price Mobiles : \n",
      "['IAIR', 'REALME', 'REDMI', 'SAMSUNG', 'POCO', 'INFINIX', 'NOKIA', 'MICROMAX', 'LAVA', 'MARQ', 'MOTOROLA', 'IKALL', 'GOOD', 'ITEL', 'VIVO', 'KARBONN', 'TECNO', 'OPPO', 'KECHAODA', 'BLACKZONE', 'DIZO', 'SALORA', 'GREENBERRI', 'CELLECOR', 'GFIVE', 'ENERGIZER', 'SNEXIAN', 'GRABO', 'SAREGAMA', 'NUVO']\n",
      "The no. of Brands That have Low Price Mobile(below 10K) : 30\n",
      "\n",
      "\n",
      "The list of Brands that have Medium Price Mobiles : \n",
      "['REALME', 'VIVO', 'SAMSUNG', 'POCO', 'REDMI', 'OPPO', 'MOTOROLA', 'INFINIX', 'MOTO', 'ONEPLUS', 'IQOO', 'TECNO', 'NOKIA', 'MAPLIN']\n",
      "The no. of Brands That have Medium Price Mobile(below 10K) : 14\n",
      "\n",
      "\n",
      "The list of Brands that have Above_med Price Mobiles : \n",
      "['XIAOMI', 'SAMSUNG', 'REALME', 'POCO', 'VIVO', 'OPPO', 'REDMI', 'MOTOROLA', 'IQOO']\n",
      "The no. of Brands That have Above_med Price Mobile(below 10K) : 9\n",
      "\n",
      "\n",
      "The list of Brands that have High Price Mobiles : \n",
      "['APPLE', 'SAMSUNG', 'REALME', 'VIVO', 'GOOGLE', 'NOTHING', 'MOTOROLA', 'OPPO', 'ONEPLUS', 'XIAOMI']\n",
      "The no. of Brands That have High Price Mobile(below 10K) : 10\n",
      "\n",
      "\n",
      "The list of Brands that have Costly Mobiles : \n",
      "['APPLE', 'SAMSUNG', 'MOTOROLA', 'REALME']\n",
      "The no. of Brands That have Costly Mobile(below 10K) : 4\n",
      "\n"
     ]
    }
   ],
   "source": [
    "low_brands = list(low[\"Brand_name\"].unique())\n",
    "medium_brands = list(medium[\"Brand_name\"].unique())\n",
    "above_med_brands = list(above_medium[\"Brand_name\"].unique())\n",
    "high_brands = list(high[\"Brand_name\"].unique())\n",
    "costly_brands = list(costly[\"Brand_name\"].unique())\n",
    "\n",
    "Bprice_range = [low_brands, medium_brands, above_med_brands, high_brands, costly_brands]\n",
    "tag = ['Low Price', 'Medium Price', 'Above_med Price', 'High Price', 'Costly']\n",
    "\n",
    "for i, j in zip(Bprice_range,tag):\n",
    "    print()\n",
    "    print(f'The list of Brands that have {j} Mobiles : \\n{i}')\n",
    "    print(f\"The no. of Brands That have {j} Mobile(below 10K) : {len(i)}\")\n",
    "    print()"
   ]
  },
  {
   "cell_type": "code",
   "execution_count": 505,
   "id": "76466937",
   "metadata": {},
   "outputs": [
    {
     "data": {
      "image/png": "[encoded data removed]",
      "text/plain": [
       "<Figure size 864x432 with 1 Axes>"
      ]
     },
     "metadata": {
      "needs_background": "light"
     },
     "output_type": "display_data"
    }
   ],
   "source": [
    "storage_category = final_df['Internal_storage'].value_counts()\n",
    "ax = sns.barplot(x = storage_category.index, y = storage_category.values)\n",
    "plt.bar_label(ax.containers[0])\n",
    "plt.show()"
   ]
  },
  {
   "cell_type": "code",
   "execution_count": 511,
   "id": "c589ebc4",
   "metadata": {},
   "outputs": [],
   "source": [
    "i128gb = final_df[final_df['Internal_storage'] == '128 GB']\n",
    "i64gb = final_df[final_df['Internal_storage'] == '64 GB']\n",
    "i32gb = final_df[final_df['Internal_storage'] == '32 GB']\n",
    "i256gb = final_df[final_df['Internal_storage'] == '256 GB']\n",
    "i16gb = final_df[final_df['Internal_storage'] == '16 GB']"
   ]
  },
  {
   "cell_type": "code",
   "execution_count": 527,
   "id": "e4e931f2",
   "metadata": {},
   "outputs": [
    {
     "name": "stdout",
     "output_type": "stream",
     "text": [
      "\n",
      "List of Brands that are providing 256 GB storage capacity :\n",
      " (['REALME', 'VIVO', 'APPLE', 'OPPO', 'REDMI', 'IQOO', 'POCO', 'XIAOMI', 'INFINIX', 'SAMSUNG'],)\n",
      "No of Brands that are providing 256 GB storage capacity : 10\n",
      "\n",
      "List of Brands that are providing 128 GB storage capacity :\n",
      " (['IAIR', 'REALME', 'APPLE', 'SAMSUNG', 'VIVO', 'NOKIA', 'POCO', 'OPPO', 'MOTOROLA', 'MICROMAX', 'INFINIX', 'LAVA', 'XIAOMI', 'REDMI', 'MARQ', 'GOOD', 'MOTO', 'ITEL', 'KARBONN', 'GOOGLE', 'NOTHING', 'ONEPLUS', 'TECNO', 'KECHAODA', 'BLACKZONE', 'DIZO', 'IQOO', 'SALORA', 'GREENBERRI', 'CELLECOR', 'GFIVE', 'ENERGIZER', 'SNEXIAN', 'GRABO', 'SAREGAMA', 'NUVO', 'MAPLIN'],)\n",
      "No of Brands that are providing 128 GB storage capacity : 37\n",
      "\n",
      "List of Brands that are providing 64 GB storage capacity :\n",
      " (['REALME', 'REDMI', 'APPLE', 'SAMSUNG', 'POCO', 'INFINIX', 'VIVO', 'MOTOROLA', 'IKALL', 'TECNO', 'OPPO', 'LAVA', 'ITEL'],)\n",
      "No of Brands that are providing 64 GB storage capacity : 13\n",
      "\n",
      "List of Brands that are providing 32 GB storage capacity :\n",
      " (['REALME', 'POCO', 'INFINIX', 'REDMI', 'VIVO', 'OPPO', 'ITEL', 'TECNO', 'SAMSUNG', 'MOTOROLA', 'NOKIA'],)\n",
      "No of Brands that are providing 32 GB storage capacity : 11\n",
      "\n",
      "List of Brands that are providing 16GB storage capacity :\n",
      " (['ITEL'],)\n",
      "No of Brands that are providing 16GB storage capacity : 1\n"
     ]
    }
   ],
   "source": [
    "B128 = list(i128gb['Brand_name'].unique())\n",
    "B64 = list(i64gb['Brand_name'].unique())\n",
    "B32 = list(i32gb['Brand_name'].unique())\n",
    "B256 = list(i256gb['Brand_name'].unique())\n",
    "B16 = list(i16gb['Brand_name'].unique())\n",
    "\n",
    "Storage_category = [B256, B128, B64, B32, B16]\n",
    "Storage_tag = ['256 GB', '128 GB', '64 GB', '32 GB', '16GB']\n",
    "\n",
    "for i,j in zip(Storage_category, Storage_tag):\n",
    "    print()\n",
    "    print(f\"List of Brands that are providing {j} storage capacity :\\n {i,}\")\n",
    "    print(f\"No of Brands that are providing {j} storage capacity : {len(i)}\")"
   ]
  },
  {
   "cell_type": "code",
   "execution_count": 573,
   "id": "bb77f047",
   "metadata": {},
   "outputs": [],
   "source": [
    "rating = (final_df.groupby(['Ratings','Brand_name']).size())\n",
    "rating_df = pd.DataFrame(rating)"
   ]
  },
  {
   "cell_type": "code",
   "execution_count": 565,
   "id": "1c16f5dc",
   "metadata": {},
   "outputs": [
    {
     "data": {
      "text/html": [
       "<div>\n",
       "<style scoped>\n",
       "    .dataframe tbody tr th:only-of-type {\n",
       "        vertical-align: middle;\n",
       "    }\n",
       "\n",
       "    .dataframe tbody tr th {\n",
       "        vertical-align: top;\n",
       "    }\n",
       "\n",
       "    .dataframe thead th {\n",
       "        text-align: right;\n",
       "    }\n",
       "</style>\n",
       "<table border=\"1\" class=\"dataframe\">\n",
       "  <thead>\n",
       "    <tr style=\"text-align: right;\">\n",
       "      <th></th>\n",
       "      <th></th>\n",
       "      <th>Count</th>\n",
       "    </tr>\n",
       "    <tr>\n",
       "      <th>Ratings</th>\n",
       "      <th>Brand_name</th>\n",
       "      <th></th>\n",
       "    </tr>\n",
       "  </thead>\n",
       "  <tbody>\n",
       "    <tr>\n",
       "      <th rowspan=\"5\" valign=\"top\">0.0</th>\n",
       "      <th>APPLE</th>\n",
       "      <td>3</td>\n",
       "    </tr>\n",
       "    <tr>\n",
       "      <th>IKALL</th>\n",
       "      <td>1</td>\n",
       "    </tr>\n",
       "    <tr>\n",
       "      <th>KECHAODA</th>\n",
       "      <td>1</td>\n",
       "    </tr>\n",
       "    <tr>\n",
       "      <th>MAPLIN</th>\n",
       "      <td>1</td>\n",
       "    </tr>\n",
       "    <tr>\n",
       "      <th>MICROMAX</th>\n",
       "      <td>1</td>\n",
       "    </tr>\n",
       "    <tr>\n",
       "      <th>...</th>\n",
       "      <th>...</th>\n",
       "      <td>...</td>\n",
       "    </tr>\n",
       "    <tr>\n",
       "      <th>4.6</th>\n",
       "      <th>SAMSUNG</th>\n",
       "      <td>3</td>\n",
       "    </tr>\n",
       "    <tr>\n",
       "      <th rowspan=\"2\" valign=\"top\">4.7</th>\n",
       "      <th>APPLE</th>\n",
       "      <td>9</td>\n",
       "    </tr>\n",
       "    <tr>\n",
       "      <th>CELLECOR</th>\n",
       "      <td>1</td>\n",
       "    </tr>\n",
       "    <tr>\n",
       "      <th>4.8</th>\n",
       "      <th>IQOO</th>\n",
       "      <td>1</td>\n",
       "    </tr>\n",
       "    <tr>\n",
       "      <th>5.0</th>\n",
       "      <th>NOKIA</th>\n",
       "      <td>2</td>\n",
       "    </tr>\n",
       "  </tbody>\n",
       "</table>\n",
       "<p>142 rows × 1 columns</p>\n",
       "</div>"
      ],
      "text/plain": [
       "                    Count\n",
       "Ratings Brand_name       \n",
       "0.0     APPLE           3\n",
       "        IKALL           1\n",
       "        KECHAODA        1\n",
       "        MAPLIN          1\n",
       "        MICROMAX        1\n",
       "...                   ...\n",
       "4.6     SAMSUNG         3\n",
       "4.7     APPLE           9\n",
       "        CELLECOR        1\n",
       "4.8     IQOO            1\n",
       "5.0     NOKIA           2\n",
       "\n",
       "[142 rows x 1 columns]"
      ]
     },
     "execution_count": 565,
     "metadata": {},
     "output_type": "execute_result"
    }
   ],
   "source": [
    "rating_df.rename(columns = {0: 'Count'})"
   ]
  },
  {
   "cell_type": "code",
   "execution_count": 581,
   "id": "d85de946",
   "metadata": {},
   "outputs": [
    {
     "data": {
      "text/plain": [
       "1     60\n",
       "2     17\n",
       "3      9\n",
       "6      9\n",
       "4      8\n",
       "8      4\n",
       "7      4\n",
       "5      4\n",
       "17     3\n",
       "12     3\n",
       "16     3\n",
       "10     3\n",
       "9      2\n",
       "14     2\n",
       "21     2\n",
       "22     2\n",
       "19     1\n",
       "57     1\n",
       "31     1\n",
       "32     1\n",
       "23     1\n",
       "60     1\n",
       "25     1\n",
       "Name: 0, dtype: int64"
      ]
     },
     "execution_count": 581,
     "metadata": {},
     "output_type": "execute_result"
    }
   ],
   "source": []
  },
  {
   "cell_type": "code",
   "execution_count": null,
   "id": "d369c6f8",
   "metadata": {},
   "outputs": [],
   "source": []
  },
  {
   "cell_type": "code",
   "execution_count": null,
   "id": "7e9ad2bc",
   "metadata": {},
   "outputs": [],
   "source": []
  },
  {
   "cell_type": "code",
   "execution_count": null,
   "id": "e2686c59",
   "metadata": {},
   "outputs": [],
   "source": []
  },
  {
   "cell_type": "code",
   "execution_count": null,
   "id": "769a40f2",
   "metadata": {},
   "outputs": [],
   "source": []
  },
  {
   "cell_type": "code",
   "execution_count": null,
   "id": "352350c1",
   "metadata": {},
   "outputs": [],
   "source": []
  },
  {
   "cell_type": "code",
   "execution_count": null,
   "id": "eee327cc",
   "metadata": {},
   "outputs": [],
   "source": []
  },
  {
   "cell_type": "code",
   "execution_count": null,
   "id": "ca42ae11",
   "metadata": {},
   "outputs": [],
   "source": []
  }
 ],
 "metadata": {
  "kernelspec": {
   "display_name": "Python 3 (ipykernel)",
   "language": "python",
   "name": "python3"
  },
  "language_info": {
   "codemirror_mode": {
    "name": "ipython",
    "version": 3
   },
   "file_extension": ".py",
   "mimetype": "text/x-python",
   "name": "python",
   "nbconvert_exporter": "python",
   "pygments_lexer": "ipython3",
   "version": "3.9.12"
  }
 },
 "nbformat": 4,
 "nbformat_minor": 5
}
