{
 "cells": [
  {
   "cell_type": "markdown",
   "id": "057068e4",
   "metadata": {},
   "source": [
    "# Importing Libraries"
   ]
  },
  {
   "cell_type": "code",
   "execution_count": 3,
   "id": "4466b9c8",
   "metadata": {},
   "outputs": [],
   "source": [
    "import pandas as pd\n",
    "import numpy as np\n",
    "import matplotlib as mat\n",
    "import matplotlib.pyplot as plt\n",
    "import seaborn as sns\n",
    "%matplotlib inline\n",
    "\n",
    "pd.pandas.set_option('display.max_columns',None)"
   ]
  },
  {
   "cell_type": "markdown",
   "id": "e87fdaf5",
   "metadata": {},
   "source": [
    "# Importing Dataset:"
   ]
  },
  {
   "cell_type": "code",
   "execution_count": 4,
   "id": "fe2321cb",
   "metadata": {},
   "outputs": [],
   "source": [
    "df = pd.read_csv(r'C:\\Users\\Admin\\Downloads\\Products1.csv')"
   ]
  },
  {
   "cell_type": "code",
   "execution_count": 5,
   "id": "1be8f5f8",
   "metadata": {},
   "outputs": [
    {
     "data": {
      "text/html": [
       "<div>\n",
       "<style scoped>\n",
       "    .dataframe tbody tr th:only-of-type {\n",
       "        vertical-align: middle;\n",
       "    }\n",
       "\n",
       "    .dataframe tbody tr th {\n",
       "        vertical-align: top;\n",
       "    }\n",
       "\n",
       "    .dataframe thead th {\n",
       "        text-align: right;\n",
       "    }\n",
       "</style>\n",
       "<table border=\"1\" class=\"dataframe\">\n",
       "  <thead>\n",
       "    <tr style=\"text-align: right;\">\n",
       "      <th></th>\n",
       "      <th>Name</th>\n",
       "      <th>Sale_Price</th>\n",
       "      <th>Actual_price</th>\n",
       "      <th>Actual_Price1</th>\n",
       "      <th>Discount_Price</th>\n",
       "      <th>Discount(%)</th>\n",
       "      <th>Ratings</th>\n",
       "      <th>Rating_Counts</th>\n",
       "      <th>Review_Counts</th>\n",
       "      <th>Product_Details</th>\n",
       "    </tr>\n",
       "  </thead>\n",
       "  <tbody>\n",
       "    <tr>\n",
       "      <th>0</th>\n",
       "      <td>IAIR D23</td>\n",
       "      <td>1097</td>\n",
       "      <td>1099</td>\n",
       "      <td>1099</td>\n",
       "      <td>2</td>\n",
       "      <td>0.18</td>\n",
       "      <td>4.3</td>\n",
       "      <td>42</td>\n",
       "      <td>12</td>\n",
       "      <td>32 MB RAM | 32 MB ROM4.5 cm (1.77 inch) NA Dis...</td>\n",
       "    </tr>\n",
       "    <tr>\n",
       "      <th>1</th>\n",
       "      <td>IAIR D10</td>\n",
       "      <td>1161</td>\n",
       "      <td>1199</td>\n",
       "      <td>1199</td>\n",
       "      <td>38</td>\n",
       "      <td>3.17</td>\n",
       "      <td>4.0</td>\n",
       "      <td>37</td>\n",
       "      <td>19</td>\n",
       "      <td>32 MB RAM | 32 MB ROM4.5 cm (1.77 inch) Displa...</td>\n",
       "    </tr>\n",
       "    <tr>\n",
       "      <th>2</th>\n",
       "      <td>realme 9i (Prism Black, 128 GB)</td>\n",
       "      <td>11099</td>\n",
       "      <td>16999</td>\n",
       "      <td>16999</td>\n",
       "      <td>5900</td>\n",
       "      <td>34.71</td>\n",
       "      <td>4.5</td>\n",
       "      <td>88001</td>\n",
       "      <td>4862</td>\n",
       "      <td>4 GB RAM | 128 GB ROM | Expandable Upto 1 TB16...</td>\n",
       "    </tr>\n",
       "    <tr>\n",
       "      <th>3</th>\n",
       "      <td>realme 9i (Prism Blue, 128 GB)</td>\n",
       "      <td>11099</td>\n",
       "      <td>16999</td>\n",
       "      <td>16999</td>\n",
       "      <td>5900</td>\n",
       "      <td>34.71</td>\n",
       "      <td>4.5</td>\n",
       "      <td>88001</td>\n",
       "      <td>4862</td>\n",
       "      <td>4 GB RAM | 128 GB ROM | Expandable Upto 1 TB16...</td>\n",
       "    </tr>\n",
       "    <tr>\n",
       "      <th>4</th>\n",
       "      <td>realme C31 (Dark Green, 64 GB)</td>\n",
       "      <td>9999</td>\n",
       "      <td>11999</td>\n",
       "      <td>11999</td>\n",
       "      <td>2000</td>\n",
       "      <td>16.67</td>\n",
       "      <td>4.4</td>\n",
       "      <td>35514</td>\n",
       "      <td>1799</td>\n",
       "      <td>4 GB RAM | 64 GB ROM | Expandable Upto 1 TB16....</td>\n",
       "    </tr>\n",
       "  </tbody>\n",
       "</table>\n",
       "</div>"
      ],
      "text/plain": [
       "                              Name  Sale_Price  Actual_price  Actual_Price1  \\\n",
       "0                         IAIR D23        1097          1099           1099   \n",
       "1                         IAIR D10        1161          1199           1199   \n",
       "2  realme 9i (Prism Black, 128 GB)       11099         16999          16999   \n",
       "3   realme 9i (Prism Blue, 128 GB)       11099         16999          16999   \n",
       "4   realme C31 (Dark Green, 64 GB)        9999         11999          11999   \n",
       "\n",
       "   Discount_Price  Discount(%)  Ratings  Rating_Counts  Review_Counts  \\\n",
       "0               2         0.18      4.3             42             12   \n",
       "1              38         3.17      4.0             37             19   \n",
       "2            5900        34.71      4.5          88001           4862   \n",
       "3            5900        34.71      4.5          88001           4862   \n",
       "4            2000        16.67      4.4          35514           1799   \n",
       "\n",
       "                                     Product_Details  \n",
       "0  32 MB RAM | 32 MB ROM4.5 cm (1.77 inch) NA Dis...  \n",
       "1  32 MB RAM | 32 MB ROM4.5 cm (1.77 inch) Displa...  \n",
       "2  4 GB RAM | 128 GB ROM | Expandable Upto 1 TB16...  \n",
       "3  4 GB RAM | 128 GB ROM | Expandable Upto 1 TB16...  \n",
       "4  4 GB RAM | 64 GB ROM | Expandable Upto 1 TB16....  "
      ]
     },
     "execution_count": 5,
     "metadata": {},
     "output_type": "execute_result"
    }
   ],
   "source": [
    "df.head()"
   ]
  },
  {
   "cell_type": "code",
   "execution_count": 6,
   "id": "ea073a1d",
   "metadata": {},
   "outputs": [],
   "source": [
    "df.drop(['Actual_Price1'], axis = 1, inplace = True)"
   ]
  },
  {
   "cell_type": "raw",
   "id": "370b944e",
   "metadata": {},
   "source": [
    "Removed the column \"Actual_Price1\"."
   ]
  },
  {
   "cell_type": "markdown",
   "id": "581c5d37",
   "metadata": {},
   "source": [
    "# Exploring The Dataset:"
   ]
  },
  {
   "cell_type": "code",
   "execution_count": 7,
   "id": "f7aab04e",
   "metadata": {},
   "outputs": [
    {
     "name": "stdout",
     "output_type": "stream",
     "text": [
      "<class 'pandas.core.frame.DataFrame'>\n",
      "RangeIndex: 984 entries, 0 to 983\n",
      "Data columns (total 9 columns):\n",
      " #   Column           Non-Null Count  Dtype  \n",
      "---  ------           --------------  -----  \n",
      " 0   Name             984 non-null    object \n",
      " 1   Sale_Price       984 non-null    int64  \n",
      " 2   Actual_price     984 non-null    int64  \n",
      " 3   Discount_Price   984 non-null    int64  \n",
      " 4   Discount(%)      984 non-null    float64\n",
      " 5   Ratings          984 non-null    float64\n",
      " 6   Rating_Counts    984 non-null    int64  \n",
      " 7   Review_Counts    984 non-null    int64  \n",
      " 8   Product_Details  984 non-null    object \n",
      "dtypes: float64(2), int64(5), object(2)\n",
      "memory usage: 69.3+ KB\n"
     ]
    }
   ],
   "source": [
    "df.info()"
   ]
  },
  {
   "cell_type": "code",
   "execution_count": 8,
   "id": "7162721d",
   "metadata": {},
   "outputs": [
    {
     "data": {
      "text/html": [
       "<div>\n",
       "<style scoped>\n",
       "    .dataframe tbody tr th:only-of-type {\n",
       "        vertical-align: middle;\n",
       "    }\n",
       "\n",
       "    .dataframe tbody tr th {\n",
       "        vertical-align: top;\n",
       "    }\n",
       "\n",
       "    .dataframe thead th {\n",
       "        text-align: right;\n",
       "    }\n",
       "</style>\n",
       "<table border=\"1\" class=\"dataframe\">\n",
       "  <thead>\n",
       "    <tr style=\"text-align: right;\">\n",
       "      <th></th>\n",
       "      <th>Sale_Price</th>\n",
       "      <th>Actual_price</th>\n",
       "      <th>Discount_Price</th>\n",
       "      <th>Discount(%)</th>\n",
       "      <th>Ratings</th>\n",
       "      <th>Rating_Counts</th>\n",
       "      <th>Review_Counts</th>\n",
       "    </tr>\n",
       "  </thead>\n",
       "  <tbody>\n",
       "    <tr>\n",
       "      <th>count</th>\n",
       "      <td>984.000000</td>\n",
       "      <td>984.000000</td>\n",
       "      <td>984.000000</td>\n",
       "      <td>984.000000</td>\n",
       "      <td>984.000000</td>\n",
       "      <td>984.000000</td>\n",
       "      <td>984.000000</td>\n",
       "    </tr>\n",
       "    <tr>\n",
       "      <th>mean</th>\n",
       "      <td>13022.112805</td>\n",
       "      <td>15602.795732</td>\n",
       "      <td>2580.682927</td>\n",
       "      <td>11.798801</td>\n",
       "      <td>4.105488</td>\n",
       "      <td>24793.230691</td>\n",
       "      <td>1826.095528</td>\n",
       "    </tr>\n",
       "    <tr>\n",
       "      <th>std</th>\n",
       "      <td>15050.019752</td>\n",
       "      <td>17409.896230</td>\n",
       "      <td>4173.360612</td>\n",
       "      <td>12.856425</td>\n",
       "      <td>0.642406</td>\n",
       "      <td>55171.062052</td>\n",
       "      <td>3909.213997</td>\n",
       "    </tr>\n",
       "    <tr>\n",
       "      <th>min</th>\n",
       "      <td>719.000000</td>\n",
       "      <td>749.000000</td>\n",
       "      <td>0.000000</td>\n",
       "      <td>0.000000</td>\n",
       "      <td>0.000000</td>\n",
       "      <td>0.000000</td>\n",
       "      <td>0.000000</td>\n",
       "    </tr>\n",
       "    <tr>\n",
       "      <th>25%</th>\n",
       "      <td>1387.500000</td>\n",
       "      <td>1460.500000</td>\n",
       "      <td>0.000000</td>\n",
       "      <td>0.000000</td>\n",
       "      <td>4.100000</td>\n",
       "      <td>268.250000</td>\n",
       "      <td>26.000000</td>\n",
       "    </tr>\n",
       "    <tr>\n",
       "      <th>50%</th>\n",
       "      <td>10999.000000</td>\n",
       "      <td>13484.500000</td>\n",
       "      <td>320.500000</td>\n",
       "      <td>7.870000</td>\n",
       "      <td>4.200000</td>\n",
       "      <td>3519.000000</td>\n",
       "      <td>304.000000</td>\n",
       "    </tr>\n",
       "    <tr>\n",
       "      <th>75%</th>\n",
       "      <td>16492.250000</td>\n",
       "      <td>19999.000000</td>\n",
       "      <td>4500.000000</td>\n",
       "      <td>22.500000</td>\n",
       "      <td>4.300000</td>\n",
       "      <td>20151.000000</td>\n",
       "      <td>1823.500000</td>\n",
       "    </tr>\n",
       "    <tr>\n",
       "      <th>max</th>\n",
       "      <td>139900.000000</td>\n",
       "      <td>139900.000000</td>\n",
       "      <td>40000.000000</td>\n",
       "      <td>60.020000</td>\n",
       "      <td>5.000000</td>\n",
       "      <td>571532.000000</td>\n",
       "      <td>34624.000000</td>\n",
       "    </tr>\n",
       "  </tbody>\n",
       "</table>\n",
       "</div>"
      ],
      "text/plain": [
       "          Sale_Price   Actual_price  Discount_Price  Discount(%)     Ratings  \\\n",
       "count     984.000000     984.000000      984.000000   984.000000  984.000000   \n",
       "mean    13022.112805   15602.795732     2580.682927    11.798801    4.105488   \n",
       "std     15050.019752   17409.896230     4173.360612    12.856425    0.642406   \n",
       "min       719.000000     749.000000        0.000000     0.000000    0.000000   \n",
       "25%      1387.500000    1460.500000        0.000000     0.000000    4.100000   \n",
       "50%     10999.000000   13484.500000      320.500000     7.870000    4.200000   \n",
       "75%     16492.250000   19999.000000     4500.000000    22.500000    4.300000   \n",
       "max    139900.000000  139900.000000    40000.000000    60.020000    5.000000   \n",
       "\n",
       "       Rating_Counts  Review_Counts  \n",
       "count     984.000000     984.000000  \n",
       "mean    24793.230691    1826.095528  \n",
       "std     55171.062052    3909.213997  \n",
       "min         0.000000       0.000000  \n",
       "25%       268.250000      26.000000  \n",
       "50%      3519.000000     304.000000  \n",
       "75%     20151.000000    1823.500000  \n",
       "max    571532.000000   34624.000000  "
      ]
     },
     "execution_count": 8,
     "metadata": {},
     "output_type": "execute_result"
    }
   ],
   "source": [
    "df.describe()"
   ]
  },
  {
   "cell_type": "code",
   "execution_count": 9,
   "id": "7e2a4298",
   "metadata": {},
   "outputs": [
    {
     "data": {
      "text/plain": [
       "(984, 9)"
      ]
     },
     "execution_count": 9,
     "metadata": {},
     "output_type": "execute_result"
    }
   ],
   "source": [
    "df.shape"
   ]
  },
  {
   "cell_type": "code",
   "execution_count": 10,
   "id": "7d810837",
   "metadata": {},
   "outputs": [
    {
     "data": {
      "text/plain": [
       "8856"
      ]
     },
     "execution_count": 10,
     "metadata": {},
     "output_type": "execute_result"
    }
   ],
   "source": [
    "df.size"
   ]
  },
  {
   "cell_type": "code",
   "execution_count": 11,
   "id": "48f05528",
   "metadata": {},
   "outputs": [
    {
     "data": {
      "text/plain": [
       "984"
      ]
     },
     "execution_count": 11,
     "metadata": {},
     "output_type": "execute_result"
    }
   ],
   "source": [
    "len(df)"
   ]
  },
  {
   "cell_type": "markdown",
   "id": "ef1b9b15",
   "metadata": {},
   "source": [
    "# Cleaning the Dataset:"
   ]
  },
  {
   "cell_type": "code",
   "execution_count": 12,
   "id": "e06a1cf2",
   "metadata": {},
   "outputs": [],
   "source": [
    "df['Color'] = df['Name'].str.split('(').str[1]\n",
    "df.Name = df['Name'].str.split('(').str[0]"
   ]
  },
  {
   "cell_type": "code",
   "execution_count": 13,
   "id": "6c1ef3fe",
   "metadata": {},
   "outputs": [
    {
     "data": {
      "text/html": [
       "<div>\n",
       "<style scoped>\n",
       "    .dataframe tbody tr th:only-of-type {\n",
       "        vertical-align: middle;\n",
       "    }\n",
       "\n",
       "    .dataframe tbody tr th {\n",
       "        vertical-align: top;\n",
       "    }\n",
       "\n",
       "    .dataframe thead th {\n",
       "        text-align: right;\n",
       "    }\n",
       "</style>\n",
       "<table border=\"1\" class=\"dataframe\">\n",
       "  <thead>\n",
       "    <tr style=\"text-align: right;\">\n",
       "      <th></th>\n",
       "      <th>Name</th>\n",
       "      <th>Sale_Price</th>\n",
       "      <th>Actual_price</th>\n",
       "      <th>Discount_Price</th>\n",
       "      <th>Discount(%)</th>\n",
       "      <th>Ratings</th>\n",
       "      <th>Rating_Counts</th>\n",
       "      <th>Review_Counts</th>\n",
       "      <th>Product_Details</th>\n",
       "      <th>Color</th>\n",
       "    </tr>\n",
       "  </thead>\n",
       "  <tbody>\n",
       "    <tr>\n",
       "      <th>0</th>\n",
       "      <td>IAIR D23</td>\n",
       "      <td>1097</td>\n",
       "      <td>1099</td>\n",
       "      <td>2</td>\n",
       "      <td>0.18</td>\n",
       "      <td>4.3</td>\n",
       "      <td>42</td>\n",
       "      <td>12</td>\n",
       "      <td>32 MB RAM | 32 MB ROM4.5 cm (1.77 inch) NA Dis...</td>\n",
       "      <td>NaN</td>\n",
       "    </tr>\n",
       "    <tr>\n",
       "      <th>1</th>\n",
       "      <td>IAIR D10</td>\n",
       "      <td>1161</td>\n",
       "      <td>1199</td>\n",
       "      <td>38</td>\n",
       "      <td>3.17</td>\n",
       "      <td>4.0</td>\n",
       "      <td>37</td>\n",
       "      <td>19</td>\n",
       "      <td>32 MB RAM | 32 MB ROM4.5 cm (1.77 inch) Displa...</td>\n",
       "      <td>NaN</td>\n",
       "    </tr>\n",
       "    <tr>\n",
       "      <th>2</th>\n",
       "      <td>realme 9i</td>\n",
       "      <td>11099</td>\n",
       "      <td>16999</td>\n",
       "      <td>5900</td>\n",
       "      <td>34.71</td>\n",
       "      <td>4.5</td>\n",
       "      <td>88001</td>\n",
       "      <td>4862</td>\n",
       "      <td>4 GB RAM | 128 GB ROM | Expandable Upto 1 TB16...</td>\n",
       "      <td>Prism Black, 128 GB)</td>\n",
       "    </tr>\n",
       "    <tr>\n",
       "      <th>3</th>\n",
       "      <td>realme 9i</td>\n",
       "      <td>11099</td>\n",
       "      <td>16999</td>\n",
       "      <td>5900</td>\n",
       "      <td>34.71</td>\n",
       "      <td>4.5</td>\n",
       "      <td>88001</td>\n",
       "      <td>4862</td>\n",
       "      <td>4 GB RAM | 128 GB ROM | Expandable Upto 1 TB16...</td>\n",
       "      <td>Prism Blue, 128 GB)</td>\n",
       "    </tr>\n",
       "    <tr>\n",
       "      <th>4</th>\n",
       "      <td>realme C31</td>\n",
       "      <td>9999</td>\n",
       "      <td>11999</td>\n",
       "      <td>2000</td>\n",
       "      <td>16.67</td>\n",
       "      <td>4.4</td>\n",
       "      <td>35514</td>\n",
       "      <td>1799</td>\n",
       "      <td>4 GB RAM | 64 GB ROM | Expandable Upto 1 TB16....</td>\n",
       "      <td>Dark Green, 64 GB)</td>\n",
       "    </tr>\n",
       "  </tbody>\n",
       "</table>\n",
       "</div>"
      ],
      "text/plain": [
       "          Name  Sale_Price  Actual_price  Discount_Price  Discount(%)  \\\n",
       "0     IAIR D23        1097          1099               2         0.18   \n",
       "1     IAIR D10        1161          1199              38         3.17   \n",
       "2   realme 9i        11099         16999            5900        34.71   \n",
       "3   realme 9i        11099         16999            5900        34.71   \n",
       "4  realme C31         9999         11999            2000        16.67   \n",
       "\n",
       "   Ratings  Rating_Counts  Review_Counts  \\\n",
       "0      4.3             42             12   \n",
       "1      4.0             37             19   \n",
       "2      4.5          88001           4862   \n",
       "3      4.5          88001           4862   \n",
       "4      4.4          35514           1799   \n",
       "\n",
       "                                     Product_Details                 Color  \n",
       "0  32 MB RAM | 32 MB ROM4.5 cm (1.77 inch) NA Dis...                   NaN  \n",
       "1  32 MB RAM | 32 MB ROM4.5 cm (1.77 inch) Displa...                   NaN  \n",
       "2  4 GB RAM | 128 GB ROM | Expandable Upto 1 TB16...  Prism Black, 128 GB)  \n",
       "3  4 GB RAM | 128 GB ROM | Expandable Upto 1 TB16...   Prism Blue, 128 GB)  \n",
       "4  4 GB RAM | 64 GB ROM | Expandable Upto 1 TB16....    Dark Green, 64 GB)  "
      ]
     },
     "execution_count": 13,
     "metadata": {},
     "output_type": "execute_result"
    }
   ],
   "source": [
    "df.head()"
   ]
  },
  {
   "cell_type": "code",
   "execution_count": 14,
   "id": "91004e8a",
   "metadata": {},
   "outputs": [
    {
     "name": "stderr",
     "output_type": "stream",
     "text": [
      "C:\\Users\\Admin\\AppData\\Local\\Temp\\ipykernel_13268\\4212816110.py:1: FutureWarning: The default value of regex will change from True to False in a future version. In addition, single character regular expressions will *not* be treated as literal strings when regex=True.\n",
      "  df['Internal_storage'] = df['Color'].str.split(',').str[1].str.replace(')','')\n"
     ]
    }
   ],
   "source": [
    "df['Internal_storage'] = df['Color'].str.split(',').str[1].str.replace(')','')\n",
    "df.Color = df['Color'].str.split(',').str[0]"
   ]
  },
  {
   "cell_type": "code",
   "execution_count": 15,
   "id": "a616c74c",
   "metadata": {},
   "outputs": [
    {
     "data": {
      "text/html": [
       "<div>\n",
       "<style scoped>\n",
       "    .dataframe tbody tr th:only-of-type {\n",
       "        vertical-align: middle;\n",
       "    }\n",
       "\n",
       "    .dataframe tbody tr th {\n",
       "        vertical-align: top;\n",
       "    }\n",
       "\n",
       "    .dataframe thead th {\n",
       "        text-align: right;\n",
       "    }\n",
       "</style>\n",
       "<table border=\"1\" class=\"dataframe\">\n",
       "  <thead>\n",
       "    <tr style=\"text-align: right;\">\n",
       "      <th></th>\n",
       "      <th>Name</th>\n",
       "      <th>Sale_Price</th>\n",
       "      <th>Actual_price</th>\n",
       "      <th>Discount_Price</th>\n",
       "      <th>Discount(%)</th>\n",
       "      <th>Ratings</th>\n",
       "      <th>Rating_Counts</th>\n",
       "      <th>Review_Counts</th>\n",
       "      <th>Product_Details</th>\n",
       "      <th>Color</th>\n",
       "      <th>Internal_storage</th>\n",
       "    </tr>\n",
       "  </thead>\n",
       "  <tbody>\n",
       "    <tr>\n",
       "      <th>0</th>\n",
       "      <td>IAIR D23</td>\n",
       "      <td>1097</td>\n",
       "      <td>1099</td>\n",
       "      <td>2</td>\n",
       "      <td>0.18</td>\n",
       "      <td>4.3</td>\n",
       "      <td>42</td>\n",
       "      <td>12</td>\n",
       "      <td>32 MB RAM | 32 MB ROM4.5 cm (1.77 inch) NA Dis...</td>\n",
       "      <td>NaN</td>\n",
       "      <td>NaN</td>\n",
       "    </tr>\n",
       "    <tr>\n",
       "      <th>1</th>\n",
       "      <td>IAIR D10</td>\n",
       "      <td>1161</td>\n",
       "      <td>1199</td>\n",
       "      <td>38</td>\n",
       "      <td>3.17</td>\n",
       "      <td>4.0</td>\n",
       "      <td>37</td>\n",
       "      <td>19</td>\n",
       "      <td>32 MB RAM | 32 MB ROM4.5 cm (1.77 inch) Displa...</td>\n",
       "      <td>NaN</td>\n",
       "      <td>NaN</td>\n",
       "    </tr>\n",
       "    <tr>\n",
       "      <th>2</th>\n",
       "      <td>realme 9i</td>\n",
       "      <td>11099</td>\n",
       "      <td>16999</td>\n",
       "      <td>5900</td>\n",
       "      <td>34.71</td>\n",
       "      <td>4.5</td>\n",
       "      <td>88001</td>\n",
       "      <td>4862</td>\n",
       "      <td>4 GB RAM | 128 GB ROM | Expandable Upto 1 TB16...</td>\n",
       "      <td>Prism Black</td>\n",
       "      <td>128 GB</td>\n",
       "    </tr>\n",
       "    <tr>\n",
       "      <th>3</th>\n",
       "      <td>realme 9i</td>\n",
       "      <td>11099</td>\n",
       "      <td>16999</td>\n",
       "      <td>5900</td>\n",
       "      <td>34.71</td>\n",
       "      <td>4.5</td>\n",
       "      <td>88001</td>\n",
       "      <td>4862</td>\n",
       "      <td>4 GB RAM | 128 GB ROM | Expandable Upto 1 TB16...</td>\n",
       "      <td>Prism Blue</td>\n",
       "      <td>128 GB</td>\n",
       "    </tr>\n",
       "    <tr>\n",
       "      <th>4</th>\n",
       "      <td>realme C31</td>\n",
       "      <td>9999</td>\n",
       "      <td>11999</td>\n",
       "      <td>2000</td>\n",
       "      <td>16.67</td>\n",
       "      <td>4.4</td>\n",
       "      <td>35514</td>\n",
       "      <td>1799</td>\n",
       "      <td>4 GB RAM | 64 GB ROM | Expandable Upto 1 TB16....</td>\n",
       "      <td>Dark Green</td>\n",
       "      <td>64 GB</td>\n",
       "    </tr>\n",
       "  </tbody>\n",
       "</table>\n",
       "</div>"
      ],
      "text/plain": [
       "          Name  Sale_Price  Actual_price  Discount_Price  Discount(%)  \\\n",
       "0     IAIR D23        1097          1099               2         0.18   \n",
       "1     IAIR D10        1161          1199              38         3.17   \n",
       "2   realme 9i        11099         16999            5900        34.71   \n",
       "3   realme 9i        11099         16999            5900        34.71   \n",
       "4  realme C31         9999         11999            2000        16.67   \n",
       "\n",
       "   Ratings  Rating_Counts  Review_Counts  \\\n",
       "0      4.3             42             12   \n",
       "1      4.0             37             19   \n",
       "2      4.5          88001           4862   \n",
       "3      4.5          88001           4862   \n",
       "4      4.4          35514           1799   \n",
       "\n",
       "                                     Product_Details        Color  \\\n",
       "0  32 MB RAM | 32 MB ROM4.5 cm (1.77 inch) NA Dis...          NaN   \n",
       "1  32 MB RAM | 32 MB ROM4.5 cm (1.77 inch) Displa...          NaN   \n",
       "2  4 GB RAM | 128 GB ROM | Expandable Upto 1 TB16...  Prism Black   \n",
       "3  4 GB RAM | 128 GB ROM | Expandable Upto 1 TB16...   Prism Blue   \n",
       "4  4 GB RAM | 64 GB ROM | Expandable Upto 1 TB16....   Dark Green   \n",
       "\n",
       "  Internal_storage  \n",
       "0              NaN  \n",
       "1              NaN  \n",
       "2           128 GB  \n",
       "3           128 GB  \n",
       "4            64 GB  "
      ]
     },
     "execution_count": 15,
     "metadata": {},
     "output_type": "execute_result"
    }
   ],
   "source": [
    "df.head()"
   ]
  },
  {
   "cell_type": "markdown",
   "id": "f8bda184",
   "metadata": {},
   "source": [
    "### Finding the duplicate rows:"
   ]
  },
  {
   "cell_type": "code",
   "execution_count": 16,
   "id": "e70e3b2d",
   "metadata": {},
   "outputs": [],
   "source": [
    "dup = df[df.duplicated()]"
   ]
  },
  {
   "cell_type": "code",
   "execution_count": 17,
   "id": "041fe8ed",
   "metadata": {},
   "outputs": [
    {
     "data": {
      "text/html": [
       "<div>\n",
       "<style scoped>\n",
       "    .dataframe tbody tr th:only-of-type {\n",
       "        vertical-align: middle;\n",
       "    }\n",
       "\n",
       "    .dataframe tbody tr th {\n",
       "        vertical-align: top;\n",
       "    }\n",
       "\n",
       "    .dataframe thead th {\n",
       "        text-align: right;\n",
       "    }\n",
       "</style>\n",
       "<table border=\"1\" class=\"dataframe\">\n",
       "  <thead>\n",
       "    <tr style=\"text-align: right;\">\n",
       "      <th></th>\n",
       "      <th>Name</th>\n",
       "      <th>Sale_Price</th>\n",
       "      <th>Actual_price</th>\n",
       "      <th>Discount_Price</th>\n",
       "      <th>Discount(%)</th>\n",
       "      <th>Ratings</th>\n",
       "      <th>Rating_Counts</th>\n",
       "      <th>Review_Counts</th>\n",
       "      <th>Product_Details</th>\n",
       "      <th>Color</th>\n",
       "      <th>Internal_storage</th>\n",
       "    </tr>\n",
       "  </thead>\n",
       "  <tbody>\n",
       "    <tr>\n",
       "      <th>76</th>\n",
       "      <td>IAIR D23</td>\n",
       "      <td>1097</td>\n",
       "      <td>1099</td>\n",
       "      <td>2</td>\n",
       "      <td>0.18</td>\n",
       "      <td>4.3</td>\n",
       "      <td>42</td>\n",
       "      <td>12</td>\n",
       "      <td>32 MB RAM | 32 MB ROM4.5 cm (1.77 inch) NA Dis...</td>\n",
       "      <td>NaN</td>\n",
       "      <td>NaN</td>\n",
       "    </tr>\n",
       "    <tr>\n",
       "      <th>77</th>\n",
       "      <td>IAIR D10</td>\n",
       "      <td>1161</td>\n",
       "      <td>1199</td>\n",
       "      <td>38</td>\n",
       "      <td>3.17</td>\n",
       "      <td>4.0</td>\n",
       "      <td>37</td>\n",
       "      <td>19</td>\n",
       "      <td>32 MB RAM | 32 MB ROM4.5 cm (1.77 inch) Displa...</td>\n",
       "      <td>NaN</td>\n",
       "      <td>NaN</td>\n",
       "    </tr>\n",
       "    <tr>\n",
       "      <th>80</th>\n",
       "      <td>IAIR D40</td>\n",
       "      <td>1319</td>\n",
       "      <td>1319</td>\n",
       "      <td>0</td>\n",
       "      <td>0.00</td>\n",
       "      <td>3.9</td>\n",
       "      <td>22</td>\n",
       "      <td>13</td>\n",
       "      <td>32 MB RAM | 32 MB ROM5.08 cm (2 inch) NA Displ...</td>\n",
       "      <td>NaN</td>\n",
       "      <td>NaN</td>\n",
       "    </tr>\n",
       "    <tr>\n",
       "      <th>86</th>\n",
       "      <td>IAIR D24</td>\n",
       "      <td>1128</td>\n",
       "      <td>1128</td>\n",
       "      <td>0</td>\n",
       "      <td>0.00</td>\n",
       "      <td>3.8</td>\n",
       "      <td>77</td>\n",
       "      <td>26</td>\n",
       "      <td>32 MB RAM | 32 MB ROM4.5 cm (1.77 inch) NA Dis...</td>\n",
       "      <td>NaN</td>\n",
       "      <td>NaN</td>\n",
       "    </tr>\n",
       "    <tr>\n",
       "      <th>87</th>\n",
       "      <td>IAIR D41</td>\n",
       "      <td>1319</td>\n",
       "      <td>1319</td>\n",
       "      <td>0</td>\n",
       "      <td>0.00</td>\n",
       "      <td>3.4</td>\n",
       "      <td>24</td>\n",
       "      <td>7</td>\n",
       "      <td>32 MB RAM | 32 MB ROM5.08 cm (2 inch) NA Displ...</td>\n",
       "      <td>NaN</td>\n",
       "      <td>NaN</td>\n",
       "    </tr>\n",
       "    <tr>\n",
       "      <th>...</th>\n",
       "      <td>...</td>\n",
       "      <td>...</td>\n",
       "      <td>...</td>\n",
       "      <td>...</td>\n",
       "      <td>...</td>\n",
       "      <td>...</td>\n",
       "      <td>...</td>\n",
       "      <td>...</td>\n",
       "      <td>...</td>\n",
       "      <td>...</td>\n",
       "      <td>...</td>\n",
       "    </tr>\n",
       "    <tr>\n",
       "      <th>967</th>\n",
       "      <td>Kechaoda K33</td>\n",
       "      <td>1139</td>\n",
       "      <td>1139</td>\n",
       "      <td>0</td>\n",
       "      <td>0.00</td>\n",
       "      <td>4.0</td>\n",
       "      <td>7835</td>\n",
       "      <td>528</td>\n",
       "      <td>32 MB RAM | 32 MB ROM3.56 cm (1.4 inch) Displa...</td>\n",
       "      <td>NaN</td>\n",
       "      <td>NaN</td>\n",
       "    </tr>\n",
       "    <tr>\n",
       "      <th>968</th>\n",
       "      <td>Kechaoda K33</td>\n",
       "      <td>1145</td>\n",
       "      <td>1199</td>\n",
       "      <td>54</td>\n",
       "      <td>4.50</td>\n",
       "      <td>4.0</td>\n",
       "      <td>7835</td>\n",
       "      <td>528</td>\n",
       "      <td>32 MB RAM | 32 MB ROM3.56 cm (1.4 inch) Displa...</td>\n",
       "      <td>NaN</td>\n",
       "      <td>NaN</td>\n",
       "    </tr>\n",
       "    <tr>\n",
       "      <th>969</th>\n",
       "      <td>Kechaoda K33</td>\n",
       "      <td>1139</td>\n",
       "      <td>1139</td>\n",
       "      <td>0</td>\n",
       "      <td>0.00</td>\n",
       "      <td>4.0</td>\n",
       "      <td>7835</td>\n",
       "      <td>528</td>\n",
       "      <td>32 MB RAM | 32 MB ROM3.56 cm (1.4 inch) Displa...</td>\n",
       "      <td>NaN</td>\n",
       "      <td>NaN</td>\n",
       "    </tr>\n",
       "    <tr>\n",
       "      <th>978</th>\n",
       "      <td>Itel IT2163</td>\n",
       "      <td>1095</td>\n",
       "      <td>1095</td>\n",
       "      <td>0</td>\n",
       "      <td>0.00</td>\n",
       "      <td>4.1</td>\n",
       "      <td>12054</td>\n",
       "      <td>1016</td>\n",
       "      <td>4 MB RAM | 4 MB ROM | Expandable Upto 32 GB4.5...</td>\n",
       "      <td>NaN</td>\n",
       "      <td>NaN</td>\n",
       "    </tr>\n",
       "    <tr>\n",
       "      <th>979</th>\n",
       "      <td>Nuvo FLASH</td>\n",
       "      <td>899</td>\n",
       "      <td>899</td>\n",
       "      <td>0</td>\n",
       "      <td>0.00</td>\n",
       "      <td>3.7</td>\n",
       "      <td>801</td>\n",
       "      <td>82</td>\n",
       "      <td>32 MB RAM | 32 MB ROM | Expandable Upto 16 GB6...</td>\n",
       "      <td>NaN</td>\n",
       "      <td>NaN</td>\n",
       "    </tr>\n",
       "  </tbody>\n",
       "</table>\n",
       "<p>153 rows × 11 columns</p>\n",
       "</div>"
      ],
      "text/plain": [
       "             Name  Sale_Price  Actual_price  Discount_Price  Discount(%)  \\\n",
       "76       IAIR D23        1097          1099               2         0.18   \n",
       "77       IAIR D10        1161          1199              38         3.17   \n",
       "80       IAIR D40        1319          1319               0         0.00   \n",
       "86       IAIR D24        1128          1128               0         0.00   \n",
       "87       IAIR D41        1319          1319               0         0.00   \n",
       "..            ...         ...           ...             ...          ...   \n",
       "967  Kechaoda K33        1139          1139               0         0.00   \n",
       "968  Kechaoda K33        1145          1199              54         4.50   \n",
       "969  Kechaoda K33        1139          1139               0         0.00   \n",
       "978   Itel IT2163        1095          1095               0         0.00   \n",
       "979    Nuvo FLASH         899           899               0         0.00   \n",
       "\n",
       "     Ratings  Rating_Counts  Review_Counts  \\\n",
       "76       4.3             42             12   \n",
       "77       4.0             37             19   \n",
       "80       3.9             22             13   \n",
       "86       3.8             77             26   \n",
       "87       3.4             24              7   \n",
       "..       ...            ...            ...   \n",
       "967      4.0           7835            528   \n",
       "968      4.0           7835            528   \n",
       "969      4.0           7835            528   \n",
       "978      4.1          12054           1016   \n",
       "979      3.7            801             82   \n",
       "\n",
       "                                       Product_Details Color Internal_storage  \n",
       "76   32 MB RAM | 32 MB ROM4.5 cm (1.77 inch) NA Dis...   NaN              NaN  \n",
       "77   32 MB RAM | 32 MB ROM4.5 cm (1.77 inch) Displa...   NaN              NaN  \n",
       "80   32 MB RAM | 32 MB ROM5.08 cm (2 inch) NA Displ...   NaN              NaN  \n",
       "86   32 MB RAM | 32 MB ROM4.5 cm (1.77 inch) NA Dis...   NaN              NaN  \n",
       "87   32 MB RAM | 32 MB ROM5.08 cm (2 inch) NA Displ...   NaN              NaN  \n",
       "..                                                 ...   ...              ...  \n",
       "967  32 MB RAM | 32 MB ROM3.56 cm (1.4 inch) Displa...   NaN              NaN  \n",
       "968  32 MB RAM | 32 MB ROM3.56 cm (1.4 inch) Displa...   NaN              NaN  \n",
       "969  32 MB RAM | 32 MB ROM3.56 cm (1.4 inch) Displa...   NaN              NaN  \n",
       "978  4 MB RAM | 4 MB ROM | Expandable Upto 32 GB4.5...   NaN              NaN  \n",
       "979  32 MB RAM | 32 MB ROM | Expandable Upto 16 GB6...   NaN              NaN  \n",
       "\n",
       "[153 rows x 11 columns]"
      ]
     },
     "execution_count": 17,
     "metadata": {},
     "output_type": "execute_result"
    }
   ],
   "source": [
    "dup"
   ]
  },
  {
   "cell_type": "code",
   "execution_count": 18,
   "id": "e9ea59d2",
   "metadata": {},
   "outputs": [
    {
     "data": {
      "text/plain": [
       "153"
      ]
     },
     "execution_count": 18,
     "metadata": {},
     "output_type": "execute_result"
    }
   ],
   "source": [
    "len(dup)"
   ]
  },
  {
   "cell_type": "raw",
   "id": "1121df51",
   "metadata": {},
   "source": [
    "There are 153 duplicated columns present in this dataset. Let's drop the duplicated rows."
   ]
  },
  {
   "cell_type": "markdown",
   "id": "0f805c28",
   "metadata": {},
   "source": [
    "##### Drop the duplicates:"
   ]
  },
  {
   "cell_type": "code",
   "execution_count": 19,
   "id": "a04f435f",
   "metadata": {},
   "outputs": [],
   "source": [
    "df_new = df.drop_duplicates()\n",
    "df_new = df_new.reset_index(drop = True)              # In here, it will drop the old index."
   ]
  },
  {
   "cell_type": "code",
   "execution_count": 20,
   "id": "b42a0180",
   "metadata": {},
   "outputs": [
    {
     "data": {
      "text/html": [
       "<div>\n",
       "<style scoped>\n",
       "    .dataframe tbody tr th:only-of-type {\n",
       "        vertical-align: middle;\n",
       "    }\n",
       "\n",
       "    .dataframe tbody tr th {\n",
       "        vertical-align: top;\n",
       "    }\n",
       "\n",
       "    .dataframe thead th {\n",
       "        text-align: right;\n",
       "    }\n",
       "</style>\n",
       "<table border=\"1\" class=\"dataframe\">\n",
       "  <thead>\n",
       "    <tr style=\"text-align: right;\">\n",
       "      <th></th>\n",
       "      <th>Name</th>\n",
       "      <th>Sale_Price</th>\n",
       "      <th>Actual_price</th>\n",
       "      <th>Discount_Price</th>\n",
       "      <th>Discount(%)</th>\n",
       "      <th>Ratings</th>\n",
       "      <th>Rating_Counts</th>\n",
       "      <th>Review_Counts</th>\n",
       "      <th>Product_Details</th>\n",
       "      <th>Color</th>\n",
       "      <th>Internal_storage</th>\n",
       "    </tr>\n",
       "  </thead>\n",
       "  <tbody>\n",
       "    <tr>\n",
       "      <th>0</th>\n",
       "      <td>IAIR D23</td>\n",
       "      <td>1097</td>\n",
       "      <td>1099</td>\n",
       "      <td>2</td>\n",
       "      <td>0.18</td>\n",
       "      <td>4.3</td>\n",
       "      <td>42</td>\n",
       "      <td>12</td>\n",
       "      <td>32 MB RAM | 32 MB ROM4.5 cm (1.77 inch) NA Dis...</td>\n",
       "      <td>NaN</td>\n",
       "      <td>NaN</td>\n",
       "    </tr>\n",
       "    <tr>\n",
       "      <th>1</th>\n",
       "      <td>IAIR D10</td>\n",
       "      <td>1161</td>\n",
       "      <td>1199</td>\n",
       "      <td>38</td>\n",
       "      <td>3.17</td>\n",
       "      <td>4.0</td>\n",
       "      <td>37</td>\n",
       "      <td>19</td>\n",
       "      <td>32 MB RAM | 32 MB ROM4.5 cm (1.77 inch) Displa...</td>\n",
       "      <td>NaN</td>\n",
       "      <td>NaN</td>\n",
       "    </tr>\n",
       "    <tr>\n",
       "      <th>2</th>\n",
       "      <td>realme 9i</td>\n",
       "      <td>11099</td>\n",
       "      <td>16999</td>\n",
       "      <td>5900</td>\n",
       "      <td>34.71</td>\n",
       "      <td>4.5</td>\n",
       "      <td>88001</td>\n",
       "      <td>4862</td>\n",
       "      <td>4 GB RAM | 128 GB ROM | Expandable Upto 1 TB16...</td>\n",
       "      <td>Prism Black</td>\n",
       "      <td>128 GB</td>\n",
       "    </tr>\n",
       "    <tr>\n",
       "      <th>3</th>\n",
       "      <td>realme 9i</td>\n",
       "      <td>11099</td>\n",
       "      <td>16999</td>\n",
       "      <td>5900</td>\n",
       "      <td>34.71</td>\n",
       "      <td>4.5</td>\n",
       "      <td>88001</td>\n",
       "      <td>4862</td>\n",
       "      <td>4 GB RAM | 128 GB ROM | Expandable Upto 1 TB16...</td>\n",
       "      <td>Prism Blue</td>\n",
       "      <td>128 GB</td>\n",
       "    </tr>\n",
       "    <tr>\n",
       "      <th>4</th>\n",
       "      <td>realme C31</td>\n",
       "      <td>9999</td>\n",
       "      <td>11999</td>\n",
       "      <td>2000</td>\n",
       "      <td>16.67</td>\n",
       "      <td>4.4</td>\n",
       "      <td>35514</td>\n",
       "      <td>1799</td>\n",
       "      <td>4 GB RAM | 64 GB ROM | Expandable Upto 1 TB16....</td>\n",
       "      <td>Dark Green</td>\n",
       "      <td>64 GB</td>\n",
       "    </tr>\n",
       "  </tbody>\n",
       "</table>\n",
       "</div>"
      ],
      "text/plain": [
       "          Name  Sale_Price  Actual_price  Discount_Price  Discount(%)  \\\n",
       "0     IAIR D23        1097          1099               2         0.18   \n",
       "1     IAIR D10        1161          1199              38         3.17   \n",
       "2   realme 9i        11099         16999            5900        34.71   \n",
       "3   realme 9i        11099         16999            5900        34.71   \n",
       "4  realme C31         9999         11999            2000        16.67   \n",
       "\n",
       "   Ratings  Rating_Counts  Review_Counts  \\\n",
       "0      4.3             42             12   \n",
       "1      4.0             37             19   \n",
       "2      4.5          88001           4862   \n",
       "3      4.5          88001           4862   \n",
       "4      4.4          35514           1799   \n",
       "\n",
       "                                     Product_Details        Color  \\\n",
       "0  32 MB RAM | 32 MB ROM4.5 cm (1.77 inch) NA Dis...          NaN   \n",
       "1  32 MB RAM | 32 MB ROM4.5 cm (1.77 inch) Displa...          NaN   \n",
       "2  4 GB RAM | 128 GB ROM | Expandable Upto 1 TB16...  Prism Black   \n",
       "3  4 GB RAM | 128 GB ROM | Expandable Upto 1 TB16...   Prism Blue   \n",
       "4  4 GB RAM | 64 GB ROM | Expandable Upto 1 TB16....   Dark Green   \n",
       "\n",
       "  Internal_storage  \n",
       "0              NaN  \n",
       "1              NaN  \n",
       "2           128 GB  \n",
       "3           128 GB  \n",
       "4            64 GB  "
      ]
     },
     "execution_count": 20,
     "metadata": {},
     "output_type": "execute_result"
    }
   ],
   "source": [
    "df_new.head()"
   ]
  },
  {
   "cell_type": "code",
   "execution_count": 21,
   "id": "a3f60735",
   "metadata": {},
   "outputs": [
    {
     "data": {
      "text/plain": [
       "831"
      ]
     },
     "execution_count": 21,
     "metadata": {},
     "output_type": "execute_result"
    }
   ],
   "source": [
    "984-153    # all the duplicated values were removed."
   ]
  },
  {
   "cell_type": "code",
   "execution_count": 22,
   "id": "4a2ac5cb",
   "metadata": {},
   "outputs": [
    {
     "data": {
      "text/html": [
       "<div>\n",
       "<style scoped>\n",
       "    .dataframe tbody tr th:only-of-type {\n",
       "        vertical-align: middle;\n",
       "    }\n",
       "\n",
       "    .dataframe tbody tr th {\n",
       "        vertical-align: top;\n",
       "    }\n",
       "\n",
       "    .dataframe thead th {\n",
       "        text-align: right;\n",
       "    }\n",
       "</style>\n",
       "<table border=\"1\" class=\"dataframe\">\n",
       "  <thead>\n",
       "    <tr style=\"text-align: right;\">\n",
       "      <th></th>\n",
       "      <th>Name</th>\n",
       "      <th>Sale_Price</th>\n",
       "      <th>Actual_price</th>\n",
       "      <th>Discount_Price</th>\n",
       "      <th>Discount(%)</th>\n",
       "      <th>Ratings</th>\n",
       "      <th>Rating_Counts</th>\n",
       "      <th>Review_Counts</th>\n",
       "      <th>Product_Details</th>\n",
       "      <th>Color</th>\n",
       "      <th>Internal_storage</th>\n",
       "    </tr>\n",
       "  </thead>\n",
       "  <tbody>\n",
       "    <tr>\n",
       "      <th>0</th>\n",
       "      <td>IAIR D23</td>\n",
       "      <td>1097</td>\n",
       "      <td>1099</td>\n",
       "      <td>2</td>\n",
       "      <td>0.18</td>\n",
       "      <td>4.3</td>\n",
       "      <td>42</td>\n",
       "      <td>12</td>\n",
       "      <td>32 MB RAM | 32 MB ROM4.5 cm (1.77 inch) NA Dis...</td>\n",
       "      <td>NaN</td>\n",
       "      <td>NaN</td>\n",
       "    </tr>\n",
       "    <tr>\n",
       "      <th>1</th>\n",
       "      <td>IAIR D10</td>\n",
       "      <td>1161</td>\n",
       "      <td>1199</td>\n",
       "      <td>38</td>\n",
       "      <td>3.17</td>\n",
       "      <td>4.0</td>\n",
       "      <td>37</td>\n",
       "      <td>19</td>\n",
       "      <td>32 MB RAM | 32 MB ROM4.5 cm (1.77 inch) Displa...</td>\n",
       "      <td>NaN</td>\n",
       "      <td>NaN</td>\n",
       "    </tr>\n",
       "    <tr>\n",
       "      <th>2</th>\n",
       "      <td>realme 9i</td>\n",
       "      <td>11099</td>\n",
       "      <td>16999</td>\n",
       "      <td>5900</td>\n",
       "      <td>34.71</td>\n",
       "      <td>4.5</td>\n",
       "      <td>88001</td>\n",
       "      <td>4862</td>\n",
       "      <td>4 GB RAM | 128 GB ROM | Expandable Upto 1 TB16...</td>\n",
       "      <td>Prism Black</td>\n",
       "      <td>128 GB</td>\n",
       "    </tr>\n",
       "    <tr>\n",
       "      <th>3</th>\n",
       "      <td>realme 9i</td>\n",
       "      <td>11099</td>\n",
       "      <td>16999</td>\n",
       "      <td>5900</td>\n",
       "      <td>34.71</td>\n",
       "      <td>4.5</td>\n",
       "      <td>88001</td>\n",
       "      <td>4862</td>\n",
       "      <td>4 GB RAM | 128 GB ROM | Expandable Upto 1 TB16...</td>\n",
       "      <td>Prism Blue</td>\n",
       "      <td>128 GB</td>\n",
       "    </tr>\n",
       "    <tr>\n",
       "      <th>4</th>\n",
       "      <td>realme C31</td>\n",
       "      <td>9999</td>\n",
       "      <td>11999</td>\n",
       "      <td>2000</td>\n",
       "      <td>16.67</td>\n",
       "      <td>4.4</td>\n",
       "      <td>35514</td>\n",
       "      <td>1799</td>\n",
       "      <td>4 GB RAM | 64 GB ROM | Expandable Upto 1 TB16....</td>\n",
       "      <td>Dark Green</td>\n",
       "      <td>64 GB</td>\n",
       "    </tr>\n",
       "  </tbody>\n",
       "</table>\n",
       "</div>"
      ],
      "text/plain": [
       "          Name  Sale_Price  Actual_price  Discount_Price  Discount(%)  \\\n",
       "0     IAIR D23        1097          1099               2         0.18   \n",
       "1     IAIR D10        1161          1199              38         3.17   \n",
       "2   realme 9i        11099         16999            5900        34.71   \n",
       "3   realme 9i        11099         16999            5900        34.71   \n",
       "4  realme C31         9999         11999            2000        16.67   \n",
       "\n",
       "   Ratings  Rating_Counts  Review_Counts  \\\n",
       "0      4.3             42             12   \n",
       "1      4.0             37             19   \n",
       "2      4.5          88001           4862   \n",
       "3      4.5          88001           4862   \n",
       "4      4.4          35514           1799   \n",
       "\n",
       "                                     Product_Details        Color  \\\n",
       "0  32 MB RAM | 32 MB ROM4.5 cm (1.77 inch) NA Dis...          NaN   \n",
       "1  32 MB RAM | 32 MB ROM4.5 cm (1.77 inch) Displa...          NaN   \n",
       "2  4 GB RAM | 128 GB ROM | Expandable Upto 1 TB16...  Prism Black   \n",
       "3  4 GB RAM | 128 GB ROM | Expandable Upto 1 TB16...   Prism Blue   \n",
       "4  4 GB RAM | 64 GB ROM | Expandable Upto 1 TB16....   Dark Green   \n",
       "\n",
       "  Internal_storage  \n",
       "0              NaN  \n",
       "1              NaN  \n",
       "2           128 GB  \n",
       "3           128 GB  \n",
       "4            64 GB  "
      ]
     },
     "execution_count": 22,
     "metadata": {},
     "output_type": "execute_result"
    }
   ],
   "source": [
    "df.head()"
   ]
  },
  {
   "cell_type": "markdown",
   "id": "80070c16",
   "metadata": {},
   "source": [
    "## Segregating the Product Details into Each columns:"
   ]
  },
  {
   "cell_type": "markdown",
   "id": "2c60ee19",
   "metadata": {},
   "source": [
    "#### Warrenty:"
   ]
  },
  {
   "cell_type": "code",
   "execution_count": 23,
   "id": "94c54894",
   "metadata": {},
   "outputs": [
    {
     "data": {
      "text/plain": [
       "'32 MB RAM | 32 MB ROM4.5 cm (1.77 inch) NA Display0.8MP Rear Camera1200 mAh Battery1 Year manufacturer warranty for device and 6 months manufacturer warranty for in-box accessories including batteries from the date of purchase'"
      ]
     },
     "execution_count": 23,
     "metadata": {},
     "output_type": "execute_result"
    }
   ],
   "source": [
    "df_new['Product_Details'][0]"
   ]
  },
  {
   "cell_type": "code",
   "execution_count": 24,
   "id": "5bb5037b",
   "metadata": {},
   "outputs": [],
   "source": [
    "df_new['Warranty'] = df_new['Product_Details'].str.split('Battery').str[1]\n",
    "df_new['Product_Details'] = df_new['Product_Details'].str.split('Battery').str[0]                         "
   ]
  },
  {
   "cell_type": "code",
   "execution_count": 25,
   "id": "802bd857",
   "metadata": {},
   "outputs": [
    {
     "data": {
      "text/html": [
       "<div>\n",
       "<style scoped>\n",
       "    .dataframe tbody tr th:only-of-type {\n",
       "        vertical-align: middle;\n",
       "    }\n",
       "\n",
       "    .dataframe tbody tr th {\n",
       "        vertical-align: top;\n",
       "    }\n",
       "\n",
       "    .dataframe thead th {\n",
       "        text-align: right;\n",
       "    }\n",
       "</style>\n",
       "<table border=\"1\" class=\"dataframe\">\n",
       "  <thead>\n",
       "    <tr style=\"text-align: right;\">\n",
       "      <th></th>\n",
       "      <th>Name</th>\n",
       "      <th>Sale_Price</th>\n",
       "      <th>Actual_price</th>\n",
       "      <th>Discount_Price</th>\n",
       "      <th>Discount(%)</th>\n",
       "      <th>Ratings</th>\n",
       "      <th>Rating_Counts</th>\n",
       "      <th>Review_Counts</th>\n",
       "      <th>Product_Details</th>\n",
       "      <th>Color</th>\n",
       "      <th>Internal_storage</th>\n",
       "      <th>Warranty</th>\n",
       "    </tr>\n",
       "  </thead>\n",
       "  <tbody>\n",
       "    <tr>\n",
       "      <th>0</th>\n",
       "      <td>IAIR D23</td>\n",
       "      <td>1097</td>\n",
       "      <td>1099</td>\n",
       "      <td>2</td>\n",
       "      <td>0.18</td>\n",
       "      <td>4.3</td>\n",
       "      <td>42</td>\n",
       "      <td>12</td>\n",
       "      <td>32 MB RAM | 32 MB ROM4.5 cm (1.77 inch) NA Dis...</td>\n",
       "      <td>NaN</td>\n",
       "      <td>NaN</td>\n",
       "      <td>1 Year manufacturer warranty for device and 6 ...</td>\n",
       "    </tr>\n",
       "  </tbody>\n",
       "</table>\n",
       "</div>"
      ],
      "text/plain": [
       "       Name  Sale_Price  Actual_price  Discount_Price  Discount(%)  Ratings  \\\n",
       "0  IAIR D23        1097          1099               2         0.18      4.3   \n",
       "\n",
       "   Rating_Counts  Review_Counts  \\\n",
       "0             42             12   \n",
       "\n",
       "                                     Product_Details Color Internal_storage  \\\n",
       "0  32 MB RAM | 32 MB ROM4.5 cm (1.77 inch) NA Dis...   NaN              NaN   \n",
       "\n",
       "                                            Warranty  \n",
       "0  1 Year manufacturer warranty for device and 6 ...  "
      ]
     },
     "execution_count": 25,
     "metadata": {},
     "output_type": "execute_result"
    }
   ],
   "source": [
    "df_new.head(1)"
   ]
  },
  {
   "cell_type": "code",
   "execution_count": 26,
   "id": "b22585d9",
   "metadata": {},
   "outputs": [
    {
     "data": {
      "text/plain": [
       "'32 MB RAM | 32 MB ROM4.5 cm (1.77 inch) NA Display0.8MP Rear Camera1200 mAh '"
      ]
     },
     "execution_count": 26,
     "metadata": {},
     "output_type": "execute_result"
    }
   ],
   "source": [
    "df_new['Product_Details'][0]"
   ]
  },
  {
   "cell_type": "markdown",
   "id": "991fb747",
   "metadata": {},
   "source": [
    "#### Battery:"
   ]
  },
  {
   "cell_type": "code",
   "execution_count": 27,
   "id": "0e693a93",
   "metadata": {},
   "outputs": [],
   "source": [
    "df_new['Battery'] = df_new['Product_Details'].str.split('Camera').str[1]\n",
    "df_new['Product_Details'] = df_new['Product_Details'].str.split('Camera').str[0]"
   ]
  },
  {
   "cell_type": "code",
   "execution_count": 28,
   "id": "b8bbff06",
   "metadata": {},
   "outputs": [
    {
     "data": {
      "text/html": [
       "<div>\n",
       "<style scoped>\n",
       "    .dataframe tbody tr th:only-of-type {\n",
       "        vertical-align: middle;\n",
       "    }\n",
       "\n",
       "    .dataframe tbody tr th {\n",
       "        vertical-align: top;\n",
       "    }\n",
       "\n",
       "    .dataframe thead th {\n",
       "        text-align: right;\n",
       "    }\n",
       "</style>\n",
       "<table border=\"1\" class=\"dataframe\">\n",
       "  <thead>\n",
       "    <tr style=\"text-align: right;\">\n",
       "      <th></th>\n",
       "      <th>Name</th>\n",
       "      <th>Sale_Price</th>\n",
       "      <th>Actual_price</th>\n",
       "      <th>Discount_Price</th>\n",
       "      <th>Discount(%)</th>\n",
       "      <th>Ratings</th>\n",
       "      <th>Rating_Counts</th>\n",
       "      <th>Review_Counts</th>\n",
       "      <th>Product_Details</th>\n",
       "      <th>Color</th>\n",
       "      <th>Internal_storage</th>\n",
       "      <th>Warranty</th>\n",
       "      <th>Battery</th>\n",
       "    </tr>\n",
       "  </thead>\n",
       "  <tbody>\n",
       "    <tr>\n",
       "      <th>0</th>\n",
       "      <td>IAIR D23</td>\n",
       "      <td>1097</td>\n",
       "      <td>1099</td>\n",
       "      <td>2</td>\n",
       "      <td>0.18</td>\n",
       "      <td>4.3</td>\n",
       "      <td>42</td>\n",
       "      <td>12</td>\n",
       "      <td>32 MB RAM | 32 MB ROM4.5 cm (1.77 inch) NA Dis...</td>\n",
       "      <td>NaN</td>\n",
       "      <td>NaN</td>\n",
       "      <td>1 Year manufacturer warranty for device and 6 ...</td>\n",
       "      <td>1200 mAh</td>\n",
       "    </tr>\n",
       "  </tbody>\n",
       "</table>\n",
       "</div>"
      ],
      "text/plain": [
       "       Name  Sale_Price  Actual_price  Discount_Price  Discount(%)  Ratings  \\\n",
       "0  IAIR D23        1097          1099               2         0.18      4.3   \n",
       "\n",
       "   Rating_Counts  Review_Counts  \\\n",
       "0             42             12   \n",
       "\n",
       "                                     Product_Details Color Internal_storage  \\\n",
       "0  32 MB RAM | 32 MB ROM4.5 cm (1.77 inch) NA Dis...   NaN              NaN   \n",
       "\n",
       "                                            Warranty    Battery  \n",
       "0  1 Year manufacturer warranty for device and 6 ...  1200 mAh   "
      ]
     },
     "execution_count": 28,
     "metadata": {},
     "output_type": "execute_result"
    }
   ],
   "source": [
    "df_new.head(1)"
   ]
  },
  {
   "cell_type": "code",
   "execution_count": 29,
   "id": "3da9e28f",
   "metadata": {},
   "outputs": [
    {
     "data": {
      "text/plain": [
       "'0 MB ROM | Expandable Upto 32 GB4.5 cm (1.77 inch) Quarter QVGA Display800 mAh Li-ion '"
      ]
     },
     "execution_count": 29,
     "metadata": {},
     "output_type": "execute_result"
    }
   ],
   "source": [
    "df_new['Product_Details'][100]"
   ]
  },
  {
   "cell_type": "markdown",
   "id": "44ddc18e",
   "metadata": {},
   "source": [
    "#### Camera:"
   ]
  },
  {
   "cell_type": "code",
   "execution_count": 30,
   "id": "d741a205",
   "metadata": {},
   "outputs": [],
   "source": [
    "df_new['Camera'] = df_new['Product_Details'].str.split('Display').str[1]\n",
    "df_new.Product_Details = df_new['Product_Details'].str.split('Display').str[0]"
   ]
  },
  {
   "cell_type": "code",
   "execution_count": 31,
   "id": "1303fc90",
   "metadata": {},
   "outputs": [
    {
     "data": {
      "text/plain": [
       "0    32 MB RAM | 32 MB ROM4.5 cm (1.77 inch) NA \n",
       "Name: Product_Details, dtype: object"
      ]
     },
     "execution_count": 31,
     "metadata": {},
     "output_type": "execute_result"
    }
   ],
   "source": [
    "df_new['Product_Details'].head(1)"
   ]
  },
  {
   "cell_type": "markdown",
   "id": "639a359d",
   "metadata": {},
   "source": [
    "#### Brand_name:"
   ]
  },
  {
   "cell_type": "code",
   "execution_count": 32,
   "id": "e5acde60",
   "metadata": {},
   "outputs": [],
   "source": [
    "df_new['Brand_name'] = df_new['Name'].str.split(' ').str[0]"
   ]
  },
  {
   "cell_type": "code",
   "execution_count": 33,
   "id": "6ffb4129",
   "metadata": {},
   "outputs": [
    {
     "data": {
      "text/html": [
       "<div>\n",
       "<style scoped>\n",
       "    .dataframe tbody tr th:only-of-type {\n",
       "        vertical-align: middle;\n",
       "    }\n",
       "\n",
       "    .dataframe tbody tr th {\n",
       "        vertical-align: top;\n",
       "    }\n",
       "\n",
       "    .dataframe thead th {\n",
       "        text-align: right;\n",
       "    }\n",
       "</style>\n",
       "<table border=\"1\" class=\"dataframe\">\n",
       "  <thead>\n",
       "    <tr style=\"text-align: right;\">\n",
       "      <th></th>\n",
       "      <th>Name</th>\n",
       "      <th>Sale_Price</th>\n",
       "      <th>Actual_price</th>\n",
       "      <th>Discount_Price</th>\n",
       "      <th>Discount(%)</th>\n",
       "      <th>Ratings</th>\n",
       "      <th>Rating_Counts</th>\n",
       "      <th>Review_Counts</th>\n",
       "      <th>Product_Details</th>\n",
       "      <th>Color</th>\n",
       "      <th>Internal_storage</th>\n",
       "      <th>Warranty</th>\n",
       "      <th>Battery</th>\n",
       "      <th>Camera</th>\n",
       "      <th>Brand_name</th>\n",
       "    </tr>\n",
       "  </thead>\n",
       "  <tbody>\n",
       "    <tr>\n",
       "      <th>0</th>\n",
       "      <td>IAIR D23</td>\n",
       "      <td>1097</td>\n",
       "      <td>1099</td>\n",
       "      <td>2</td>\n",
       "      <td>0.18</td>\n",
       "      <td>4.3</td>\n",
       "      <td>42</td>\n",
       "      <td>12</td>\n",
       "      <td>32 MB RAM | 32 MB ROM4.5 cm (1.77 inch) NA</td>\n",
       "      <td>NaN</td>\n",
       "      <td>NaN</td>\n",
       "      <td>1 Year manufacturer warranty for device and 6 ...</td>\n",
       "      <td>1200 mAh</td>\n",
       "      <td>0.8MP Rear</td>\n",
       "      <td>IAIR</td>\n",
       "    </tr>\n",
       "  </tbody>\n",
       "</table>\n",
       "</div>"
      ],
      "text/plain": [
       "       Name  Sale_Price  Actual_price  Discount_Price  Discount(%)  Ratings  \\\n",
       "0  IAIR D23        1097          1099               2         0.18      4.3   \n",
       "\n",
       "   Rating_Counts  Review_Counts                              Product_Details  \\\n",
       "0             42             12  32 MB RAM | 32 MB ROM4.5 cm (1.77 inch) NA    \n",
       "\n",
       "  Color Internal_storage                                           Warranty  \\\n",
       "0   NaN              NaN  1 Year manufacturer warranty for device and 6 ...   \n",
       "\n",
       "     Battery       Camera Brand_name  \n",
       "0  1200 mAh   0.8MP Rear        IAIR  "
      ]
     },
     "execution_count": 33,
     "metadata": {},
     "output_type": "execute_result"
    }
   ],
   "source": [
    "df_new.head(1)"
   ]
  },
  {
   "cell_type": "markdown",
   "id": "a2525f3d",
   "metadata": {},
   "source": [
    "#### Display: "
   ]
  },
  {
   "cell_type": "code",
   "execution_count": 34,
   "id": "8ed489b8",
   "metadata": {},
   "outputs": [],
   "source": [
    "df_new[\"Display\"] = df_new['Product_Details'].str.split('ROM').str[1]\n",
    "df_new[\"Product_Details\"] = df_new['Product_Details'].str.split('ROM').str[0]"
   ]
  },
  {
   "cell_type": "code",
   "execution_count": 35,
   "id": "37e1fd03",
   "metadata": {},
   "outputs": [
    {
     "data": {
      "text/html": [
       "<div>\n",
       "<style scoped>\n",
       "    .dataframe tbody tr th:only-of-type {\n",
       "        vertical-align: middle;\n",
       "    }\n",
       "\n",
       "    .dataframe tbody tr th {\n",
       "        vertical-align: top;\n",
       "    }\n",
       "\n",
       "    .dataframe thead th {\n",
       "        text-align: right;\n",
       "    }\n",
       "</style>\n",
       "<table border=\"1\" class=\"dataframe\">\n",
       "  <thead>\n",
       "    <tr style=\"text-align: right;\">\n",
       "      <th></th>\n",
       "      <th>Name</th>\n",
       "      <th>Sale_Price</th>\n",
       "      <th>Actual_price</th>\n",
       "      <th>Discount_Price</th>\n",
       "      <th>Discount(%)</th>\n",
       "      <th>Ratings</th>\n",
       "      <th>Rating_Counts</th>\n",
       "      <th>Review_Counts</th>\n",
       "      <th>Product_Details</th>\n",
       "      <th>Color</th>\n",
       "      <th>Internal_storage</th>\n",
       "      <th>Warranty</th>\n",
       "      <th>Battery</th>\n",
       "      <th>Camera</th>\n",
       "      <th>Brand_name</th>\n",
       "      <th>Display</th>\n",
       "    </tr>\n",
       "  </thead>\n",
       "  <tbody>\n",
       "    <tr>\n",
       "      <th>0</th>\n",
       "      <td>IAIR D23</td>\n",
       "      <td>1097</td>\n",
       "      <td>1099</td>\n",
       "      <td>2</td>\n",
       "      <td>0.18</td>\n",
       "      <td>4.3</td>\n",
       "      <td>42</td>\n",
       "      <td>12</td>\n",
       "      <td>32 MB RAM | 32 MB</td>\n",
       "      <td>NaN</td>\n",
       "      <td>NaN</td>\n",
       "      <td>1 Year manufacturer warranty for device and 6 ...</td>\n",
       "      <td>1200 mAh</td>\n",
       "      <td>0.8MP Rear</td>\n",
       "      <td>IAIR</td>\n",
       "      <td>4.5 cm (1.77 inch) NA</td>\n",
       "    </tr>\n",
       "  </tbody>\n",
       "</table>\n",
       "</div>"
      ],
      "text/plain": [
       "       Name  Sale_Price  Actual_price  Discount_Price  Discount(%)  Ratings  \\\n",
       "0  IAIR D23        1097          1099               2         0.18      4.3   \n",
       "\n",
       "   Rating_Counts  Review_Counts     Product_Details Color Internal_storage  \\\n",
       "0             42             12  32 MB RAM | 32 MB    NaN              NaN   \n",
       "\n",
       "                                            Warranty    Battery       Camera  \\\n",
       "0  1 Year manufacturer warranty for device and 6 ...  1200 mAh   0.8MP Rear    \n",
       "\n",
       "  Brand_name                 Display  \n",
       "0       IAIR  4.5 cm (1.77 inch) NA   "
      ]
     },
     "execution_count": 35,
     "metadata": {},
     "output_type": "execute_result"
    }
   ],
   "source": [
    "df_new.head(1)"
   ]
  },
  {
   "cell_type": "code",
   "execution_count": 36,
   "id": "dd1f2433",
   "metadata": {},
   "outputs": [
    {
     "data": {
      "text/plain": [
       "0    32 MB RAM | 32 MB \n",
       "Name: Product_Details, dtype: object"
      ]
     },
     "execution_count": 36,
     "metadata": {},
     "output_type": "execute_result"
    }
   ],
   "source": [
    "df_new['Product_Details'].head(1)"
   ]
  },
  {
   "cell_type": "markdown",
   "id": "e287bca2",
   "metadata": {},
   "source": [
    "#### RAM & ROM:"
   ]
  },
  {
   "cell_type": "code",
   "execution_count": 37,
   "id": "13684444",
   "metadata": {},
   "outputs": [],
   "source": [
    "df_new[\"ROM\"] = df_new['Product_Details'].str.split('|').str[1]\n",
    "df_new[\"Product_Details\"] = df_new['Product_Details'].str.split('|').str[0]"
   ]
  },
  {
   "cell_type": "code",
   "execution_count": 38,
   "id": "af72a7c3",
   "metadata": {},
   "outputs": [],
   "source": [
    "df_new['RAM'] = df_new['Product_Details']"
   ]
  },
  {
   "cell_type": "code",
   "execution_count": 39,
   "id": "66d1b44a",
   "metadata": {},
   "outputs": [
    {
     "data": {
      "text/html": [
       "<div>\n",
       "<style scoped>\n",
       "    .dataframe tbody tr th:only-of-type {\n",
       "        vertical-align: middle;\n",
       "    }\n",
       "\n",
       "    .dataframe tbody tr th {\n",
       "        vertical-align: top;\n",
       "    }\n",
       "\n",
       "    .dataframe thead th {\n",
       "        text-align: right;\n",
       "    }\n",
       "</style>\n",
       "<table border=\"1\" class=\"dataframe\">\n",
       "  <thead>\n",
       "    <tr style=\"text-align: right;\">\n",
       "      <th></th>\n",
       "      <th>Name</th>\n",
       "      <th>Sale_Price</th>\n",
       "      <th>Actual_price</th>\n",
       "      <th>Discount_Price</th>\n",
       "      <th>Discount(%)</th>\n",
       "      <th>Ratings</th>\n",
       "      <th>Rating_Counts</th>\n",
       "      <th>Review_Counts</th>\n",
       "      <th>Product_Details</th>\n",
       "      <th>Color</th>\n",
       "      <th>Internal_storage</th>\n",
       "      <th>Warranty</th>\n",
       "      <th>Battery</th>\n",
       "      <th>Camera</th>\n",
       "      <th>Brand_name</th>\n",
       "      <th>Display</th>\n",
       "      <th>ROM</th>\n",
       "      <th>RAM</th>\n",
       "    </tr>\n",
       "  </thead>\n",
       "  <tbody>\n",
       "    <tr>\n",
       "      <th>0</th>\n",
       "      <td>IAIR D23</td>\n",
       "      <td>1097</td>\n",
       "      <td>1099</td>\n",
       "      <td>2</td>\n",
       "      <td>0.18</td>\n",
       "      <td>4.3</td>\n",
       "      <td>42</td>\n",
       "      <td>12</td>\n",
       "      <td>32 MB RAM</td>\n",
       "      <td>NaN</td>\n",
       "      <td>NaN</td>\n",
       "      <td>1 Year manufacturer warranty for device and 6 ...</td>\n",
       "      <td>1200 mAh</td>\n",
       "      <td>0.8MP Rear</td>\n",
       "      <td>IAIR</td>\n",
       "      <td>4.5 cm (1.77 inch) NA</td>\n",
       "      <td>32 MB</td>\n",
       "      <td>32 MB RAM</td>\n",
       "    </tr>\n",
       "  </tbody>\n",
       "</table>\n",
       "</div>"
      ],
      "text/plain": [
       "       Name  Sale_Price  Actual_price  Discount_Price  Discount(%)  Ratings  \\\n",
       "0  IAIR D23        1097          1099               2         0.18      4.3   \n",
       "\n",
       "   Rating_Counts  Review_Counts Product_Details Color Internal_storage  \\\n",
       "0             42             12      32 MB RAM    NaN              NaN   \n",
       "\n",
       "                                            Warranty    Battery       Camera  \\\n",
       "0  1 Year manufacturer warranty for device and 6 ...  1200 mAh   0.8MP Rear    \n",
       "\n",
       "  Brand_name                 Display      ROM         RAM  \n",
       "0       IAIR  4.5 cm (1.77 inch) NA    32 MB   32 MB RAM   "
      ]
     },
     "execution_count": 39,
     "metadata": {},
     "output_type": "execute_result"
    }
   ],
   "source": [
    "df_new.head(1)"
   ]
  },
  {
   "cell_type": "markdown",
   "id": "3f73cc31",
   "metadata": {},
   "source": [
    "#### Droping the unwanted columns:"
   ]
  },
  {
   "cell_type": "code",
   "execution_count": 40,
   "id": "1924020f",
   "metadata": {},
   "outputs": [],
   "source": [
    "df_new.drop(['Product_Details','Internal_storage'],axis = 1, inplace = True)"
   ]
  },
  {
   "cell_type": "code",
   "execution_count": 41,
   "id": "01b80211",
   "metadata": {},
   "outputs": [],
   "source": [
    "df_new.drop(['Warranty','Battery','Camera','Display'],axis = 1, inplace = True)"
   ]
  },
  {
   "cell_type": "code",
   "execution_count": 42,
   "id": "3aba1432",
   "metadata": {},
   "outputs": [
    {
     "data": {
      "text/html": [
       "<div>\n",
       "<style scoped>\n",
       "    .dataframe tbody tr th:only-of-type {\n",
       "        vertical-align: middle;\n",
       "    }\n",
       "\n",
       "    .dataframe tbody tr th {\n",
       "        vertical-align: top;\n",
       "    }\n",
       "\n",
       "    .dataframe thead th {\n",
       "        text-align: right;\n",
       "    }\n",
       "</style>\n",
       "<table border=\"1\" class=\"dataframe\">\n",
       "  <thead>\n",
       "    <tr style=\"text-align: right;\">\n",
       "      <th></th>\n",
       "      <th>Name</th>\n",
       "      <th>Sale_Price</th>\n",
       "      <th>Actual_price</th>\n",
       "      <th>Discount_Price</th>\n",
       "      <th>Discount(%)</th>\n",
       "      <th>Ratings</th>\n",
       "      <th>Rating_Counts</th>\n",
       "      <th>Review_Counts</th>\n",
       "      <th>Color</th>\n",
       "      <th>Brand_name</th>\n",
       "      <th>ROM</th>\n",
       "      <th>RAM</th>\n",
       "    </tr>\n",
       "  </thead>\n",
       "  <tbody>\n",
       "    <tr>\n",
       "      <th>0</th>\n",
       "      <td>IAIR D23</td>\n",
       "      <td>1097</td>\n",
       "      <td>1099</td>\n",
       "      <td>2</td>\n",
       "      <td>0.18</td>\n",
       "      <td>4.3</td>\n",
       "      <td>42</td>\n",
       "      <td>12</td>\n",
       "      <td>NaN</td>\n",
       "      <td>IAIR</td>\n",
       "      <td>32 MB</td>\n",
       "      <td>32 MB RAM</td>\n",
       "    </tr>\n",
       "  </tbody>\n",
       "</table>\n",
       "</div>"
      ],
      "text/plain": [
       "       Name  Sale_Price  Actual_price  Discount_Price  Discount(%)  Ratings  \\\n",
       "0  IAIR D23        1097          1099               2         0.18      4.3   \n",
       "\n",
       "   Rating_Counts  Review_Counts Color Brand_name      ROM         RAM  \n",
       "0             42             12   NaN       IAIR   32 MB   32 MB RAM   "
      ]
     },
     "execution_count": 42,
     "metadata": {},
     "output_type": "execute_result"
    }
   ],
   "source": [
    "df_new.head(1)"
   ]
  },
  {
   "cell_type": "code",
   "execution_count": 43,
   "id": "2fb9c015",
   "metadata": {},
   "outputs": [],
   "source": [
    "df_new['RAM'] = df_new['RAM'].str.replace('RAM', '')"
   ]
  },
  {
   "cell_type": "markdown",
   "id": "5e6062e6",
   "metadata": {},
   "source": [
    "# Finding the missing values:"
   ]
  },
  {
   "cell_type": "code",
   "execution_count": 44,
   "id": "00c550b3",
   "metadata": {},
   "outputs": [],
   "source": [
    "count_of_MV = df_new.isnull().sum()\n",
    "percent_of_MV = df_new.isnull().mean()"
   ]
  },
  {
   "cell_type": "code",
   "execution_count": 45,
   "id": "65cb56c5",
   "metadata": {},
   "outputs": [
    {
     "data": {
      "text/plain": [
       "Name                0\n",
       "Sale_Price          0\n",
       "Actual_price        0\n",
       "Discount_Price      0\n",
       "Discount(%)         0\n",
       "Ratings             0\n",
       "Rating_Counts       0\n",
       "Review_Counts       0\n",
       "Color             193\n",
       "Brand_name          0\n",
       "ROM                55\n",
       "RAM                 0\n",
       "dtype: int64"
      ]
     },
     "execution_count": 45,
     "metadata": {},
     "output_type": "execute_result"
    }
   ],
   "source": [
    "count_of_MV"
   ]
  },
  {
   "cell_type": "code",
   "execution_count": 46,
   "id": "fb5fdbe1",
   "metadata": {},
   "outputs": [
    {
     "data": {
      "text/plain": [
       "Name              0.000000\n",
       "Sale_Price        0.000000\n",
       "Actual_price      0.000000\n",
       "Discount_Price    0.000000\n",
       "Discount(%)       0.000000\n",
       "Ratings           0.000000\n",
       "Rating_Counts     0.000000\n",
       "Review_Counts     0.000000\n",
       "Color             0.232250\n",
       "Brand_name        0.000000\n",
       "ROM               0.066185\n",
       "RAM               0.000000\n",
       "dtype: float64"
      ]
     },
     "execution_count": 46,
     "metadata": {},
     "output_type": "execute_result"
    }
   ],
   "source": [
    "percent_of_MV"
   ]
  },
  {
   "cell_type": "code",
   "execution_count": 47,
   "id": "c5469abc",
   "metadata": {},
   "outputs": [
    {
     "data": {
      "text/plain": [
       "<AxesSubplot:>"
      ]
     },
     "execution_count": 47,
     "metadata": {},
     "output_type": "execute_result"
    },
    {
     "data": {
      "image/png": "[encoded data removed]",
      "text/plain": [
       "<Figure size 864x432 with 1 Axes>"
      ]
     },
     "metadata": {
      "needs_background": "light"
     },
     "output_type": "display_data"
    }
   ],
   "source": [
    "mat.rcParams['figure.figsize'] = (12,6)\n",
    "sns.heatmap(df_new.isnull(),yticklabels = False,cbar = False, cmap = 'viridis')"
   ]
  },
  {
   "cell_type": "raw",
   "id": "ad60afea",
   "metadata": {},
   "source": [
    "As per the plot Colors and Internal storage column has the more no. of missing values and the percentage of their missing values is 23% and 24% respectively. "
   ]
  },
  {
   "cell_type": "raw",
   "id": "fc2177e2",
   "metadata": {},
   "source": [
    "As per the ideas missing values in the field of Color and internal storage is like not mentioned them. So replacing them will not mention will be the perfect one."
   ]
  },
  {
   "cell_type": "markdown",
   "id": "d2a6a77f",
   "metadata": {},
   "source": [
    "###### Replacing the Missing values:"
   ]
  },
  {
   "cell_type": "code",
   "execution_count": 48,
   "id": "c23f338f",
   "metadata": {},
   "outputs": [],
   "source": [
    "final_df = df_new.fillna('Not Mentioned')"
   ]
  },
  {
   "cell_type": "code",
   "execution_count": 49,
   "id": "85f15778",
   "metadata": {},
   "outputs": [
    {
     "data": {
      "text/plain": [
       "Name              0\n",
       "Sale_Price        0\n",
       "Actual_price      0\n",
       "Discount_Price    0\n",
       "Discount(%)       0\n",
       "Ratings           0\n",
       "Rating_Counts     0\n",
       "Review_Counts     0\n",
       "Color             0\n",
       "Brand_name        0\n",
       "ROM               0\n",
       "RAM               0\n",
       "dtype: int64"
      ]
     },
     "execution_count": 49,
     "metadata": {},
     "output_type": "execute_result"
    }
   ],
   "source": [
    "final_df.isnull().sum()"
   ]
  },
  {
   "cell_type": "code",
   "execution_count": 50,
   "id": "88708eb0",
   "metadata": {},
   "outputs": [
    {
     "data": {
      "text/html": [
       "<div>\n",
       "<style scoped>\n",
       "    .dataframe tbody tr th:only-of-type {\n",
       "        vertical-align: middle;\n",
       "    }\n",
       "\n",
       "    .dataframe tbody tr th {\n",
       "        vertical-align: top;\n",
       "    }\n",
       "\n",
       "    .dataframe thead th {\n",
       "        text-align: right;\n",
       "    }\n",
       "</style>\n",
       "<table border=\"1\" class=\"dataframe\">\n",
       "  <thead>\n",
       "    <tr style=\"text-align: right;\">\n",
       "      <th></th>\n",
       "      <th>Name</th>\n",
       "      <th>Sale_Price</th>\n",
       "      <th>Actual_price</th>\n",
       "      <th>Discount_Price</th>\n",
       "      <th>Discount(%)</th>\n",
       "      <th>Ratings</th>\n",
       "      <th>Rating_Counts</th>\n",
       "      <th>Review_Counts</th>\n",
       "      <th>Color</th>\n",
       "      <th>Brand_name</th>\n",
       "      <th>ROM</th>\n",
       "      <th>RAM</th>\n",
       "    </tr>\n",
       "  </thead>\n",
       "  <tbody>\n",
       "    <tr>\n",
       "      <th>0</th>\n",
       "      <td>IAIR D23</td>\n",
       "      <td>1097</td>\n",
       "      <td>1099</td>\n",
       "      <td>2</td>\n",
       "      <td>0.18</td>\n",
       "      <td>4.3</td>\n",
       "      <td>42</td>\n",
       "      <td>12</td>\n",
       "      <td>Not Mentioned</td>\n",
       "      <td>IAIR</td>\n",
       "      <td>32 MB</td>\n",
       "      <td>32 MB</td>\n",
       "    </tr>\n",
       "    <tr>\n",
       "      <th>1</th>\n",
       "      <td>IAIR D10</td>\n",
       "      <td>1161</td>\n",
       "      <td>1199</td>\n",
       "      <td>38</td>\n",
       "      <td>3.17</td>\n",
       "      <td>4.0</td>\n",
       "      <td>37</td>\n",
       "      <td>19</td>\n",
       "      <td>Not Mentioned</td>\n",
       "      <td>IAIR</td>\n",
       "      <td>32 MB</td>\n",
       "      <td>32 MB</td>\n",
       "    </tr>\n",
       "    <tr>\n",
       "      <th>2</th>\n",
       "      <td>realme 9i</td>\n",
       "      <td>11099</td>\n",
       "      <td>16999</td>\n",
       "      <td>5900</td>\n",
       "      <td>34.71</td>\n",
       "      <td>4.5</td>\n",
       "      <td>88001</td>\n",
       "      <td>4862</td>\n",
       "      <td>Prism Black</td>\n",
       "      <td>realme</td>\n",
       "      <td>128 GB</td>\n",
       "      <td>4 GB</td>\n",
       "    </tr>\n",
       "    <tr>\n",
       "      <th>3</th>\n",
       "      <td>realme 9i</td>\n",
       "      <td>11099</td>\n",
       "      <td>16999</td>\n",
       "      <td>5900</td>\n",
       "      <td>34.71</td>\n",
       "      <td>4.5</td>\n",
       "      <td>88001</td>\n",
       "      <td>4862</td>\n",
       "      <td>Prism Blue</td>\n",
       "      <td>realme</td>\n",
       "      <td>128 GB</td>\n",
       "      <td>4 GB</td>\n",
       "    </tr>\n",
       "    <tr>\n",
       "      <th>4</th>\n",
       "      <td>realme C31</td>\n",
       "      <td>9999</td>\n",
       "      <td>11999</td>\n",
       "      <td>2000</td>\n",
       "      <td>16.67</td>\n",
       "      <td>4.4</td>\n",
       "      <td>35514</td>\n",
       "      <td>1799</td>\n",
       "      <td>Dark Green</td>\n",
       "      <td>realme</td>\n",
       "      <td>64 GB</td>\n",
       "      <td>4 GB</td>\n",
       "    </tr>\n",
       "  </tbody>\n",
       "</table>\n",
       "</div>"
      ],
      "text/plain": [
       "          Name  Sale_Price  Actual_price  Discount_Price  Discount(%)  \\\n",
       "0     IAIR D23        1097          1099               2         0.18   \n",
       "1     IAIR D10        1161          1199              38         3.17   \n",
       "2   realme 9i        11099         16999            5900        34.71   \n",
       "3   realme 9i        11099         16999            5900        34.71   \n",
       "4  realme C31         9999         11999            2000        16.67   \n",
       "\n",
       "   Ratings  Rating_Counts  Review_Counts          Color Brand_name       ROM  \\\n",
       "0      4.3             42             12  Not Mentioned       IAIR    32 MB    \n",
       "1      4.0             37             19  Not Mentioned       IAIR    32 MB    \n",
       "2      4.5          88001           4862    Prism Black     realme   128 GB    \n",
       "3      4.5          88001           4862     Prism Blue     realme   128 GB    \n",
       "4      4.4          35514           1799     Dark Green     realme    64 GB    \n",
       "\n",
       "       RAM  \n",
       "0  32 MB    \n",
       "1  32 MB    \n",
       "2   4 GB    \n",
       "3   4 GB    \n",
       "4   4 GB    "
      ]
     },
     "execution_count": 50,
     "metadata": {},
     "output_type": "execute_result"
    }
   ],
   "source": [
    "final_df.head()"
   ]
  },
  {
   "cell_type": "code",
   "execution_count": 51,
   "id": "20a8574a",
   "metadata": {},
   "outputs": [],
   "source": [
    "# final_df['Warranty'] = final_df['Warranty'].str.replace('Not Mentioned', 'No Warrenty Provided')"
   ]
  },
  {
   "cell_type": "code",
   "execution_count": 52,
   "id": "6bb1a959",
   "metadata": {},
   "outputs": [],
   "source": [
    "final_df['Brand_name'] = final_df['Brand_name'].str.upper()"
   ]
  },
  {
   "cell_type": "code",
   "execution_count": 53,
   "id": "a6e8e8ef",
   "metadata": {},
   "outputs": [
    {
     "data": {
      "text/html": [
       "<div>\n",
       "<style scoped>\n",
       "    .dataframe tbody tr th:only-of-type {\n",
       "        vertical-align: middle;\n",
       "    }\n",
       "\n",
       "    .dataframe tbody tr th {\n",
       "        vertical-align: top;\n",
       "    }\n",
       "\n",
       "    .dataframe thead th {\n",
       "        text-align: right;\n",
       "    }\n",
       "</style>\n",
       "<table border=\"1\" class=\"dataframe\">\n",
       "  <thead>\n",
       "    <tr style=\"text-align: right;\">\n",
       "      <th></th>\n",
       "      <th>Name</th>\n",
       "      <th>Sale_Price</th>\n",
       "      <th>Actual_price</th>\n",
       "      <th>Discount_Price</th>\n",
       "      <th>Discount(%)</th>\n",
       "      <th>Ratings</th>\n",
       "      <th>Rating_Counts</th>\n",
       "      <th>Review_Counts</th>\n",
       "      <th>Color</th>\n",
       "      <th>Brand_name</th>\n",
       "      <th>ROM</th>\n",
       "      <th>RAM</th>\n",
       "    </tr>\n",
       "  </thead>\n",
       "  <tbody>\n",
       "    <tr>\n",
       "      <th>0</th>\n",
       "      <td>IAIR D23</td>\n",
       "      <td>1097</td>\n",
       "      <td>1099</td>\n",
       "      <td>2</td>\n",
       "      <td>0.18</td>\n",
       "      <td>4.3</td>\n",
       "      <td>42</td>\n",
       "      <td>12</td>\n",
       "      <td>Not Mentioned</td>\n",
       "      <td>IAIR</td>\n",
       "      <td>32 MB</td>\n",
       "      <td>32 MB</td>\n",
       "    </tr>\n",
       "    <tr>\n",
       "      <th>1</th>\n",
       "      <td>IAIR D10</td>\n",
       "      <td>1161</td>\n",
       "      <td>1199</td>\n",
       "      <td>38</td>\n",
       "      <td>3.17</td>\n",
       "      <td>4.0</td>\n",
       "      <td>37</td>\n",
       "      <td>19</td>\n",
       "      <td>Not Mentioned</td>\n",
       "      <td>IAIR</td>\n",
       "      <td>32 MB</td>\n",
       "      <td>32 MB</td>\n",
       "    </tr>\n",
       "    <tr>\n",
       "      <th>2</th>\n",
       "      <td>realme 9i</td>\n",
       "      <td>11099</td>\n",
       "      <td>16999</td>\n",
       "      <td>5900</td>\n",
       "      <td>34.71</td>\n",
       "      <td>4.5</td>\n",
       "      <td>88001</td>\n",
       "      <td>4862</td>\n",
       "      <td>Prism Black</td>\n",
       "      <td>REALME</td>\n",
       "      <td>128 GB</td>\n",
       "      <td>4 GB</td>\n",
       "    </tr>\n",
       "    <tr>\n",
       "      <th>3</th>\n",
       "      <td>realme 9i</td>\n",
       "      <td>11099</td>\n",
       "      <td>16999</td>\n",
       "      <td>5900</td>\n",
       "      <td>34.71</td>\n",
       "      <td>4.5</td>\n",
       "      <td>88001</td>\n",
       "      <td>4862</td>\n",
       "      <td>Prism Blue</td>\n",
       "      <td>REALME</td>\n",
       "      <td>128 GB</td>\n",
       "      <td>4 GB</td>\n",
       "    </tr>\n",
       "    <tr>\n",
       "      <th>4</th>\n",
       "      <td>realme C31</td>\n",
       "      <td>9999</td>\n",
       "      <td>11999</td>\n",
       "      <td>2000</td>\n",
       "      <td>16.67</td>\n",
       "      <td>4.4</td>\n",
       "      <td>35514</td>\n",
       "      <td>1799</td>\n",
       "      <td>Dark Green</td>\n",
       "      <td>REALME</td>\n",
       "      <td>64 GB</td>\n",
       "      <td>4 GB</td>\n",
       "    </tr>\n",
       "  </tbody>\n",
       "</table>\n",
       "</div>"
      ],
      "text/plain": [
       "          Name  Sale_Price  Actual_price  Discount_Price  Discount(%)  \\\n",
       "0     IAIR D23        1097          1099               2         0.18   \n",
       "1     IAIR D10        1161          1199              38         3.17   \n",
       "2   realme 9i        11099         16999            5900        34.71   \n",
       "3   realme 9i        11099         16999            5900        34.71   \n",
       "4  realme C31         9999         11999            2000        16.67   \n",
       "\n",
       "   Ratings  Rating_Counts  Review_Counts          Color Brand_name       ROM  \\\n",
       "0      4.3             42             12  Not Mentioned       IAIR    32 MB    \n",
       "1      4.0             37             19  Not Mentioned       IAIR    32 MB    \n",
       "2      4.5          88001           4862    Prism Black     REALME   128 GB    \n",
       "3      4.5          88001           4862     Prism Blue     REALME   128 GB    \n",
       "4      4.4          35514           1799     Dark Green     REALME    64 GB    \n",
       "\n",
       "       RAM  \n",
       "0  32 MB    \n",
       "1  32 MB    \n",
       "2   4 GB    \n",
       "3   4 GB    \n",
       "4   4 GB    "
      ]
     },
     "execution_count": 53,
     "metadata": {},
     "output_type": "execute_result"
    }
   ],
   "source": [
    "final_df.head()"
   ]
  },
  {
   "cell_type": "code",
   "execution_count": 54,
   "id": "69eefcda",
   "metadata": {},
   "outputs": [],
   "source": [
    "final_df.to_csv('Product_Final.csv')\n",
    "# This is the dataset, which is cleaned 95%.\n",
    "# This is for visualization in POWER BI."
   ]
  },
  {
   "cell_type": "markdown",
   "id": "81364f33",
   "metadata": {},
   "source": [
    "# Analysis Part:"
   ]
  },
  {
   "cell_type": "raw",
   "id": "65c64406",
   "metadata": {},
   "source": [
    "To find:\n",
    "    1. Find which rating is given to the max no. of products? \n",
    "    2. And their count\n",
    "    3. Find the highest \n",
    "               * Sale Price,\n",
    "               * Actual Price,\n",
    "               * Discount Price..\n",
    "    4. Details of the Costly mobiles of the website.\n",
    "    5. Top 10 most sale mobile Brands.\n",
    "    6. Density of the Pricre range."
   ]
  },
  {
   "cell_type": "markdown",
   "id": "491d7dce",
   "metadata": {},
   "source": [
    " ### 1.Find which rating is given to the max no. of products?"
   ]
  },
  {
   "cell_type": "code",
   "execution_count": 55,
   "id": "ce00d323",
   "metadata": {},
   "outputs": [],
   "source": [
    "Rating_values = final_df['Ratings'].value_counts().values\n",
    "Rating_index = final_df['Ratings'].value_counts().index"
   ]
  },
  {
   "cell_type": "code",
   "execution_count": 56,
   "id": "61ea4a9e",
   "metadata": {},
   "outputs": [
    {
     "data": {
      "text/plain": [
       "<AxesSubplot:>"
      ]
     },
     "execution_count": 56,
     "metadata": {},
     "output_type": "execute_result"
    },
    {
     "data": {
      "image/png": "[encoded data removed]",
      "text/plain": [
       "<Figure size 864x432 with 1 Axes>"
      ]
     },
     "metadata": {
      "needs_background": "light"
     },
     "output_type": "display_data"
    }
   ],
   "source": [
    "sns.barplot(data = final_df, x = Rating_index, y = Rating_values )"
   ]
  },
  {
   "cell_type": "raw",
   "id": "1d4f774f",
   "metadata": {},
   "source": [
    " Most of the Product got the rating of 4.2, 4.3 & 4.4 for the products.\n",
    " Let,\n",
    " a = 4.2, \n",
    " b = 4.3 & \n",
    " c = 4.4"
   ]
  },
  {
   "cell_type": "markdown",
   "id": "d7fcf0d4",
   "metadata": {},
   "source": [
    "### 2. And their count"
   ]
  },
  {
   "cell_type": "code",
   "execution_count": 57,
   "id": "640dc9b2",
   "metadata": {},
   "outputs": [],
   "source": [
    "Rating_a = final_df[final_df['Ratings'] == 4.2]\n",
    "Rating_b = final_df[final_df['Ratings'] == 4.3]\n",
    "Rating_c = final_df[final_df['Ratings'] == 4.4]"
   ]
  },
  {
   "cell_type": "code",
   "execution_count": 58,
   "id": "e5333cdd",
   "metadata": {},
   "outputs": [
    {
     "data": {
      "text/plain": [
       "182"
      ]
     },
     "execution_count": 58,
     "metadata": {},
     "output_type": "execute_result"
    }
   ],
   "source": [
    "len(Rating_a)"
   ]
  },
  {
   "cell_type": "code",
   "execution_count": 59,
   "id": "767f4315",
   "metadata": {},
   "outputs": [
    {
     "data": {
      "text/plain": [
       "166"
      ]
     },
     "execution_count": 59,
     "metadata": {},
     "output_type": "execute_result"
    }
   ],
   "source": [
    "len(Rating_b)"
   ]
  },
  {
   "cell_type": "code",
   "execution_count": 60,
   "id": "16feecf4",
   "metadata": {},
   "outputs": [
    {
     "data": {
      "text/plain": [
       "132"
      ]
     },
     "execution_count": 60,
     "metadata": {},
     "output_type": "execute_result"
    }
   ],
   "source": [
    "len(Rating_c)"
   ]
  },
  {
   "cell_type": "raw",
   "id": "75ea9efa",
   "metadata": {},
   "source": [
    "* The No. of Products got the rating '4.2' is 182.\n",
    "* The No. of Products got the rating '4.3' is 166.\n",
    "* The No. of Products got the rating '4.4' is 132."
   ]
  },
  {
   "cell_type": "markdown",
   "id": "ccdff7be",
   "metadata": {},
   "source": [
    "### 3. MAX (Sale_price, Actual_price, Discount_price):"
   ]
  },
  {
   "cell_type": "code",
   "execution_count": 61,
   "id": "714e9eba",
   "metadata": {},
   "outputs": [],
   "source": [
    "max_discount_price = final_df['Discount_Price'].max()\n",
    "max_Sale_price = final_df['Sale_Price'].max()\n",
    "max_Actual_price = final_df['Actual_price'].max()"
   ]
  },
  {
   "cell_type": "code",
   "execution_count": 62,
   "id": "72f0bea1",
   "metadata": {},
   "outputs": [
    {
     "data": {
      "text/plain": [
       "139900"
      ]
     },
     "execution_count": 62,
     "metadata": {},
     "output_type": "execute_result"
    }
   ],
   "source": [
    "max_Sale_price"
   ]
  },
  {
   "cell_type": "code",
   "execution_count": 63,
   "id": "b9949875",
   "metadata": {},
   "outputs": [
    {
     "data": {
      "text/plain": [
       "139900"
      ]
     },
     "execution_count": 63,
     "metadata": {},
     "output_type": "execute_result"
    }
   ],
   "source": [
    "max_Actual_price"
   ]
  },
  {
   "cell_type": "code",
   "execution_count": 64,
   "id": "3455fc0f",
   "metadata": {},
   "outputs": [
    {
     "data": {
      "text/plain": [
       "40000"
      ]
     },
     "execution_count": 64,
     "metadata": {},
     "output_type": "execute_result"
    }
   ],
   "source": [
    "max_discount_price"
   ]
  },
  {
   "cell_type": "markdown",
   "id": "225f1ca1",
   "metadata": {},
   "source": [
    "### 4. All the Details of the Costly mobiles in the Website:"
   ]
  },
  {
   "cell_type": "code",
   "execution_count": 65,
   "id": "7316cc2b",
   "metadata": {},
   "outputs": [
    {
     "data": {
      "text/plain": [
       "<AxesSubplot:xlabel='Name'>"
      ]
     },
     "execution_count": 65,
     "metadata": {},
     "output_type": "execute_result"
    },
    {
     "data": {
      "image/png": "[encoded data removed]",
      "text/plain": [
       "<Figure size 864x432 with 1 Axes>"
      ]
     },
     "metadata": {
      "needs_background": "light"
     },
     "output_type": "display_data"
    }
   ],
   "source": [
    "top_10_SP = final_df.groupby('Name').sum().sort_values('Sale_Price', ascending = False)\n",
    "top_10_SP.head(10).plot(kind = 'bar')"
   ]
  },
  {
   "cell_type": "raw",
   "id": "ef1c87fe",
   "metadata": {},
   "source": [
    "1. Here Apple iPhone 13 have highest Sale Price & Actual Price \n",
    "2. Apple 12 mini and 11 got the most no. of ratings."
   ]
  },
  {
   "cell_type": "markdown",
   "id": "c923d256",
   "metadata": {},
   "source": [
    "### 5. Top 10 Brand that are saled most in this Website:"
   ]
  },
  {
   "cell_type": "code",
   "execution_count": 66,
   "id": "e53551cf",
   "metadata": {},
   "outputs": [],
   "source": [
    "Top_10_Brands = final_df['Brand_name'].value_counts(ascending = False)[:10]\n",
    "tv = final_df['Brand_name'].value_counts()[:10].values\n",
    "ti = final_df['Brand_name'].value_counts()[:10].index\n",
    "\n",
    "label = []\n",
    "for i in ti:\n",
    "    label.append(i)"
   ]
  },
  {
   "cell_type": "code",
   "execution_count": 67,
   "id": "f7e5314b",
   "metadata": {},
   "outputs": [
    {
     "data": {
      "text/plain": [
       "['REALME',\n",
       " 'REDMI',\n",
       " 'SAMSUNG',\n",
       " 'VIVO',\n",
       " 'INFINIX',\n",
       " 'POCO',\n",
       " 'OPPO',\n",
       " 'KECHAODA',\n",
       " 'MOTOROLA',\n",
       " 'ITEL']"
      ]
     },
     "execution_count": 67,
     "metadata": {},
     "output_type": "execute_result"
    }
   ],
   "source": [
    "label"
   ]
  },
  {
   "cell_type": "code",
   "execution_count": 68,
   "id": "d545aac2",
   "metadata": {},
   "outputs": [
    {
     "data": {
      "image/png": "[encoded data removed]",
      "text/plain": [
       "<Figure size 864x432 with 1 Axes>"
      ]
     },
     "metadata": {},
     "output_type": "display_data"
    }
   ],
   "source": [
    "plt.pie((final_df['Brand_name'].value_counts()[:10]), labels = label, autopct = '%.0f%%', shadow = True, )\n",
    "plt.show()"
   ]
  },
  {
   "cell_type": "raw",
   "id": "e90d494f",
   "metadata": {},
   "source": [
    "Most saled Brand is REALME."
   ]
  },
  {
   "cell_type": "markdown",
   "id": "4ef97d88",
   "metadata": {},
   "source": [
    "### 6. Finding the density of The Price Range:"
   ]
  },
  {
   "cell_type": "code",
   "execution_count": 69,
   "id": "f431fbfc",
   "metadata": {},
   "outputs": [],
   "source": [
    "import warnings as ws\n",
    "ws.simplefilter(action = 'ignore', category = FutureWarning)"
   ]
  },
  {
   "cell_type": "code",
   "execution_count": 70,
   "id": "bec28f01",
   "metadata": {},
   "outputs": [
    {
     "data": {
      "text/plain": [
       "<matplotlib.legend.Legend at 0x261e5c98b20>"
      ]
     },
     "execution_count": 70,
     "metadata": {},
     "output_type": "execute_result"
    },
    {
     "data": {
      "image/png": "[encoded data removed]",
      "text/plain": [
       "<Figure size 864x432 with 1 Axes>"
      ]
     },
     "metadata": {
      "needs_background": "light"
     },
     "output_type": "display_data"
    }
   ],
   "source": [
    "a = final_df['Sale_Price']\n",
    "b = final_df['Actual_price']\n",
    "a1 = sns.distplot(a, hist = False)\n",
    "b1 = sns.distplot(b, hist = False)\n",
    "a1.legend('AS')\n"
   ]
  },
  {
   "cell_type": "raw",
   "id": "0a3ff17e",
   "metadata": {},
   "source": [
    "As per the Distplot most of the mobiles are in the range of 10,000 to 25,000."
   ]
  }
 ],
 "metadata": {
  "kernelspec": {
   "display_name": "Python 3 (ipykernel)",
   "language": "python",
   "name": "python3"
  },
  "language_info": {
   "codemirror_mode": {
    "name": "ipython",
    "version": 3
   },
   "file_extension": ".py",
   "mimetype": "text/x-python",
   "name": "python",
   "nbconvert_exporter": "python",
   "pygments_lexer": "ipython3",
   "version": "3.9.12"
  }
 },
 "nbformat": 4,
 "nbformat_minor": 5
}
